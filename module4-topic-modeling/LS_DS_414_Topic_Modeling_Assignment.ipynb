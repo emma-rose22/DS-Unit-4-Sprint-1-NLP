{
 "cells": [
  {
   "cell_type": "markdown",
   "metadata": {},
   "source": [
    "<img align=\"left\" src=\"https://lever-client-logos.s3.amazonaws.com/864372b1-534c-480e-acd5-9711f850815c-1524247202159.png\" width=200>\n",
    "<br></br>\n",
    "<br></br>\n",
    "\n",
    "# Topic Modeling\n",
    "## *Data Science Unit 4 Sprint 1 Assignment 4*\n",
    "\n",
    "Analyze a corpus of Amazon reviews from Unit 4 Sprint 1 Module 1's lecture using topic modeling: \n",
    "\n",
    "- Fit a Gensim LDA topic model on Amazon Reviews\n",
    "- Select appropriate number of topics\n",
    "- Create some dope visualization of the topics\n",
    "- Write a few bullets on your findings in markdown at the end\n",
    "- **Note**: You don't *have* to use generators for this assignment"
   ]
  },
  {
   "cell_type": "code",
   "execution_count": 2,
   "metadata": {},
   "outputs": [],
   "source": [
    "import numpy as np\n",
    "import pandas as pd\n",
    "import gensim\n",
    "import os\n",
    "import re\n",
    "\n",
    "from gensim.utils import simple_preprocess\n",
    "from gensim.parsing.preprocessing import STOPWORDS\n",
    "from gensim import corpora\n",
    "from gensim.models.ldamulticore import LdaMulticore"
   ]
  },
  {
   "cell_type": "code",
   "execution_count": 15,
   "metadata": {},
   "outputs": [],
   "source": [
    "path = './module4-topic-modeling/data/Datafiniti_Amazon_Consumer_Reviews_of_Amazon_Products_May19.csv'"
   ]
  },
  {
   "cell_type": "code",
   "execution_count": 17,
   "metadata": {},
   "outputs": [
    {
     "data": {
      "text/plain": [
       "'C:\\\\Users\\\\Emma\\\\Desktop\\\\DS-Unit-4-Sprint-1-NLP-master\\\\DS-Unit-4-Sprint-1-NLP-master\\\\module4-topic-modeling'"
      ]
     },
     "execution_count": 17,
     "metadata": {},
     "output_type": "execute_result"
    }
   ],
   "source": [
    "%pwd"
   ]
  },
  {
   "cell_type": "code",
   "execution_count": 4,
   "metadata": {},
   "outputs": [],
   "source": [
    "def gather_data(path_to_data):\n",
    "    data = []\n",
    "    for f in os.listdir(path):\n",
    "        if os.path.isdir(f) == False:\n",
    "            if f[-3:] == 'txt':\n",
    "                with open(os.path.join(path, f)) as t:\n",
    "                    text = t.read().strip('\\n')\n",
    "                    data.append(tokenize(str(text)))\n",
    "    return data                           "
   ]
  },
  {
   "cell_type": "code",
   "execution_count": 20,
   "metadata": {},
   "outputs": [],
   "source": [
    "df = pd.read_csv('Datafiniti_Amazon_Consumer_Reviews_of_Amazon_Products_May19.csv')"
   ]
  },
  {
   "cell_type": "code",
   "execution_count": 21,
   "metadata": {},
   "outputs": [
    {
     "data": {
      "text/html": [
       "<div>\n",
       "<style scoped>\n",
       "    .dataframe tbody tr th:only-of-type {\n",
       "        vertical-align: middle;\n",
       "    }\n",
       "\n",
       "    .dataframe tbody tr th {\n",
       "        vertical-align: top;\n",
       "    }\n",
       "\n",
       "    .dataframe thead th {\n",
       "        text-align: right;\n",
       "    }\n",
       "</style>\n",
       "<table border=\"1\" class=\"dataframe\">\n",
       "  <thead>\n",
       "    <tr style=\"text-align: right;\">\n",
       "      <th></th>\n",
       "      <th>id</th>\n",
       "      <th>dateAdded</th>\n",
       "      <th>dateUpdated</th>\n",
       "      <th>name</th>\n",
       "      <th>asins</th>\n",
       "      <th>brand</th>\n",
       "      <th>categories</th>\n",
       "      <th>primaryCategories</th>\n",
       "      <th>imageURLs</th>\n",
       "      <th>keys</th>\n",
       "      <th>...</th>\n",
       "      <th>reviews.didPurchase</th>\n",
       "      <th>reviews.doRecommend</th>\n",
       "      <th>reviews.id</th>\n",
       "      <th>reviews.numHelpful</th>\n",
       "      <th>reviews.rating</th>\n",
       "      <th>reviews.sourceURLs</th>\n",
       "      <th>reviews.text</th>\n",
       "      <th>reviews.title</th>\n",
       "      <th>reviews.username</th>\n",
       "      <th>sourceURLs</th>\n",
       "    </tr>\n",
       "  </thead>\n",
       "  <tbody>\n",
       "    <tr>\n",
       "      <th>0</th>\n",
       "      <td>AVpgNzjwLJeJML43Kpxn</td>\n",
       "      <td>2015-10-30T08:59:32Z</td>\n",
       "      <td>2019-04-25T09:08:16Z</td>\n",
       "      <td>AmazonBasics AAA Performance Alkaline Batterie...</td>\n",
       "      <td>B00QWO9P0O,B00LH3DMUO</td>\n",
       "      <td>Amazonbasics</td>\n",
       "      <td>AA,AAA,Health,Electronics,Health &amp; Household,C...</td>\n",
       "      <td>Health &amp; Beauty</td>\n",
       "      <td>https://images-na.ssl-images-amazon.com/images...</td>\n",
       "      <td>amazonbasics/hl002619,amazonbasicsaaaperforman...</td>\n",
       "      <td>...</td>\n",
       "      <td>NaN</td>\n",
       "      <td>NaN</td>\n",
       "      <td>NaN</td>\n",
       "      <td>NaN</td>\n",
       "      <td>3</td>\n",
       "      <td>https://www.amazon.com/product-reviews/B00QWO9...</td>\n",
       "      <td>I order 3 of them and one of the item is bad q...</td>\n",
       "      <td>... 3 of them and one of the item is bad quali...</td>\n",
       "      <td>Byger yang</td>\n",
       "      <td>https://www.barcodable.com/upc/841710106442,ht...</td>\n",
       "    </tr>\n",
       "    <tr>\n",
       "      <th>1</th>\n",
       "      <td>AVpgNzjwLJeJML43Kpxn</td>\n",
       "      <td>2015-10-30T08:59:32Z</td>\n",
       "      <td>2019-04-25T09:08:16Z</td>\n",
       "      <td>AmazonBasics AAA Performance Alkaline Batterie...</td>\n",
       "      <td>B00QWO9P0O,B00LH3DMUO</td>\n",
       "      <td>Amazonbasics</td>\n",
       "      <td>AA,AAA,Health,Electronics,Health &amp; Household,C...</td>\n",
       "      <td>Health &amp; Beauty</td>\n",
       "      <td>https://images-na.ssl-images-amazon.com/images...</td>\n",
       "      <td>amazonbasics/hl002619,amazonbasicsaaaperforman...</td>\n",
       "      <td>...</td>\n",
       "      <td>NaN</td>\n",
       "      <td>NaN</td>\n",
       "      <td>NaN</td>\n",
       "      <td>NaN</td>\n",
       "      <td>4</td>\n",
       "      <td>https://www.amazon.com/product-reviews/B00QWO9...</td>\n",
       "      <td>Bulk is always the less expensive way to go fo...</td>\n",
       "      <td>... always the less expensive way to go for pr...</td>\n",
       "      <td>ByMG</td>\n",
       "      <td>https://www.barcodable.com/upc/841710106442,ht...</td>\n",
       "    </tr>\n",
       "    <tr>\n",
       "      <th>2</th>\n",
       "      <td>AVpgNzjwLJeJML43Kpxn</td>\n",
       "      <td>2015-10-30T08:59:32Z</td>\n",
       "      <td>2019-04-25T09:08:16Z</td>\n",
       "      <td>AmazonBasics AAA Performance Alkaline Batterie...</td>\n",
       "      <td>B00QWO9P0O,B00LH3DMUO</td>\n",
       "      <td>Amazonbasics</td>\n",
       "      <td>AA,AAA,Health,Electronics,Health &amp; Household,C...</td>\n",
       "      <td>Health &amp; Beauty</td>\n",
       "      <td>https://images-na.ssl-images-amazon.com/images...</td>\n",
       "      <td>amazonbasics/hl002619,amazonbasicsaaaperforman...</td>\n",
       "      <td>...</td>\n",
       "      <td>NaN</td>\n",
       "      <td>NaN</td>\n",
       "      <td>NaN</td>\n",
       "      <td>NaN</td>\n",
       "      <td>5</td>\n",
       "      <td>https://www.amazon.com/product-reviews/B00QWO9...</td>\n",
       "      <td>Well they are not Duracell but for the price i...</td>\n",
       "      <td>... are not Duracell but for the price i am ha...</td>\n",
       "      <td>BySharon Lambert</td>\n",
       "      <td>https://www.barcodable.com/upc/841710106442,ht...</td>\n",
       "    </tr>\n",
       "    <tr>\n",
       "      <th>3</th>\n",
       "      <td>AVpgNzjwLJeJML43Kpxn</td>\n",
       "      <td>2015-10-30T08:59:32Z</td>\n",
       "      <td>2019-04-25T09:08:16Z</td>\n",
       "      <td>AmazonBasics AAA Performance Alkaline Batterie...</td>\n",
       "      <td>B00QWO9P0O,B00LH3DMUO</td>\n",
       "      <td>Amazonbasics</td>\n",
       "      <td>AA,AAA,Health,Electronics,Health &amp; Household,C...</td>\n",
       "      <td>Health &amp; Beauty</td>\n",
       "      <td>https://images-na.ssl-images-amazon.com/images...</td>\n",
       "      <td>amazonbasics/hl002619,amazonbasicsaaaperforman...</td>\n",
       "      <td>...</td>\n",
       "      <td>NaN</td>\n",
       "      <td>NaN</td>\n",
       "      <td>NaN</td>\n",
       "      <td>NaN</td>\n",
       "      <td>5</td>\n",
       "      <td>https://www.amazon.com/product-reviews/B00QWO9...</td>\n",
       "      <td>Seem to work as well as name brand batteries a...</td>\n",
       "      <td>... as well as name brand batteries at a much ...</td>\n",
       "      <td>Bymark sexson</td>\n",
       "      <td>https://www.barcodable.com/upc/841710106442,ht...</td>\n",
       "    </tr>\n",
       "    <tr>\n",
       "      <th>4</th>\n",
       "      <td>AVpgNzjwLJeJML43Kpxn</td>\n",
       "      <td>2015-10-30T08:59:32Z</td>\n",
       "      <td>2019-04-25T09:08:16Z</td>\n",
       "      <td>AmazonBasics AAA Performance Alkaline Batterie...</td>\n",
       "      <td>B00QWO9P0O,B00LH3DMUO</td>\n",
       "      <td>Amazonbasics</td>\n",
       "      <td>AA,AAA,Health,Electronics,Health &amp; Household,C...</td>\n",
       "      <td>Health &amp; Beauty</td>\n",
       "      <td>https://images-na.ssl-images-amazon.com/images...</td>\n",
       "      <td>amazonbasics/hl002619,amazonbasicsaaaperforman...</td>\n",
       "      <td>...</td>\n",
       "      <td>NaN</td>\n",
       "      <td>NaN</td>\n",
       "      <td>NaN</td>\n",
       "      <td>NaN</td>\n",
       "      <td>5</td>\n",
       "      <td>https://www.amazon.com/product-reviews/B00QWO9...</td>\n",
       "      <td>These batteries are very long lasting the pric...</td>\n",
       "      <td>... batteries are very long lasting the price ...</td>\n",
       "      <td>Bylinda</td>\n",
       "      <td>https://www.barcodable.com/upc/841710106442,ht...</td>\n",
       "    </tr>\n",
       "  </tbody>\n",
       "</table>\n",
       "<p>5 rows × 24 columns</p>\n",
       "</div>"
      ],
      "text/plain": [
       "                     id             dateAdded           dateUpdated  \\\n",
       "0  AVpgNzjwLJeJML43Kpxn  2015-10-30T08:59:32Z  2019-04-25T09:08:16Z   \n",
       "1  AVpgNzjwLJeJML43Kpxn  2015-10-30T08:59:32Z  2019-04-25T09:08:16Z   \n",
       "2  AVpgNzjwLJeJML43Kpxn  2015-10-30T08:59:32Z  2019-04-25T09:08:16Z   \n",
       "3  AVpgNzjwLJeJML43Kpxn  2015-10-30T08:59:32Z  2019-04-25T09:08:16Z   \n",
       "4  AVpgNzjwLJeJML43Kpxn  2015-10-30T08:59:32Z  2019-04-25T09:08:16Z   \n",
       "\n",
       "                                                name                  asins  \\\n",
       "0  AmazonBasics AAA Performance Alkaline Batterie...  B00QWO9P0O,B00LH3DMUO   \n",
       "1  AmazonBasics AAA Performance Alkaline Batterie...  B00QWO9P0O,B00LH3DMUO   \n",
       "2  AmazonBasics AAA Performance Alkaline Batterie...  B00QWO9P0O,B00LH3DMUO   \n",
       "3  AmazonBasics AAA Performance Alkaline Batterie...  B00QWO9P0O,B00LH3DMUO   \n",
       "4  AmazonBasics AAA Performance Alkaline Batterie...  B00QWO9P0O,B00LH3DMUO   \n",
       "\n",
       "          brand                                         categories  \\\n",
       "0  Amazonbasics  AA,AAA,Health,Electronics,Health & Household,C...   \n",
       "1  Amazonbasics  AA,AAA,Health,Electronics,Health & Household,C...   \n",
       "2  Amazonbasics  AA,AAA,Health,Electronics,Health & Household,C...   \n",
       "3  Amazonbasics  AA,AAA,Health,Electronics,Health & Household,C...   \n",
       "4  Amazonbasics  AA,AAA,Health,Electronics,Health & Household,C...   \n",
       "\n",
       "  primaryCategories                                          imageURLs  \\\n",
       "0   Health & Beauty  https://images-na.ssl-images-amazon.com/images...   \n",
       "1   Health & Beauty  https://images-na.ssl-images-amazon.com/images...   \n",
       "2   Health & Beauty  https://images-na.ssl-images-amazon.com/images...   \n",
       "3   Health & Beauty  https://images-na.ssl-images-amazon.com/images...   \n",
       "4   Health & Beauty  https://images-na.ssl-images-amazon.com/images...   \n",
       "\n",
       "                                                keys  ... reviews.didPurchase  \\\n",
       "0  amazonbasics/hl002619,amazonbasicsaaaperforman...  ...                 NaN   \n",
       "1  amazonbasics/hl002619,amazonbasicsaaaperforman...  ...                 NaN   \n",
       "2  amazonbasics/hl002619,amazonbasicsaaaperforman...  ...                 NaN   \n",
       "3  amazonbasics/hl002619,amazonbasicsaaaperforman...  ...                 NaN   \n",
       "4  amazonbasics/hl002619,amazonbasicsaaaperforman...  ...                 NaN   \n",
       "\n",
       "  reviews.doRecommend reviews.id reviews.numHelpful reviews.rating  \\\n",
       "0                 NaN        NaN                NaN              3   \n",
       "1                 NaN        NaN                NaN              4   \n",
       "2                 NaN        NaN                NaN              5   \n",
       "3                 NaN        NaN                NaN              5   \n",
       "4                 NaN        NaN                NaN              5   \n",
       "\n",
       "                                  reviews.sourceURLs  \\\n",
       "0  https://www.amazon.com/product-reviews/B00QWO9...   \n",
       "1  https://www.amazon.com/product-reviews/B00QWO9...   \n",
       "2  https://www.amazon.com/product-reviews/B00QWO9...   \n",
       "3  https://www.amazon.com/product-reviews/B00QWO9...   \n",
       "4  https://www.amazon.com/product-reviews/B00QWO9...   \n",
       "\n",
       "                                        reviews.text  \\\n",
       "0  I order 3 of them and one of the item is bad q...   \n",
       "1  Bulk is always the less expensive way to go fo...   \n",
       "2  Well they are not Duracell but for the price i...   \n",
       "3  Seem to work as well as name brand batteries a...   \n",
       "4  These batteries are very long lasting the pric...   \n",
       "\n",
       "                                       reviews.title  reviews.username  \\\n",
       "0  ... 3 of them and one of the item is bad quali...        Byger yang   \n",
       "1  ... always the less expensive way to go for pr...              ByMG   \n",
       "2  ... are not Duracell but for the price i am ha...  BySharon Lambert   \n",
       "3  ... as well as name brand batteries at a much ...     Bymark sexson   \n",
       "4  ... batteries are very long lasting the price ...           Bylinda   \n",
       "\n",
       "                                          sourceURLs  \n",
       "0  https://www.barcodable.com/upc/841710106442,ht...  \n",
       "1  https://www.barcodable.com/upc/841710106442,ht...  \n",
       "2  https://www.barcodable.com/upc/841710106442,ht...  \n",
       "3  https://www.barcodable.com/upc/841710106442,ht...  \n",
       "4  https://www.barcodable.com/upc/841710106442,ht...  \n",
       "\n",
       "[5 rows x 24 columns]"
      ]
     },
     "execution_count": 21,
     "metadata": {},
     "output_type": "execute_result"
    }
   ],
   "source": [
    "df.head()"
   ]
  },
  {
   "cell_type": "code",
   "execution_count": 22,
   "metadata": {},
   "outputs": [
    {
     "data": {
      "text/plain": [
       "amazon          16153\n",
       "amazonbasics    12179\n",
       "Name: brand, dtype: int64"
      ]
     },
     "execution_count": 22,
     "metadata": {},
     "output_type": "execute_result"
    }
   ],
   "source": [
    "df['brand'] = df['brand'].apply(lambda x: x.lower())\n",
    "df['brand'].value_counts()"
   ]
  },
  {
   "cell_type": "code",
   "execution_count": 23,
   "metadata": {},
   "outputs": [
    {
     "data": {
      "text/html": [
       "<div>\n",
       "<style scoped>\n",
       "    .dataframe tbody tr th:only-of-type {\n",
       "        vertical-align: middle;\n",
       "    }\n",
       "\n",
       "    .dataframe tbody tr th {\n",
       "        vertical-align: top;\n",
       "    }\n",
       "\n",
       "    .dataframe thead th {\n",
       "        text-align: right;\n",
       "    }\n",
       "</style>\n",
       "<table border=\"1\" class=\"dataframe\">\n",
       "  <thead>\n",
       "    <tr style=\"text-align: right;\">\n",
       "      <th></th>\n",
       "      <th>id</th>\n",
       "      <th>dateAdded</th>\n",
       "      <th>dateUpdated</th>\n",
       "      <th>name</th>\n",
       "      <th>asins</th>\n",
       "      <th>brand</th>\n",
       "      <th>categories</th>\n",
       "      <th>primaryCategories</th>\n",
       "      <th>imageURLs</th>\n",
       "      <th>keys</th>\n",
       "      <th>...</th>\n",
       "      <th>reviews.didPurchase</th>\n",
       "      <th>reviews.doRecommend</th>\n",
       "      <th>reviews.id</th>\n",
       "      <th>reviews.numHelpful</th>\n",
       "      <th>reviews.rating</th>\n",
       "      <th>reviews.sourceURLs</th>\n",
       "      <th>reviews.text</th>\n",
       "      <th>reviews.title</th>\n",
       "      <th>reviews.username</th>\n",
       "      <th>sourceURLs</th>\n",
       "    </tr>\n",
       "  </thead>\n",
       "  <tbody>\n",
       "    <tr>\n",
       "      <th>0</th>\n",
       "      <td>AVpgNzjwLJeJML43Kpxn</td>\n",
       "      <td>2015-10-30T08:59:32Z</td>\n",
       "      <td>2019-04-25T09:08:16Z</td>\n",
       "      <td>AmazonBasics AAA Performance Alkaline Batterie...</td>\n",
       "      <td>B00QWO9P0O,B00LH3DMUO</td>\n",
       "      <td>amazonbasics</td>\n",
       "      <td>AA,AAA,Health,Electronics,Health &amp; Household,C...</td>\n",
       "      <td>Health &amp; Beauty</td>\n",
       "      <td>https://images-na.ssl-images-amazon.com/images...</td>\n",
       "      <td>amazonbasics/hl002619,amazonbasicsaaaperforman...</td>\n",
       "      <td>...</td>\n",
       "      <td>NaN</td>\n",
       "      <td>NaN</td>\n",
       "      <td>NaN</td>\n",
       "      <td>NaN</td>\n",
       "      <td>3</td>\n",
       "      <td>https://www.amazon.com/product-reviews/B00QWO9...</td>\n",
       "      <td>I order 3 of them and one of the item is bad q...</td>\n",
       "      <td>... 3 of them and one of the item is bad quali...</td>\n",
       "      <td>Byger yang</td>\n",
       "      <td>https://www.barcodable.com/upc/841710106442,ht...</td>\n",
       "    </tr>\n",
       "  </tbody>\n",
       "</table>\n",
       "<p>1 rows × 24 columns</p>\n",
       "</div>"
      ],
      "text/plain": [
       "                     id             dateAdded           dateUpdated  \\\n",
       "0  AVpgNzjwLJeJML43Kpxn  2015-10-30T08:59:32Z  2019-04-25T09:08:16Z   \n",
       "\n",
       "                                                name                  asins  \\\n",
       "0  AmazonBasics AAA Performance Alkaline Batterie...  B00QWO9P0O,B00LH3DMUO   \n",
       "\n",
       "          brand                                         categories  \\\n",
       "0  amazonbasics  AA,AAA,Health,Electronics,Health & Household,C...   \n",
       "\n",
       "  primaryCategories                                          imageURLs  \\\n",
       "0   Health & Beauty  https://images-na.ssl-images-amazon.com/images...   \n",
       "\n",
       "                                                keys  ... reviews.didPurchase  \\\n",
       "0  amazonbasics/hl002619,amazonbasicsaaaperforman...  ...                 NaN   \n",
       "\n",
       "  reviews.doRecommend reviews.id reviews.numHelpful reviews.rating  \\\n",
       "0                 NaN        NaN                NaN              3   \n",
       "\n",
       "                                  reviews.sourceURLs  \\\n",
       "0  https://www.amazon.com/product-reviews/B00QWO9...   \n",
       "\n",
       "                                        reviews.text  \\\n",
       "0  I order 3 of them and one of the item is bad q...   \n",
       "\n",
       "                                       reviews.title  reviews.username  \\\n",
       "0  ... 3 of them and one of the item is bad quali...        Byger yang   \n",
       "\n",
       "                                          sourceURLs  \n",
       "0  https://www.barcodable.com/upc/841710106442,ht...  \n",
       "\n",
       "[1 rows x 24 columns]"
      ]
     },
     "execution_count": 23,
     "metadata": {},
     "output_type": "execute_result"
    }
   ],
   "source": [
    "df.head(1)"
   ]
  },
  {
   "cell_type": "code",
   "execution_count": 26,
   "metadata": {},
   "outputs": [
    {
     "data": {
      "text/plain": [
       "((28332, 24),\n",
       " Index(['id', 'dateAdded', 'dateUpdated', 'name', 'asins', 'brand',\n",
       "        'categories', 'primaryCategories', 'imageURLs', 'keys', 'manufacturer',\n",
       "        'manufacturerNumber', 'reviews.date', 'reviews.dateSeen',\n",
       "        'reviews.didPurchase', 'reviews.doRecommend', 'reviews.id',\n",
       "        'reviews.numHelpful', 'reviews.rating', 'reviews.sourceURLs',\n",
       "        'reviews.text', 'reviews.title', 'reviews.username', 'sourceURLs'],\n",
       "       dtype='object'))"
      ]
     },
     "execution_count": 26,
     "metadata": {},
     "output_type": "execute_result"
    }
   ],
   "source": [
    "df.shape, df.columns"
   ]
  },
  {
   "cell_type": "markdown",
   "metadata": {},
   "source": [
    "# Fit Genism LDA topic model to Amazon reviews"
   ]
  },
  {
   "cell_type": "code",
   "execution_count": 25,
   "metadata": {},
   "outputs": [],
   "source": [
    "#first we gotta get the tokens\n",
    "#cash money \n",
    "\n",
    "STOPWORDS = set(STOPWORDS).union(set(['said', 'mr', 'mrs']))\n",
    "\n",
    "def tokenize(text):\n",
    "    return [token for token in simple_preprocess(text) if token not in STOPWORDS]"
   ]
  },
  {
   "cell_type": "code",
   "execution_count": 29,
   "metadata": {},
   "outputs": [],
   "source": [
    "#got em\n",
    "df['tokens'] = df['reviews.text'].apply(tokenize)"
   ]
  },
  {
   "cell_type": "code",
   "execution_count": 30,
   "metadata": {},
   "outputs": [],
   "source": [
    "#I am going to try the doc streaming with the yeild statement\n",
    "\n",
    "def doc_stream(path):\n",
    "    for f in os.listdir(path):\n",
    "        if os.path.isdir(f) == False:\n",
    "            if f[-3:] == 'txt':\n",
    "                with open(os.path.join(path,f)) as t:\n",
    "                    text = t.read().strp('\\n')\n",
    "                    tokens = tokenize(text)\n",
    "                yield tokens\n",
    "              "
   ]
  },
  {
   "cell_type": "code",
   "execution_count": 38,
   "metadata": {},
   "outputs": [],
   "source": [
    "streaming_data = doc_stream(df['tokens'])"
   ]
  },
  {
   "cell_type": "code",
   "execution_count": 39,
   "metadata": {},
   "outputs": [
    {
     "ename": "TypeError",
     "evalue": "listdir: path should be string, bytes, os.PathLike or None, not Series",
     "output_type": "error",
     "traceback": [
      "\u001b[1;31m---------------------------------------------------------------------------\u001b[0m",
      "\u001b[1;31mTypeError\u001b[0m                                 Traceback (most recent call last)",
      "\u001b[1;32m<ipython-input-39-696ec6b80e3c>\u001b[0m in \u001b[0;36m<module>\u001b[1;34m\u001b[0m\n\u001b[1;32m----> 1\u001b[1;33m \u001b[0mnext\u001b[0m\u001b[1;33m(\u001b[0m\u001b[0mstreaming_data\u001b[0m\u001b[1;33m)\u001b[0m\u001b[1;33m\u001b[0m\u001b[0m\n\u001b[0m\u001b[0;32m      2\u001b[0m \u001b[1;33m\u001b[0m\u001b[0m\n\u001b[0;32m      3\u001b[0m \u001b[1;31m#it isn't working since it is in a dataframe, maybe I can save the entire thing as a list?\u001b[0m\u001b[1;33m\u001b[0m\u001b[1;33m\u001b[0m\u001b[0m\n\u001b[0;32m      4\u001b[0m \u001b[1;31m#maybe this should stay a stretch goal\u001b[0m\u001b[1;33m\u001b[0m\u001b[1;33m\u001b[0m\u001b[0m\n",
      "\u001b[1;32m<ipython-input-30-3776fa05bcc9>\u001b[0m in \u001b[0;36mdoc_stream\u001b[1;34m(path)\u001b[0m\n\u001b[0;32m      2\u001b[0m \u001b[1;33m\u001b[0m\u001b[0m\n\u001b[0;32m      3\u001b[0m \u001b[1;32mdef\u001b[0m \u001b[0mdoc_stream\u001b[0m\u001b[1;33m(\u001b[0m\u001b[0mpath\u001b[0m\u001b[1;33m)\u001b[0m\u001b[1;33m:\u001b[0m\u001b[1;33m\u001b[0m\u001b[0m\n\u001b[1;32m----> 4\u001b[1;33m     \u001b[1;32mfor\u001b[0m \u001b[0mf\u001b[0m \u001b[1;32min\u001b[0m \u001b[0mos\u001b[0m\u001b[1;33m.\u001b[0m\u001b[0mlistdir\u001b[0m\u001b[1;33m(\u001b[0m\u001b[0mpath\u001b[0m\u001b[1;33m)\u001b[0m\u001b[1;33m:\u001b[0m\u001b[1;33m\u001b[0m\u001b[0m\n\u001b[0m\u001b[0;32m      5\u001b[0m         \u001b[1;32mif\u001b[0m \u001b[0mos\u001b[0m\u001b[1;33m.\u001b[0m\u001b[0mpath\u001b[0m\u001b[1;33m.\u001b[0m\u001b[0misdir\u001b[0m\u001b[1;33m(\u001b[0m\u001b[0mf\u001b[0m\u001b[1;33m)\u001b[0m \u001b[1;33m==\u001b[0m \u001b[1;32mFalse\u001b[0m\u001b[1;33m:\u001b[0m\u001b[1;33m\u001b[0m\u001b[0m\n\u001b[0;32m      6\u001b[0m             \u001b[1;32mif\u001b[0m \u001b[0mf\u001b[0m\u001b[1;33m[\u001b[0m\u001b[1;33m-\u001b[0m\u001b[1;36m3\u001b[0m\u001b[1;33m:\u001b[0m\u001b[1;33m]\u001b[0m \u001b[1;33m==\u001b[0m \u001b[1;34m'txt'\u001b[0m\u001b[1;33m:\u001b[0m\u001b[1;33m\u001b[0m\u001b[0m\n",
      "\u001b[1;31mTypeError\u001b[0m: listdir: path should be string, bytes, os.PathLike or None, not Series"
     ]
    }
   ],
   "source": [
    "next(streaming_data)\n",
    "\n",
    "#it isn't working since it is in a dataframe, maybe I can save the entire thing as a list? \n",
    "#maybe this should stay a stretch goal "
   ]
  },
  {
   "cell_type": "code",
   "execution_count": 40,
   "metadata": {},
   "outputs": [],
   "source": [
    "id2word = corpora.Dictionary(df['tokens'])"
   ]
  },
  {
   "cell_type": "code",
   "execution_count": 41,
   "metadata": {},
   "outputs": [
    {
     "data": {
      "text/plain": [
       "22"
      ]
     },
     "execution_count": 41,
     "metadata": {},
     "output_type": "execute_result"
    }
   ],
   "source": [
    "id2word.token2id['great']"
   ]
  },
  {
   "cell_type": "code",
   "execution_count": 42,
   "metadata": {},
   "outputs": [
    {
     "data": {
      "text/plain": [
       "'great'"
      ]
     },
     "execution_count": 42,
     "metadata": {},
     "output_type": "execute_result"
    }
   ],
   "source": [
    "id2word[22]\n",
    "\n",
    "#yey it worked!"
   ]
  },
  {
   "cell_type": "code",
   "execution_count": null,
   "metadata": {},
   "outputs": [],
   "source": [
    "#pshould I take out the stop words now?\n",
    "STOPWORDS\n",
    "\n",
    "#okay I forgot I took them out already, lets filter extreme values and create the corpus"
   ]
  },
  {
   "cell_type": "code",
   "execution_count": 48,
   "metadata": {},
   "outputs": [
    {
     "data": {
      "text/plain": [
       "9621"
      ]
     },
     "execution_count": 48,
     "metadata": {},
     "output_type": "execute_result"
    }
   ],
   "source": [
    "len(id2word.keys())"
   ]
  },
  {
   "cell_type": "code",
   "execution_count": 49,
   "metadata": {},
   "outputs": [],
   "source": [
    "id2word.filter_extremes(no_below=5, no_above=0.95)"
   ]
  },
  {
   "cell_type": "code",
   "execution_count": 50,
   "metadata": {},
   "outputs": [
    {
     "data": {
      "text/plain": [
       "3581"
      ]
     },
     "execution_count": 50,
     "metadata": {},
     "output_type": "execute_result"
    }
   ],
   "source": [
    "len(id2word.keys())"
   ]
  },
  {
   "cell_type": "code",
   "execution_count": 51,
   "metadata": {},
   "outputs": [],
   "source": [
    "#corpus\n",
    "\n",
    "corpus = [id2word.doc2bow(text) for text in df['tokens']]"
   ]
  },
  {
   "cell_type": "code",
   "execution_count": 52,
   "metadata": {},
   "outputs": [
    {
     "data": {
      "text/plain": [
       "[(0, 1),\n",
       " (1, 1),\n",
       " (2, 1),\n",
       " (3, 1),\n",
       " (4, 1),\n",
       " (5, 1),\n",
       " (6, 1),\n",
       " (7, 1),\n",
       " (8, 1),\n",
       " (9, 1)]"
      ]
     },
     "execution_count": 52,
     "metadata": {},
     "output_type": "execute_result"
    }
   ],
   "source": [
    "corpus[0][:10]"
   ]
  },
  {
   "cell_type": "code",
   "execution_count": 53,
   "metadata": {},
   "outputs": [],
   "source": [
    "#now we can fit the lda\n",
    "#very excite\n",
    "\n",
    "lda = LdaMulticore(corpus=corpus, #we gotta give them the bag of words\n",
    "                  id2word=id2word, #we wanna see the words\n",
    "                  random_state=42, \n",
    "                  num_topics = 10, #just gonna try ten, probably not a huge variety of reviews\n",
    "                  passes= 25, #he said to amp it up to 100, but imma start small\n",
    "                  workers=8)\n",
    "\n",
    "#ok lets go"
   ]
  },
  {
   "cell_type": "code",
   "execution_count": 54,
   "metadata": {},
   "outputs": [
    {
     "data": {
      "text/plain": [
       "[(0,\n",
       "  '0.057*\"kids\" + 0.040*\"tablet\" + 0.035*\"games\" + 0.025*\"love\" + 0.021*\"great\" + 0.020*\"apps\" + 0.017*\"play\" + 0.017*\"year\" + 0.015*\"time\" + 0.014*\"old\"'),\n",
       " (1,\n",
       "  '0.164*\"great\" + 0.129*\"price\" + 0.127*\"good\" + 0.043*\"product\" + 0.030*\"value\" + 0.027*\"quality\" + 0.023*\"deal\" + 0.020*\"buy\" + 0.020*\"works\" + 0.018*\"tablet\"'),\n",
       " (2,\n",
       "  '0.019*\"tablet\" + 0.018*\"device\" + 0.014*\"little\" + 0.012*\"like\" + 0.012*\"use\" + 0.012*\"amazon\" + 0.009*\"screen\" + 0.009*\"charging\" + 0.008*\"slow\" + 0.007*\"case\"'),\n",
       " (3,\n",
       "  '0.108*\"easy\" + 0.086*\"use\" + 0.052*\"love\" + 0.027*\"tablet\" + 0.025*\"great\" + 0.024*\"recommend\" + 0.019*\"best\" + 0.015*\"set\" + 0.015*\"product\" + 0.014*\"kindle\"'),\n",
       " (4,\n",
       "  '0.073*\"kindle\" + 0.019*\"screen\" + 0.019*\"read\" + 0.018*\"light\" + 0.018*\"love\" + 0.017*\"new\" + 0.015*\"reading\" + 0.013*\"like\" + 0.013*\"better\" + 0.011*\"reader\"'),\n",
       " (5,\n",
       "  '0.048*\"tablet\" + 0.036*\"amazon\" + 0.033*\"great\" + 0.017*\"apps\" + 0.014*\"works\" + 0.014*\"google\" + 0.014*\"prime\" + 0.013*\"play\" + 0.013*\"store\" + 0.012*\"good\"'),\n",
       " (6,\n",
       "  '0.047*\"tablet\" + 0.027*\"books\" + 0.022*\"reading\" + 0.017*\"screen\" + 0.017*\"size\" + 0.016*\"use\" + 0.016*\"great\" + 0.014*\"amazon\" + 0.014*\"read\" + 0.013*\"perfect\"'),\n",
       " (7,\n",
       "  '0.108*\"batteries\" + 0.030*\"long\" + 0.019*\"amazon\" + 0.018*\"brand\" + 0.018*\"work\" + 0.017*\"battery\" + 0.016*\"good\" + 0.015*\"price\" + 0.012*\"brands\" + 0.012*\"great\"'),\n",
       " (8,\n",
       "  '0.061*\"work\" + 0.048*\"gift\" + 0.034*\"bought\" + 0.031*\"loved\" + 0.030*\"christmas\" + 0.029*\"item\" + 0.022*\"great\" + 0.021*\"happy\" + 0.018*\"fine\" + 0.017*\"expected\"'),\n",
       " (9,\n",
       "  '0.087*\"loves\" + 0.063*\"old\" + 0.061*\"bought\" + 0.050*\"year\" + 0.048*\"tablet\" + 0.027*\"daughter\" + 0.022*\"christmas\" + 0.022*\"son\" + 0.020*\"gift\" + 0.019*\"grandson\"')]"
      ]
     },
     "execution_count": 54,
     "metadata": {},
     "output_type": "execute_result"
    }
   ],
   "source": [
    "lda.print_topics()\n",
    "\n",
    "#yey it worked"
   ]
  },
  {
   "cell_type": "code",
   "execution_count": 55,
   "metadata": {},
   "outputs": [],
   "source": [
    "#lets make it look pretty\n",
    "\n",
    "words = [re.findall(r'\"([^\"]*)\"', t[1]) for t in lda.print_topics()]\n"
   ]
  },
  {
   "cell_type": "code",
   "execution_count": 57,
   "metadata": {},
   "outputs": [],
   "source": [
    "topics = [' '.join(t[0:5]) for t in words]    print(t, end=\"\\n\\n\")\n"
   ]
  },
  {
   "cell_type": "code",
   "execution_count": 59,
   "metadata": {},
   "outputs": [
    {
     "name": "stdout",
     "output_type": "stream",
     "text": [
      "_______________Topic 0________________\n",
      "kids tablet games love great\n",
      "\n",
      "_______________Topic 1________________\n",
      "great price good product value\n",
      "\n",
      "_______________Topic 2________________\n",
      "tablet device little like use\n",
      "\n",
      "_______________Topic 3________________\n",
      "easy use love tablet great\n",
      "\n",
      "_______________Topic 4________________\n",
      "kindle screen read light love\n",
      "\n",
      "_______________Topic 5________________\n",
      "tablet amazon great apps works\n",
      "\n",
      "_______________Topic 6________________\n",
      "tablet books reading screen size\n",
      "\n",
      "_______________Topic 7________________\n",
      "batteries long amazon brand work\n",
      "\n",
      "_______________Topic 8________________\n",
      "work gift bought loved christmas\n",
      "\n",
      "_______________Topic 9________________\n",
      "loves old bought year tablet\n",
      "\n"
     ]
    }
   ],
   "source": [
    "for id, t in enumerate(topics):\n",
    "    print(f\"_______________Topic {id}________________\")\n",
    "    print(t, end=\"\\n\\n\")\n",
    "    \n",
    "\n",
    "#it seems okay, but as in the lesson we need to keep unpacking this "
   ]
  },
  {
   "cell_type": "markdown",
   "metadata": {},
   "source": [
    "# Create some dope visualization of the topics"
   ]
  },
  {
   "cell_type": "code",
   "execution_count": 60,
   "metadata": {},
   "outputs": [],
   "source": [
    "import pyLDAvis.gensim\n",
    "\n",
    "pyLDAvis.enable_notebook()"
   ]
  },
  {
   "cell_type": "code",
   "execution_count": 61,
   "metadata": {},
   "outputs": [
    {
     "name": "stderr",
     "output_type": "stream",
     "text": [
      "C:\\Users\\Emma\\.conda\\envs\\U4-S1-NLP\\lib\\site-packages\\pyLDAvis\\_prepare.py:257: FutureWarning: Sorting because non-concatenation axis is not aligned. A future version\n",
      "of pandas will change to not sort by default.\n",
      "\n",
      "To accept the future behavior, pass 'sort=False'.\n",
      "\n",
      "To retain the current behavior and silence the warning, pass 'sort=True'.\n",
      "\n",
      "  return pd.concat([default_term_info] + list(topic_dfs))\n"
     ]
    },
    {
     "data": {
      "text/html": [
       "\n",
       "<link rel=\"stylesheet\" type=\"text/css\" href=\"https://cdn.rawgit.com/bmabey/pyLDAvis/files/ldavis.v1.0.0.css\">\n",
       "\n",
       "\n",
       "<div id=\"ldavis_el1898423641566919449726328183\"></div>\n",
       "<script type=\"text/javascript\">\n",
       "\n",
       "var ldavis_el1898423641566919449726328183_data = {\"mdsDat\": {\"x\": [0.18798942409902505, -0.19691919850541162, 0.05074815428708952, 0.009160940273206597, 0.015059221961448679, 0.2198446938468839, 0.004800662445228942, -0.23830967891944244, -0.06244094184536007, 0.010066722357331621], \"y\": [-0.03990156821663597, 0.058169391175488236, 0.07547753596852304, 0.11212943954480416, 0.14205907080585675, -0.07966804511213724, 0.10401970441122065, -0.14267914857111988, 0.03746249499684452, -0.2670688750028441], \"topics\": [1, 2, 3, 4, 5, 6, 7, 8, 9, 10], \"cluster\": [1, 1, 1, 1, 1, 1, 1, 1, 1, 1], \"Freq\": [22.917118072509766, 11.703265190124512, 10.436887741088867, 9.838303565979004, 9.479207992553711, 8.765888214111328, 7.66609001159668, 7.452909469604492, 7.11655855178833, 4.623763084411621]}, \"tinfo\": {\"Category\": [\"Default\", \"Default\", \"Default\", \"Default\", \"Default\", \"Default\", \"Default\", \"Default\", \"Default\", \"Default\", \"Default\", \"Default\", \"Default\", \"Default\", \"Default\", \"Default\", \"Default\", \"Default\", \"Default\", \"Default\", \"Default\", \"Default\", \"Default\", \"Default\", \"Default\", \"Default\", \"Default\", \"Default\", \"Default\", \"Default\", \"Topic1\", \"Topic1\", \"Topic1\", \"Topic1\", \"Topic1\", \"Topic1\", \"Topic1\", \"Topic1\", \"Topic1\", \"Topic1\", \"Topic1\", \"Topic1\", \"Topic1\", \"Topic1\", \"Topic1\", \"Topic1\", \"Topic1\", \"Topic1\", \"Topic1\", \"Topic1\", \"Topic1\", \"Topic1\", \"Topic1\", \"Topic1\", \"Topic1\", \"Topic1\", \"Topic1\", \"Topic1\", \"Topic1\", \"Topic1\", \"Topic1\", \"Topic1\", \"Topic1\", \"Topic1\", \"Topic1\", \"Topic1\", \"Topic1\", \"Topic1\", \"Topic1\", \"Topic1\", \"Topic1\", \"Topic1\", \"Topic1\", \"Topic1\", \"Topic1\", \"Topic1\", \"Topic1\", \"Topic1\", \"Topic1\", \"Topic1\", \"Topic1\", \"Topic1\", \"Topic1\", \"Topic1\", \"Topic1\", \"Topic1\", \"Topic1\", \"Topic1\", \"Topic1\", \"Topic1\", \"Topic1\", \"Topic1\", \"Topic1\", \"Topic1\", \"Topic2\", \"Topic2\", \"Topic2\", \"Topic2\", \"Topic2\", \"Topic2\", \"Topic2\", \"Topic2\", \"Topic2\", \"Topic2\", \"Topic2\", \"Topic2\", \"Topic2\", \"Topic2\", \"Topic2\", \"Topic2\", \"Topic2\", \"Topic2\", \"Topic2\", \"Topic2\", \"Topic2\", \"Topic2\", \"Topic2\", \"Topic2\", \"Topic2\", \"Topic2\", \"Topic2\", \"Topic2\", \"Topic2\", \"Topic2\", \"Topic2\", \"Topic2\", \"Topic2\", \"Topic2\", \"Topic2\", \"Topic2\", \"Topic2\", \"Topic2\", \"Topic2\", \"Topic2\", \"Topic2\", \"Topic2\", \"Topic2\", \"Topic2\", \"Topic2\", \"Topic2\", \"Topic2\", \"Topic2\", \"Topic2\", \"Topic2\", \"Topic2\", \"Topic2\", \"Topic2\", \"Topic2\", \"Topic2\", \"Topic2\", \"Topic2\", \"Topic2\", \"Topic2\", \"Topic2\", \"Topic2\", \"Topic2\", \"Topic2\", \"Topic2\", \"Topic2\", \"Topic2\", \"Topic2\", \"Topic2\", \"Topic2\", \"Topic2\", \"Topic2\", \"Topic2\", \"Topic3\", \"Topic3\", \"Topic3\", \"Topic3\", \"Topic3\", \"Topic3\", \"Topic3\", \"Topic3\", \"Topic3\", \"Topic3\", \"Topic3\", \"Topic3\", \"Topic3\", \"Topic3\", \"Topic3\", \"Topic3\", \"Topic3\", \"Topic3\", \"Topic3\", \"Topic3\", \"Topic3\", \"Topic3\", \"Topic3\", \"Topic3\", \"Topic3\", \"Topic3\", \"Topic3\", \"Topic3\", \"Topic3\", \"Topic3\", \"Topic3\", \"Topic3\", \"Topic3\", \"Topic3\", \"Topic3\", \"Topic3\", \"Topic3\", \"Topic3\", \"Topic3\", \"Topic3\", \"Topic3\", \"Topic3\", \"Topic3\", \"Topic3\", \"Topic3\", \"Topic3\", \"Topic3\", \"Topic3\", \"Topic3\", \"Topic3\", \"Topic3\", \"Topic3\", \"Topic3\", \"Topic3\", \"Topic3\", \"Topic3\", \"Topic3\", \"Topic3\", \"Topic3\", \"Topic3\", \"Topic3\", \"Topic3\", \"Topic3\", \"Topic3\", \"Topic3\", \"Topic3\", \"Topic3\", \"Topic3\", \"Topic3\", \"Topic4\", \"Topic4\", \"Topic4\", \"Topic4\", \"Topic4\", \"Topic4\", \"Topic4\", \"Topic4\", \"Topic4\", \"Topic4\", \"Topic4\", \"Topic4\", \"Topic4\", \"Topic4\", \"Topic4\", \"Topic4\", \"Topic4\", \"Topic4\", \"Topic4\", \"Topic4\", \"Topic4\", \"Topic4\", \"Topic4\", \"Topic4\", \"Topic4\", \"Topic4\", \"Topic4\", \"Topic4\", \"Topic4\", \"Topic4\", \"Topic4\", \"Topic4\", \"Topic4\", \"Topic4\", \"Topic4\", \"Topic4\", \"Topic4\", \"Topic4\", \"Topic4\", \"Topic4\", \"Topic4\", \"Topic4\", \"Topic4\", \"Topic4\", \"Topic4\", \"Topic4\", \"Topic4\", \"Topic4\", \"Topic4\", \"Topic4\", \"Topic4\", \"Topic4\", \"Topic4\", \"Topic4\", \"Topic4\", \"Topic4\", \"Topic4\", \"Topic4\", \"Topic4\", \"Topic4\", \"Topic4\", \"Topic4\", \"Topic4\", \"Topic4\", \"Topic4\", \"Topic4\", \"Topic5\", \"Topic5\", \"Topic5\", \"Topic5\", \"Topic5\", \"Topic5\", \"Topic5\", \"Topic5\", \"Topic5\", \"Topic5\", \"Topic5\", \"Topic5\", \"Topic5\", \"Topic5\", \"Topic5\", \"Topic5\", \"Topic5\", \"Topic5\", \"Topic5\", \"Topic5\", \"Topic5\", \"Topic5\", \"Topic5\", \"Topic5\", \"Topic5\", \"Topic5\", \"Topic5\", \"Topic5\", \"Topic5\", \"Topic5\", \"Topic5\", \"Topic5\", \"Topic5\", \"Topic5\", \"Topic5\", \"Topic5\", \"Topic5\", \"Topic5\", \"Topic5\", \"Topic5\", \"Topic5\", \"Topic5\", \"Topic5\", \"Topic5\", \"Topic5\", \"Topic5\", \"Topic5\", \"Topic5\", \"Topic5\", \"Topic5\", \"Topic5\", \"Topic5\", \"Topic5\", \"Topic5\", \"Topic5\", \"Topic5\", \"Topic5\", \"Topic5\", \"Topic5\", \"Topic5\", \"Topic5\", \"Topic5\", \"Topic5\", \"Topic5\", \"Topic5\", \"Topic5\", \"Topic5\", \"Topic5\", \"Topic5\", \"Topic5\", \"Topic5\", \"Topic5\", \"Topic5\", \"Topic5\", \"Topic5\", \"Topic6\", \"Topic6\", \"Topic6\", \"Topic6\", \"Topic6\", \"Topic6\", \"Topic6\", \"Topic6\", \"Topic6\", \"Topic6\", \"Topic6\", \"Topic6\", \"Topic6\", \"Topic6\", \"Topic6\", \"Topic6\", \"Topic6\", \"Topic6\", \"Topic6\", \"Topic6\", \"Topic6\", \"Topic6\", \"Topic6\", \"Topic6\", \"Topic6\", \"Topic6\", \"Topic6\", \"Topic6\", \"Topic6\", \"Topic6\", \"Topic6\", \"Topic6\", \"Topic6\", \"Topic6\", \"Topic6\", \"Topic6\", \"Topic6\", \"Topic6\", \"Topic6\", \"Topic6\", \"Topic6\", \"Topic6\", \"Topic6\", \"Topic6\", \"Topic6\", \"Topic6\", \"Topic6\", \"Topic6\", \"Topic6\", \"Topic6\", \"Topic6\", \"Topic6\", \"Topic6\", \"Topic6\", \"Topic6\", \"Topic6\", \"Topic6\", \"Topic6\", \"Topic6\", \"Topic6\", \"Topic6\", \"Topic6\", \"Topic6\", \"Topic6\", \"Topic6\", \"Topic6\", \"Topic6\", \"Topic6\", \"Topic6\", \"Topic6\", \"Topic6\", \"Topic7\", \"Topic7\", \"Topic7\", \"Topic7\", \"Topic7\", \"Topic7\", \"Topic7\", \"Topic7\", \"Topic7\", \"Topic7\", \"Topic7\", \"Topic7\", \"Topic7\", \"Topic7\", \"Topic7\", \"Topic7\", \"Topic7\", \"Topic7\", \"Topic7\", \"Topic7\", \"Topic7\", \"Topic7\", \"Topic7\", \"Topic7\", \"Topic7\", \"Topic7\", \"Topic7\", \"Topic7\", \"Topic7\", \"Topic7\", \"Topic7\", \"Topic7\", \"Topic7\", \"Topic7\", \"Topic7\", \"Topic7\", \"Topic7\", \"Topic7\", \"Topic7\", \"Topic7\", \"Topic7\", \"Topic7\", \"Topic7\", \"Topic7\", \"Topic7\", \"Topic7\", \"Topic7\", \"Topic7\", \"Topic7\", \"Topic7\", \"Topic7\", \"Topic7\", \"Topic7\", \"Topic7\", \"Topic7\", \"Topic7\", \"Topic7\", \"Topic7\", \"Topic7\", \"Topic7\", \"Topic7\", \"Topic7\", \"Topic7\", \"Topic7\", \"Topic7\", \"Topic7\", \"Topic7\", \"Topic7\", \"Topic7\", \"Topic7\", \"Topic7\", \"Topic7\", \"Topic7\", \"Topic7\", \"Topic7\", \"Topic7\", \"Topic7\", \"Topic7\", \"Topic7\", \"Topic8\", \"Topic8\", \"Topic8\", \"Topic8\", \"Topic8\", \"Topic8\", \"Topic8\", \"Topic8\", \"Topic8\", \"Topic8\", \"Topic8\", \"Topic8\", \"Topic8\", \"Topic8\", \"Topic8\", \"Topic8\", \"Topic8\", \"Topic8\", \"Topic8\", \"Topic8\", \"Topic8\", \"Topic8\", \"Topic8\", \"Topic8\", \"Topic8\", \"Topic8\", \"Topic8\", \"Topic8\", \"Topic8\", \"Topic8\", \"Topic8\", \"Topic8\", \"Topic8\", \"Topic8\", \"Topic8\", \"Topic8\", \"Topic8\", \"Topic8\", \"Topic8\", \"Topic8\", \"Topic8\", \"Topic8\", \"Topic8\", \"Topic8\", \"Topic8\", \"Topic8\", \"Topic8\", \"Topic8\", \"Topic8\", \"Topic8\", \"Topic8\", \"Topic8\", \"Topic8\", \"Topic8\", \"Topic8\", \"Topic8\", \"Topic8\", \"Topic8\", \"Topic8\", \"Topic8\", \"Topic9\", \"Topic9\", \"Topic9\", \"Topic9\", \"Topic9\", \"Topic9\", \"Topic9\", \"Topic9\", \"Topic9\", \"Topic9\", \"Topic9\", \"Topic9\", \"Topic9\", \"Topic9\", \"Topic9\", \"Topic9\", \"Topic9\", \"Topic9\", \"Topic9\", \"Topic9\", \"Topic9\", \"Topic9\", \"Topic9\", \"Topic9\", \"Topic9\", \"Topic9\", \"Topic9\", \"Topic9\", \"Topic9\", \"Topic9\", \"Topic9\", \"Topic9\", \"Topic9\", \"Topic9\", \"Topic9\", \"Topic9\", \"Topic9\", \"Topic9\", \"Topic9\", \"Topic9\", \"Topic9\", \"Topic9\", \"Topic9\", \"Topic9\", \"Topic9\", \"Topic9\", \"Topic9\", \"Topic9\", \"Topic9\", \"Topic9\", \"Topic9\", \"Topic9\", \"Topic9\", \"Topic9\", \"Topic9\", \"Topic9\", \"Topic9\", \"Topic9\", \"Topic9\", \"Topic9\", \"Topic9\", \"Topic9\", \"Topic9\", \"Topic9\", \"Topic9\", \"Topic9\", \"Topic9\", \"Topic9\", \"Topic9\", \"Topic9\", \"Topic9\", \"Topic9\", \"Topic9\", \"Topic9\", \"Topic9\", \"Topic9\", \"Topic9\", \"Topic10\", \"Topic10\", \"Topic10\", \"Topic10\", \"Topic10\", \"Topic10\", \"Topic10\", \"Topic10\", \"Topic10\", \"Topic10\", \"Topic10\", \"Topic10\", \"Topic10\", \"Topic10\", \"Topic10\", \"Topic10\", \"Topic10\", \"Topic10\", \"Topic10\", \"Topic10\", \"Topic10\", \"Topic10\", \"Topic10\", \"Topic10\", \"Topic10\", \"Topic10\", \"Topic10\", \"Topic10\", \"Topic10\", \"Topic10\", \"Topic10\", \"Topic10\", \"Topic10\", \"Topic10\", \"Topic10\", \"Topic10\", \"Topic10\", \"Topic10\", \"Topic10\", \"Topic10\", \"Topic10\", \"Topic10\", \"Topic10\", \"Topic10\", \"Topic10\", \"Topic10\", \"Topic10\", \"Topic10\", \"Topic10\", \"Topic10\", \"Topic10\", \"Topic10\", \"Topic10\", \"Topic10\", \"Topic10\", \"Topic10\", \"Topic10\", \"Topic10\", \"Topic10\", \"Topic10\", \"Topic10\", \"Topic10\", \"Topic10\", \"Topic10\", \"Topic10\", \"Topic10\", \"Topic10\", \"Topic10\", \"Topic10\", \"Topic10\", \"Topic10\", \"Topic10\", \"Topic10\"], \"Freq\": [7578.0, 4917.0, 5569.0, 9015.0, 3043.0, 2219.0, 2233.0, 3046.0, 4509.0, 2139.0, 2449.0, 6997.0, 1768.0, 3234.0, 1152.0, 3499.0, 2048.0, 1712.0, 930.0, 1003.0, 1274.0, 961.0, 1300.0, 2423.0, 1195.0, 807.0, 1494.0, 979.0, 1845.0, 450.0, 7574.89453125, 1273.8310546875, 861.1552734375, 601.5899658203125, 477.5135498046875, 358.52838134765625, 314.33270263671875, 307.2826232910156, 296.61932373046875, 348.68121337890625, 219.49864196777344, 213.0000762939453, 154.0092010498047, 136.7720947265625, 119.10958862304688, 101.4456558227539, 95.86717987060547, 102.6673355102539, 88.10980987548828, 82.8531494140625, 80.06410217285156, 74.48188018798828, 70.76200103759766, 67.04904174804688, 64.2587890625, 58.67803192138672, 55.89216995239258, 178.81985473632812, 54.03538131713867, 53.09861373901367, 280.99444580078125, 345.44879150390625, 370.5395812988281, 171.11009216308594, 2085.89404296875, 145.6571044921875, 416.2492980957031, 156.09103393554688, 214.61309814453125, 168.60931396484375, 147.08822631835938, 1207.6070556640625, 243.5472412109375, 1239.8865966796875, 331.0645446777344, 271.7844543457031, 311.32196044921875, 517.5630493164062, 345.21307373046875, 1336.9302978515625, 350.901123046875, 774.0863647460938, 780.578369140625, 462.5714111328125, 1129.738525390625, 1034.996826171875, 688.2461547851562, 469.4921569824219, 477.1967468261719, 678.9553833007812, 841.0900268554688, 386.1726989746094, 356.09088134765625, 356.78399658203125, 400.1740417480469, 232.10874938964844, 120.7847900390625, 82.75775146484375, 26.973020553588867, 26.62592887878418, 27.178205490112305, 157.5852508544922, 384.023193359375, 16.23463249206543, 12.724427223205566, 17.65494155883789, 44.87737274169922, 11.738937377929688, 12.010785102844238, 11.509568214416504, 11.36063003540039, 10.982891082763672, 96.65742492675781, 10.603462219238281, 10.294757843017578, 9.921586990356445, 37.18610382080078, 9.242362976074219, 8.864705085754395, 50.12458038330078, 433.5667724609375, 37.4200439453125, 8.41242504119873, 8.182604789733887, 84.99578857421875, 424.61492919921875, 2033.6041259765625, 96.51769256591797, 198.05517578125, 301.0503234863281, 294.5030517578125, 109.57286834716797, 1259.9619140625, 84.21456909179688, 24.80806541442871, 25.72293472290039, 107.51893615722656, 305.48858642578125, 89.66703796386719, 79.16593933105469, 241.6510467529297, 179.0722198486328, 161.27537536621094, 616.8464965820312, 272.055419921875, 170.58499145507812, 338.62774658203125, 713.8785400390625, 242.36875915527344, 376.1599426269531, 600.7033081054688, 1432.3720703125, 910.61962890625, 200.8151092529297, 367.20452880859375, 247.55007934570312, 526.8526000976562, 508.6414489746094, 293.6193542480469, 310.7668762207031, 743.4573974609375, 214.90504455566406, 335.7010498046875, 286.55462646484375, 315.8567810058594, 270.600830078125, 216.61654663085938, 224.52413940429688, 45.87010955810547, 34.944618225097656, 202.49069213867188, 32.56955337524414, 31.757640838623047, 28.34180450439453, 24.95345115661621, 23.46498680114746, 29.005889892578125, 46.324501037597656, 16.527799606323242, 16.195768356323242, 70.05980682373047, 15.83028507232666, 14.629233360290527, 13.5533447265625, 13.563075065612793, 23.177818298339844, 13.10335922241211, 12.316868782043457, 12.307835578918457, 12.300549507141113, 11.653392791748047, 283.6731262207031, 11.484691619873047, 11.407536506652832, 11.241199493408203, 11.160649299621582, 436.7234191894531, 169.36376953125, 448.3423767089844, 273.41326904296875, 122.45364379882812, 52.72704315185547, 97.46460723876953, 248.76304626464844, 239.56439208984375, 278.62103271484375, 95.9520034790039, 252.86827087402344, 54.92439270019531, 43.245941162109375, 226.4960174560547, 172.6710662841797, 158.23023986816406, 275.12139892578125, 129.10336303710938, 1158.1136474609375, 254.45370483398438, 403.7412414550781, 1532.8875732421875, 409.9786682128906, 112.97916412353516, 462.80987548828125, 533.8330688476562, 107.87776184082031, 1071.0321044921875, 365.3721618652344, 173.03097534179688, 390.85394287109375, 176.0230712890625, 304.91943359375, 188.03594970703125, 183.0289764404297, 199.1900634765625, 204.57212829589844, 195.70785522460938, 200.27130126953125, 172.0145263671875, 165.04473876953125, 75.53022003173828, 221.8030548095703, 88.95318603515625, 40.754234313964844, 51.928916931152344, 26.94686508178711, 24.208251953125, 19.755290985107422, 117.19807434082031, 18.51217269897461, 17.762466430664062, 95.31513977050781, 16.685035705566406, 15.028636932373047, 14.94189739227295, 15.405304908752441, 13.198637008666992, 12.77877426147461, 12.778769493103027, 12.85057258605957, 12.291004180908203, 13.411734580993652, 11.621515274047852, 12.006611824035645, 11.27835750579834, 11.050382614135742, 56.10777282714844, 115.22268676757812, 153.86973571777344, 180.72837829589844, 169.2327117919922, 170.04002380371094, 55.376739501953125, 557.1544189453125, 171.86111450195312, 48.062747955322266, 2221.74365234375, 181.167724609375, 56.36421203613281, 264.3772888183594, 107.46656036376953, 333.87060546875, 36.660404205322266, 75.28072357177734, 202.224609375, 527.4584350585938, 569.457275390625, 141.19398498535156, 154.20785522460938, 587.859375, 171.3268585205078, 443.06585693359375, 171.58103942871094, 402.57818603515625, 530.9221801757812, 403.4972229003906, 203.19696044921875, 281.8746337890625, 282.6094055175781, 170.26332092285156, 205.7083740234375, 212.65184020996094, 163.544677734375, 55.18089294433594, 41.38766860961914, 23.333831787109375, 17.769821166992188, 16.32240867614746, 24.26251792907715, 15.14415168762207, 14.051128387451172, 14.933243751525879, 12.943744659423828, 12.544258117675781, 11.831108093261719, 40.674861907958984, 11.117012023925781, 126.27052307128906, 11.182719230651855, 11.091498374938965, 10.323165893554688, 10.322142601013184, 22.210159301757812, 10.004456520080566, 9.92758846282959, 9.994678497314453, 9.290184020996094, 9.287942886352539, 9.13778305053711, 166.2930450439453, 8.493245124816895, 8.561200141906738, 8.181683540344238, 57.56035232543945, 74.3638916015625, 41.558013916015625, 76.0824203491211, 84.80850982666016, 250.138427734375, 107.4102554321289, 13.475996971130371, 30.996328353881836, 107.5151596069336, 147.8614044189453, 160.6903533935547, 318.9593200683594, 107.3696060180664, 644.8196411132812, 773.0499877929688, 177.44064331054688, 166.312744140625, 102.94037628173828, 366.8808898925781, 482.9249572753906, 329.4883728027344, 159.66209411621094, 365.0452880859375, 104.99979400634766, 111.75682067871094, 387.5957336425781, 499.46630859375, 1360.8743896484375, 393.86187744140625, 214.63934326171875, 140.27590942382812, 329.6889953613281, 263.9918212890625, 479.37969970703125, 396.3507995605469, 151.55050659179688, 461.76416015625, 219.32371520996094, 324.4570007324219, 178.67608642578125, 238.9796600341797, 192.20504760742188, 192.95130920410156, 162.255859375, 16.417827606201172, 15.19091796875, 12.437990188598633, 12.007819175720215, 10.106321334838867, 9.75956916809082, 9.244081497192383, 8.121264457702637, 7.94983434677124, 7.690474033355713, 7.690450668334961, 7.341176509857178, 7.2579026222229, 8.020992279052734, 10.080324172973633, 6.482661724090576, 6.391069412231445, 93.63827514648438, 6.136157035827637, 6.136157035827637, 6.136068820953369, 6.135871887207031, 6.0519304275512695, 6.051812171936035, 6.050627708435059, 5.70552921295166, 5.705516338348389, 5.705385684967041, 5.705345153808594, 5.703914165496826, 10.545499801635742, 26.480653762817383, 803.533447265625, 627.1210327148438, 180.12957763671875, 3475.12451171875, 25.14214515686035, 11.7597074508667, 3416.25732421875, 92.15902709960938, 300.86175537109375, 1162.8363037109375, 198.1973114013672, 4418.51708984375, 733.9539794921875, 91.65760040283203, 57.86313247680664, 29.216278076171875, 314.0956115722656, 539.9100952148438, 24.005695343017578, 257.6492919921875, 547.7780151367188, 216.85586547851562, 325.0836486816406, 105.72576141357422, 131.9624786376953, 73.0051498413086, 76.79877471923828, 297.0731201171875, 251.96463012695312, 149.94093322753906, 135.61618041992188, 148.9189453125, 114.62372589111328, 291.10845947265625, 482.11639404296875, 106.8596420288086, 140.1951446533203, 106.62237548828125, 103.12397003173828, 30.988313674926758, 23.160364151000977, 23.435047149658203, 20.835351943969727, 74.63709259033203, 18.42331314086914, 32.20777130126953, 16.36174964904785, 103.47164154052734, 14.790120124816895, 15.187257766723633, 14.593671798706055, 13.691580772399902, 63.301910400390625, 12.679490089416504, 11.544759750366211, 11.523330688476562, 11.198832511901855, 12.297731399536133, 11.896773338317871, 10.770119667053223, 19.602840423583984, 10.80517292022705, 10.078410148620605, 123.24473571777344, 9.732112884521484, 9.72675895690918, 9.649097442626953, 9.303418159484863, 12.882610321044922, 53.51485061645508, 30.928552627563477, 26.113569259643555, 31.705276489257812, 33.30109786987305, 54.85348129272461, 37.834049224853516, 201.5329132080078, 22.512466430664062, 134.77037048339844, 124.56546020507812, 126.63129425048828, 198.6588134765625, 109.90017700195312, 36.26662826538086, 69.82087707519531, 98.09791564941406, 50.595523834228516, 63.06708908081055, 420.17950439453125, 83.26030731201172, 322.9346008300781, 84.38433837890625, 128.3146209716797, 80.97125244140625, 132.67205810546875, 89.29631042480469, 107.7768325805664, 70.02171325683594, 99.09082794189453, 150.4115447998047, 80.09441375732422, 136.91427612304688, 116.83185577392578, 170.98532104492188, 289.8172302246094, 455.6845703125, 202.27049255371094, 274.39715576171875, 279.01885986328125, 117.56780242919922, 154.87252807617188, 104.10115814208984, 103.86360931396484, 131.411376953125, 120.58023071289062, 133.13583374023438, 107.73707580566406, 113.85909271240234, 163.99966430664062, 209.86940002441406, 24.10167694091797, 173.24864196777344, 17.100576400756836, 17.681140899658203, 167.8188934326172, 10.645797729492188, 10.634482383728027, 9.840028762817383, 9.476264953613281, 9.3966064453125, 8.06712532043457, 8.061260223388672, 8.061249732971191, 7.600212574005127, 1987.270751953125, 6.971193313598633, 6.970897197723389, 6.968686103820801, 10.145133018493652, 11.790239334106445, 6.533962249755859, 234.5497589111328, 137.77870178222656, 66.89619445800781, 5.875383377075195, 437.69622802734375, 5.171708583831787, 5.170821189880371, 74.25361633300781, 122.98546600341797, 312.5840759277344, 64.34680938720703, 1451.9693603515625, 1135.094482421875, 624.9839477539062, 190.1498565673828, 226.5115509033203, 114.44049072265625, 28.215103149414062, 506.2648620605469, 228.8994140625, 498.41534423828125, 1400.99169921875, 109.86163330078125, 233.12933349609375, 65.68051147460938, 467.1676025390625, 92.96298217773438, 412.6553955078125, 394.3816833496094, 1099.013427734375, 129.4488525390625, 390.2123107910156, 324.0687561035156, 152.0106964111328, 436.423583984375, 253.65731811523438, 154.14947509765625, 39.78969955444336, 37.45579147338867, 28.50568389892578, 22.599023818969727, 20.00054359436035, 19.166431427001953, 16.228532791137695, 15.74833869934082, 12.941304206848145, 12.609617233276367, 11.126466751098633, 10.221368789672852, 12.39620590209961, 11.710143089294434, 9.562623023986816, 9.313126564025879, 9.312861442565918, 9.233065605163574, 9.232935905456543, 9.228293418884277, 9.228144645690918, 8.809601783752441, 8.487709045410156, 8.080209732055664, 8.079086303710938, 8.971927642822266, 8.132070541381836, 8.745060920715332, 7.975133419036865, 9.010794639587402, 24.350330352783203, 2361.203125, 120.90046691894531, 15.737436294555664, 166.89065551757812, 251.42236328125, 25.474624633789062, 13.181971549987793, 20.702720642089844, 103.10133361816406, 15.612975120544434, 168.81060791015625, 1880.4210205078125, 523.0879516601562, 15.283482551574707, 16.919206619262695, 1135.2471923828125, 337.9635925292969, 104.67979431152344, 95.34089660644531, 133.46002197265625, 21.56172752380371, 407.1993103027344, 81.66724395751953, 40.707794189453125, 165.8930206298828, 96.15345764160156, 61.866004943847656, 54.09474182128906, 78.08270263671875, 174.6937255859375, 320.87237548828125, 596.0636596679688, 302.8311462402344, 191.35523986816406, 156.91754150390625, 311.1943359375, 550.8899536132812, 163.48081970214844, 163.7918243408203, 140.6804656982422, 225.95823669433594, 189.36058044433594, 136.70643615722656, 170.6086883544922, 103.60050201416016, 104.30270385742188, 104.74375915527344, 70.06454467773438, 24.777942657470703, 406.4881896972656, 433.70196533203125, 17.59389305114746, 13.653294563293457, 12.758137702941895, 30.452472686767578, 11.404841423034668, 10.057838439941406, 8.8855562210083, 8.718132019042969, 8.342915534973145, 7.101491928100586, 10.950824737548828, 6.3606767654418945, 5.93272590637207, 13.826590538024902, 6.270470142364502, 5.4828290939331055, 5.391003608703613, 5.037174701690674, 5.03702449798584, 4.949742317199707, 4.589531898498535, 4.5282301902771, 4.141549587249756, 4.14143705368042, 4.1414265632629395, 30.07737922668457, 18.76336669921875, 40.22514724731445, 30.19877052307129, 16.758146286010742, 247.80116271972656, 32.70554733276367, 27.003313064575195, 680.1522216796875, 42.94187545776367, 96.07664489746094, 14.491788864135742, 421.0509948730469, 259.06195068359375, 867.3359985351562, 165.67398071289062, 175.48013305664062, 93.03499603271484, 33.770530700683594, 299.2525939941406, 73.5810546875, 89.03929138183594, 95.69219970703125, 33.257843017578125, 54.21025085449219, 45.152610778808594, 70.31900787353516, 479.63397216796875, 174.80648803710938, 69.29287719726562, 172.08657836914062, 191.9293975830078, 109.27528381347656, 91.82673645019531, 96.46794891357422, 219.21722412109375, 318.3717956542969, 147.8454132080078, 148.19442749023438, 89.33302307128906, 104.5379409790039, 112.20306396484375, 85.07957458496094], \"Term\": [\"batteries\", \"price\", \"good\", \"great\", \"easy\", \"loves\", \"work\", \"kindle\", \"use\", \"old\", \"kids\", \"tablet\", \"year\", \"bought\", \"gift\", \"love\", \"product\", \"games\", \"christmas\", \"value\", \"brand\", \"daughter\", \"quality\", \"long\", \"reading\", \"deal\", \"books\", \"son\", \"apps\", \"loved\", \"batteries\", \"brand\", \"brands\", \"duracell\", \"aa\", \"aaa\", \"energizer\", \"remote\", \"amazonbasics\", \"lasting\", \"remotes\", \"alkaline\", \"packaged\", \"controllers\", \"flashlights\", \"candles\", \"packs\", \"perform\", \"controller\", \"costco\", \"cardboard\", \"duracells\", \"leak\", \"operated\", \"batch\", \"flashlight\", \"longevity\", \"dead\", \"rayovac\", \"leaking\", \"basics\", \"pack\", \"toys\", \"package\", \"long\", \"bulk\", \"box\", \"xbox\", \"packaging\", \"half\", \"save\", \"battery\", \"lasted\", \"work\", \"longer\", \"power\", \"cheaper\", \"ve\", \"buying\", \"amazon\", \"cheap\", \"time\", \"buy\", \"life\", \"good\", \"price\", \"like\", \"far\", \"better\", \"use\", \"great\", \"store\", \"lot\", \"quality\", \"parental\", \"educational\", \"appropriate\", \"parent\", \"cartoons\", \"restrictions\", \"olds\", \"young\", \"friendly\", \"unwanted\", \"minecraft\", \"engaged\", \"activities\", \"hes\", \"tables\", \"santa\", \"grader\", \"section\", \"limit\", \"letting\", \"restrict\", \"accessing\", \"interested\", \"grows\", \"glued\", \"proof\", \"child\", \"preloaded\", \"gotta\", \"bonuses\", \"profile\", \"kid\", \"kids\", \"safe\", \"age\", \"playing\", \"controls\", \"edition\", \"games\", \"adult\", \"grow\", \"protects\", \"toddler\", \"learning\", \"parents\", \"limits\", \"user\", \"control\", \"content\", \"play\", \"children\", \"fun\", \"free\", \"apps\", \"videos\", \"case\", \"year\", \"tablet\", \"love\", \"lots\", \"son\", \"watch\", \"time\", \"old\", \"set\", \"daughter\", \"great\", \"download\", \"like\", \"books\", \"use\", \"bought\", \"echo\", \"tap\", \"dot\", \"silk\", \"speaker\", \"ecosystem\", \"exceeded\", \"underground\", \"appstore\", \"playstore\", \"slower\", \"beginners\", \"invested\", \"teenager\", \"voice\", \"pandora\", \"disable\", \"crush\", \"charm\", \"answer\", \"everybody\", \"cpu\", \"miles\", \"locate\", \"core\", \"alexa\", \"bedroom\", \"sounding\", \"punch\", \"requirements\", \"prime\", \"sd\", \"google\", \"card\", \"member\", \"members\", \"install\", \"android\", \"gb\", \"storage\", \"bluetooth\", \"sound\", \"browser\", \"slot\", \"memory\", \"family\", \"account\", \"music\", \"add\", \"amazon\", \"app\", \"store\", \"tablet\", \"play\", \"apple\", \"works\", \"apps\", \"space\", \"great\", \"like\", \"want\", \"good\", \"tablets\", \"use\", \"little\", \"need\", \"love\", \"price\", \"bought\", \"voyage\", \"paperwhite\", \"oasis\", \"paper\", \"upgrade\", \"lighter\", \"backlight\", \"lighting\", \"gen\", \"strain\", \"clearer\", \"generation\", \"shade\", \"killer\", \"white\", \"release\", \"upgrades\", \"readable\", \"backlit\", \"refurbished\", \"whistles\", \"bells\", \"enlarge\", \"flush\", \"flip\", \"losing\", \"pdf\", \"goodreads\", \"origami\", \"versions\", \"buttons\", \"original\", \"page\", \"bigger\", \"weight\", \"improvement\", \"light\", \"previous\", \"dark\", \"kindle\", \"model\", \"turning\", \"book\", \"eyes\", \"reader\", \"adjust\", \"upgraded\", \"easier\", \"new\", \"read\", \"turn\", \"faster\", \"screen\", \"older\", \"reading\", \"version\", \"better\", \"love\", \"like\", \"charge\", \"books\", \"battery\", \"years\", \"best\", \"time\", \"old\", \"checking\", \"college\", \"offline\", \"exchanged\", \"fee\", \"confusing\", \"ensure\", \"textbooks\", \"student\", \"contents\", \"compete\", \"picking\", \"browse\", \"department\", \"surfing\", \"mb\", \"weighs\", \"balance\", \"lg\", \"image\", \"lags\", \"mp\", \"laying\", \"androids\", \"manga\", \"excelent\", \"email\", \"readability\", \"novels\", \"exit\", \"functional\", \"surf\", \"serves\", \"emails\", \"streaming\", \"web\", \"facebook\", \"expanded\", \"format\", \"browsing\", \"laptop\", \"online\", \"internet\", \"pictures\", \"reading\", \"books\", \"watching\", \"clear\", \"check\", \"hd\", \"size\", \"movies\", \"wifi\", \"ipad\", \"speed\", \"resolution\", \"perfect\", \"screen\", \"tablet\", \"read\", \"watch\", \"netflix\", \"apps\", \"nice\", \"use\", \"amazon\", \"camera\", \"great\", \"better\", \"good\", \"need\", \"kindle\", \"games\", \"like\", \"love\", \"batts\", \"def\", \"replaces\", \"active\", \"slimmer\", \"struggling\", \"addicted\", \"bath\", \"repeat\", \"sunny\", \"comforting\", \"asks\", \"construction\", \"crashed\", \"quirks\", \"dosent\", \"environments\", \"\\u00e4\\u00f4t\", \"street\", \"sesame\", \"curved\", \"processes\", \"frozen\", \"remains\", \"lackluster\", \"structure\", \"fare\", \"screed\", \"waking\", \"subscribing\", \"resist\", \"\\u00e4\\u00f4m\", \"value\", \"deal\", \"friday\", \"price\", \"deals\", \"bundle\", \"good\", \"shipping\", \"beat\", \"product\", \"black\", \"great\", \"quality\", \"reasonable\", \"delivery\", \"versatile\", \"fast\", \"works\", \"backup\", \"money\", \"buy\", \"excellent\", \"nice\", \"sale\", \"overall\", \"service\", \"satisfied\", \"best\", \"far\", \"features\", \"worth\", \"awesome\", \"performance\", \"battery\", \"tablet\", \"low\", \"life\", \"screen\", \"love\", \"pop\", \"lap\", \"pockets\", \"darn\", \"cable\", \"square\", \"exchange\", \"missed\", \"port\", \"flimsy\", \"savy\", \"deck\", \"salesman\", \"usb\", \"practical\", \"coffee\", \"plugs\", \"ports\", \"tank\", \"angle\", \"universal\", \"wide\", \"endless\", \"operations\", \"described\", \"boost\", \"daugther\", \"jack\", \"secondary\", \"doctor\", \"iphone\", \"choices\", \"shape\", \"magazine\", \"menu\", \"cord\", \"frustrating\", \"charging\", \"recent\", \"charger\", \"ads\", \"exactly\", \"slow\", \"unit\", \"pocket\", \"connect\", \"fit\", \"beginner\", \"plug\", \"device\", \"button\", \"little\", \"dropped\", \"home\", \"fits\", \"problem\", \"portable\", \"problems\", \"break\", \"cover\", \"charge\", \"issue\", \"small\", \"times\", \"case\", \"like\", \"tablet\", \"screen\", \"amazon\", \"use\", \"pretty\", \"apps\", \"wanted\", \"app\", \"bought\", \"product\", \"good\", \"purchase\", \"easy\", \"present\", \"birthday\", \"grandma\", \"mother\", \"grandmother\", \"aunt\", \"niece\", \"jealous\", \"shapes\", \"blank\", \"alphabet\", \"fly\", \"hubby\", \"mickey\", \"clubhouse\", \"hesitate\", \"loves\", \"neice\", \"complains\", \"clunky\", \"sisters\", \"kiddo\", \"retired\", \"mom\", \"enjoys\", \"dad\", \"sending\", \"grandson\", \"backlights\", \"grandbaby\", \"law\", \"nephew\", \"granddaughter\", \"brought\", \"old\", \"year\", \"daughter\", \"absolutely\", \"yr\", \"plays\", \"watches\", \"christmas\", \"uses\", \"son\", \"bought\", \"likes\", \"wife\", \"sister\", \"gift\", \"husband\", \"got\", \"purchased\", \"tablet\", \"durable\", \"use\", \"easy\", \"years\", \"great\", \"love\", \"perfect\", \"oh\", \"grandsons\", \"overpriced\", \"knowledgeable\", \"handed\", \"employees\", \"fianc\", \"logic\", \"spring\", \"workers\", \"development\", \"orders\", \"greater\", \"lunch\", \"techie\", \"associates\", \"preschool\", \"native\", \"curfew\", \"grandparents\", \"matthew\", \"guide\", \"bills\", \"east\", \"learns\", \"remaining\", \"sim\", \"choosing\", \"glove\", \"rain\", \"nieces\", \"easy\", \"setup\", \"goals\", \"thanks\", \"highly\", \"ways\", \"manual\", \"sleek\", \"lightweight\", \"guys\", \"navigate\", \"use\", \"recommend\", \"sides\", \"block\", \"love\", \"set\", \"grandkids\", \"travel\", \"simple\", \"sleeve\", \"best\", \"convenient\", \"grandchildren\", \"awesome\", \"super\", \"recommended\", \"market\", \"carry\", \"tablets\", \"product\", \"tablet\", \"buy\", \"perfect\", \"happy\", \"kindle\", \"great\", \"purchase\", \"purchased\", \"size\", \"amazon\", \"kids\", \"device\", \"bought\", \"right\", \"nice\", \"gifts\", \"father\", \"fell\", \"item\", \"loved\", \"pen\", \"prompt\", \"rock\", \"recipient\", \"mines\", \"recommending\", \"aggravating\", \"usa\", \"prefect\", \"neck\", \"rocks\", \"excuse\", \"bothering\", \"primary\", \"freebies\", \"usability\", \"hurt\", \"bringing\", \"culprit\", \"electricity\", \"listed\", \"variation\", \"earth\", \"fluke\", \"el\", \"promised\", \"tools\", \"squad\", \"bestbuy\", \"receiving\", \"expected\", \"early\", \"flawlessly\", \"gift\", \"geek\", \"received\", \"presents\", \"christmas\", \"fine\", \"work\", \"ok\", \"worked\", \"thank\", \"win\", \"happy\", \"returned\", \"couldn\", \"gave\", \"xmas\", \"person\", \"told\", \"arrived\", \"bought\", \"excellent\", \"liked\", \"purchase\", \"got\", \"wife\", \"came\", \"working\", \"product\", \"great\", \"purchased\", \"works\", \"know\", \"perfect\", \"time\", \"far\"], \"Total\": [7578.0, 4917.0, 5569.0, 9015.0, 3043.0, 2219.0, 2233.0, 3046.0, 4509.0, 2139.0, 2449.0, 6997.0, 1768.0, 3234.0, 1152.0, 3499.0, 2048.0, 1712.0, 930.0, 1003.0, 1274.0, 961.0, 1300.0, 2423.0, 1195.0, 807.0, 1494.0, 979.0, 1845.0, 450.0, 7578.05322265625, 1274.8853759765625, 862.0779418945312, 602.4430541992188, 478.37823486328125, 359.3821105957031, 315.17510986328125, 308.13629150390625, 297.50091552734375, 349.8794860839844, 220.34658813476562, 213.84043884277344, 154.85491943359375, 137.60800170898438, 119.94436645507812, 102.2804183959961, 96.70236206054688, 103.59001159667969, 88.94951629638672, 83.68705749511719, 80.89801025390625, 75.319091796875, 71.6003646850586, 67.88261413574219, 65.0934066772461, 59.51473617553711, 56.72630310058594, 181.57305908203125, 54.86747741699219, 53.93645095825195, 288.0841369628906, 355.2328796386719, 384.3521728515625, 177.85682678222656, 2423.421875, 153.04437255859375, 470.3553466796875, 166.9905548095703, 239.6698760986328, 185.9105224609375, 162.50076293945312, 2092.291748046875, 298.6456604003906, 2233.290771484375, 458.28582763671875, 361.74957275390625, 442.4129638671875, 908.8911743164062, 513.2545166015625, 3864.28564453125, 569.1989135742188, 2056.05712890625, 2216.42333984375, 999.1166381835938, 5569.69482421875, 4917.40869140625, 2477.3583984375, 1215.62158203125, 1429.3607177734375, 4509.70458984375, 9015.8583984375, 1025.74365234375, 939.0682373046875, 1300.7430419921875, 401.1290588378906, 233.33485412597656, 121.67926025390625, 85.00886535644531, 27.903385162353516, 27.60007095336914, 28.304698944091797, 165.1250457763672, 403.17236328125, 17.147493362426758, 13.58694839477539, 18.8968563079834, 48.04096221923828, 12.600955963134766, 12.90851879119873, 12.381056785583496, 12.223319053649902, 11.84570598602295, 104.340087890625, 11.468260765075684, 11.164871215820312, 10.786267280578613, 40.58486557006836, 10.104222297668457, 9.726536750793457, 55.09431076049805, 477.4067077636719, 41.23329544067383, 9.275361061096191, 9.044739723205566, 94.8033676147461, 490.5103759765625, 2449.80029296875, 109.87464904785156, 230.6461639404297, 356.4485778808594, 351.24237060546875, 129.021240234375, 1712.0992431640625, 99.91171264648438, 27.660451889038086, 28.750612258911133, 135.6035614013672, 427.125, 112.47752380371094, 98.48169708251953, 342.4001770019531, 258.14373779296875, 234.1247100830078, 1176.896728515625, 439.3377990722656, 264.3482360839844, 620.2420043945312, 1845.690673828125, 439.9841003417969, 822.1483154296875, 1768.0411376953125, 6997.25244140625, 3499.919921875, 357.3612976074219, 979.326904296875, 527.1773071289062, 2056.05712890625, 2139.90087890625, 817.4356689453125, 961.31201171875, 9015.8583984375, 492.8233337402344, 2477.3583984375, 1494.0933837890625, 4509.70458984375, 3234.063232421875, 218.11181640625, 226.3785400390625, 46.74188232421875, 35.80131530761719, 207.96519470214844, 33.488914489746094, 32.662620544433594, 29.196369171142578, 25.808320999145508, 24.320343017578125, 30.1009578704834, 48.10428237915039, 17.383625030517578, 17.05181121826172, 74.05175018310547, 16.73248291015625, 15.483500480651855, 14.40769100189209, 14.41858959197998, 24.713970184326172, 14.004769325256348, 13.171253204345703, 13.171019554138184, 13.170628547668457, 12.50758171081543, 304.9561767578125, 12.347338676452637, 12.266590118408203, 12.095425605773926, 12.015121459960938, 480.71923828125, 187.89404296875, 510.0807189941406, 311.8401794433594, 139.73394775390625, 58.78476333618164, 115.88099670410156, 314.0251770019531, 308.4416809082031, 393.7471618652344, 123.42884063720703, 364.7279357910156, 68.02400970458984, 51.9869384765625, 341.75225830078125, 254.88259887695312, 242.52098083496094, 476.934814453125, 201.7561492919922, 3864.28564453125, 533.5794677734375, 1025.74365234375, 6997.25244140625, 1176.896728515625, 190.2716827392578, 1473.18603515625, 1845.690673828125, 189.92665100097656, 9015.8583984375, 2477.3583984375, 570.3067626953125, 5569.69482421875, 762.4920654296875, 4509.70458984375, 1003.93994140625, 931.5608520507812, 3499.919921875, 4917.40869140625, 3234.063232421875, 201.25350952148438, 172.9076385498047, 166.20828247070312, 76.38858795166016, 224.37501525878906, 90.05847930908203, 41.616825103759766, 53.1592903137207, 27.9063777923584, 25.091205596923828, 20.60940933227539, 122.46220397949219, 19.367305755615234, 18.619962692260742, 100.1097412109375, 17.539268493652344, 15.883207321166992, 15.802806854248047, 16.296911239624023, 14.054844856262207, 13.640298843383789, 13.640296936035156, 13.722381591796875, 13.146402359008789, 14.397729873657227, 12.47984790802002, 12.895005226135254, 12.145323753356934, 11.904319763183594, 60.453609466552734, 124.57380676269531, 168.59552001953125, 201.0766143798828, 191.0298309326172, 192.2606201171875, 62.17164611816406, 689.2945556640625, 202.8643035888672, 53.984004974365234, 3046.541015625, 226.83258056640625, 66.33743286132812, 360.45086669921875, 139.17495727539062, 501.90093994140625, 42.4655647277832, 98.51990509033203, 315.9425048828125, 980.6746215820312, 1200.3814697265625, 222.99945068359375, 257.0289001464844, 1613.9375, 304.01470947265625, 1195.5355224609375, 313.36370849609375, 1429.3607177734375, 3499.919921875, 2477.3583984375, 571.8865356445312, 1494.0933837890625, 2092.291748046875, 546.5678100585938, 1388.0169677734375, 2056.05712890625, 2139.90087890625, 56.09934997558594, 42.7757568359375, 24.194286346435547, 18.64105987548828, 17.212451934814453, 25.667705535888672, 16.022968292236328, 14.912571907043457, 15.88162899017334, 13.801774024963379, 13.405994415283203, 12.691129684448242, 43.69941329956055, 11.97637939453125, 136.0977020263672, 12.054576873779297, 11.975377082824707, 11.185425758361816, 11.184510231018066, 24.084531784057617, 10.865864753723145, 10.788636207580566, 10.86521053314209, 10.150912284851074, 10.151105880737305, 9.99685001373291, 182.165283203125, 9.358599662780762, 9.437491416931152, 9.040197372436523, 64.31812286376953, 83.3671646118164, 46.58456802368164, 86.77210235595703, 97.47760772705078, 298.57049560546875, 137.78797912597656, 14.93628215789795, 36.834861755371094, 142.73712158203125, 210.52822875976562, 231.8777618408203, 498.5286865234375, 149.41146850585938, 1195.5355224609375, 1494.0933837890625, 280.8382263183594, 269.6180114746094, 155.19537353515625, 714.6341552734375, 998.785888671875, 647.8154296875, 273.9788513183594, 787.6941528320312, 166.96424865722656, 196.16929626464844, 1123.3753662109375, 1613.9375, 6997.25244140625, 1200.3814697265625, 527.1773071289062, 285.54608154296875, 1845.690673828125, 1210.994873046875, 4509.70458984375, 3864.28564453125, 403.8473205566406, 9015.8583984375, 1429.3607177734375, 5569.69482421875, 931.5608520507812, 3046.541015625, 1712.0992431640625, 2477.3583984375, 3499.919921875, 17.27044105529785, 16.05040168762207, 13.288647651672363, 12.858075141906738, 10.956656455993652, 10.609972953796387, 10.095355033874512, 8.971396446228027, 8.803284645080566, 8.54075813293457, 8.540749549865723, 8.194595336914062, 8.110002517700195, 8.96330738067627, 11.366347312927246, 7.3328070640563965, 7.248874664306641, 106.3404541015625, 6.9860968589782715, 6.9860968589782715, 6.9860944747924805, 6.986117362976074, 6.902209281921387, 6.902185440063477, 6.902009010314941, 6.555488586425781, 6.555484771728516, 6.555477142333984, 6.555478572845459, 6.555449962615967, 12.12940788269043, 30.783140182495117, 1003.7601318359375, 807.0846557617188, 226.98756408691406, 4917.40869140625, 30.296226501464844, 13.81066608428955, 5569.69482421875, 125.12320709228516, 453.87701416015625, 2048.320556640625, 301.1746826171875, 9015.8583984375, 1300.7430419921875, 132.31198120117188, 81.95411682128906, 38.12673568725586, 678.3709106445312, 1473.18603515625, 34.25770568847656, 751.62646484375, 2216.42333984375, 699.2650146484375, 1210.994873046875, 270.4818115234375, 379.3311462402344, 175.63011169433594, 189.25088500976562, 1388.0169677734375, 1215.62158203125, 550.98974609375, 470.9137878417969, 550.7919311523438, 391.4607849121094, 2092.291748046875, 6997.25244140625, 383.63818359375, 999.1166381835938, 1613.9375, 3499.919921875, 31.927471160888672, 24.012174606323242, 24.36252784729004, 21.686660766601562, 77.73712158203125, 19.277339935302734, 33.705596923828125, 17.213897705078125, 109.43649291992188, 15.66188907623291, 16.090885162353516, 15.494135856628418, 14.542656898498535, 67.52169036865234, 13.611404418945312, 12.395613670349121, 12.3950777053833, 12.049878120422363, 13.252564430236816, 12.822246551513672, 11.620463371276855, 21.164228439331055, 11.702372550964355, 10.928948402404785, 133.75987243652344, 10.583328247070312, 10.583206176757812, 10.49950885772705, 10.153748512268066, 14.09795093536377, 58.58782196044922, 34.18618392944336, 28.797725677490234, 36.24691390991211, 38.20499801635742, 64.65281677246094, 43.993804931640625, 266.4864196777344, 25.689790725708008, 183.33009338378906, 169.41534423828125, 173.2025146484375, 286.4792785644531, 157.92860412597656, 45.05582046508789, 99.36676025390625, 149.5564422607422, 69.8270034790039, 94.01487731933594, 1039.7796630859375, 148.9977569580078, 1003.93994140625, 159.1462860107422, 310.89544677734375, 155.93760681152344, 335.9403381347656, 201.0160369873047, 291.13494873046875, 140.85943603515625, 261.986328125, 571.8865356445312, 180.9971923828125, 494.88311767578125, 381.3087463378906, 822.1483154296875, 2477.3583984375, 6997.25244140625, 1613.9375, 3864.28564453125, 4509.70458984375, 541.2817993164062, 1845.690673828125, 533.093994140625, 533.5794677734375, 3234.063232421875, 2048.320556640625, 5569.69482421875, 958.1549072265625, 3043.39453125, 165.5095672607422, 211.86781311035156, 24.961692810058594, 181.61717224121094, 18.003402709960938, 18.703369140625, 177.62637329101562, 11.50676155090332, 11.507376670837402, 10.72980785369873, 10.33547306060791, 10.259647369384766, 8.926088333129883, 8.92617130279541, 8.926169395446777, 8.459704399108887, 2219.440673828125, 7.831112384796143, 7.831052780151367, 7.831204414367676, 11.463685989379883, 13.373493194580078, 7.4391279220581055, 267.31256103515625, 157.8019561767578, 76.6417236328125, 6.736129283905029, 501.93194580078125, 6.0313239097595215, 6.031509876251221, 91.69223022460938, 155.68096923828125, 407.4748840332031, 80.28300476074219, 2139.90087890625, 1768.0411376953125, 961.31201171875, 273.09906005859375, 330.7133483886719, 161.7924346923828, 35.618228912353516, 930.288818359375, 382.377197265625, 979.326904296875, 3234.063232421875, 188.4188995361328, 463.4718017578125, 103.603271484375, 1152.6646728515625, 170.57594299316406, 1268.5765380859375, 1378.8475341796875, 6997.25244140625, 344.8166198730469, 4509.70458984375, 3043.39453125, 546.5678100585938, 9015.8583984375, 3499.919921875, 1123.3753662109375, 40.64923095703125, 38.33262634277344, 29.362201690673828, 23.50629425048828, 20.873634338378906, 20.05161476135254, 17.083358764648438, 16.603023529052734, 13.796175003051758, 13.465325355529785, 11.981803894042969, 11.080192565917969, 13.460280418395996, 12.715646743774414, 10.418315887451172, 10.16749095916748, 10.167508125305176, 10.087442398071289, 10.087469100952148, 10.087448120117188, 10.087661743164062, 9.677159309387207, 9.34603214263916, 8.934819221496582, 8.934860229492188, 9.936569213867188, 9.015045166015625, 9.696052551269531, 8.85384750366211, 10.069506645202637, 27.71561050415039, 3043.39453125, 144.438232421875, 17.753747940063477, 220.84710693359375, 346.1379089355469, 30.363399505615234, 15.117741584777832, 25.018476486206055, 155.42120361328125, 18.326833724975586, 275.8158264160156, 4509.70458984375, 1098.5538330078125, 18.263120651245117, 20.615198135375977, 3499.919921875, 817.4356689453125, 193.07052612304688, 177.44525146484375, 280.1377258300781, 27.854736328125, 1388.0169677734375, 169.98269653320312, 69.54908752441406, 550.7919311523438, 251.99440002441406, 134.81216430664062, 110.74081420898438, 200.1094207763672, 762.4920654296875, 2048.320556640625, 6997.25244140625, 2216.42333984375, 1123.3753662109375, 849.7442626953125, 3046.541015625, 9015.8583984375, 958.1549072265625, 1378.8475341796875, 998.785888671875, 3864.28564453125, 2449.80029296875, 1039.7796630859375, 3234.063232421875, 504.890625, 1210.994873046875, 106.14359283447266, 71.0977554321289, 25.631595611572266, 420.6413879394531, 450.9804382324219, 18.443862915039062, 14.50150203704834, 13.605913162231445, 32.602821350097656, 12.251108169555664, 10.907991409301758, 9.738373756408691, 9.564462661743164, 9.20160961151123, 7.947841644287109, 12.368447303771973, 7.225196838378906, 6.778995037078857, 15.828580856323242, 7.2222676277160645, 6.331050395965576, 6.2431745529174805, 5.883439064025879, 5.883448123931885, 5.796227931976318, 5.435676097869873, 5.42785120010376, 4.987885475158691, 4.987871170043945, 4.987878322601318, 36.53287124633789, 22.706499099731445, 50.238739013671875, 37.81526565551758, 20.691049575805664, 359.3683776855469, 42.56862258911133, 35.34660339355469, 1152.6646728515625, 59.960243225097656, 157.79168701171875, 18.769611358642578, 930.288818359375, 535.8668212890625, 2233.290771484375, 318.9709167480469, 352.53173828125, 169.65830993652344, 51.8172492980957, 849.7442626953125, 141.14971923828125, 191.28146362304688, 217.4882354736328, 52.47007751464844, 107.84844207763672, 83.38679504394531, 165.0354461669922, 3234.063232421875, 699.2650146484375, 164.0159912109375, 958.1549072265625, 1268.5765380859375, 463.4718017578125, 340.85186767578125, 379.6445617675781, 2048.320556640625, 9015.8583984375, 1378.8475341796875, 1473.18603515625, 434.32806396484375, 1123.3753662109375, 2056.05712890625, 1215.62158203125], \"loglift\": [30.0, 29.0, 28.0, 27.0, 26.0, 25.0, 24.0, 23.0, 22.0, 21.0, 20.0, 19.0, 18.0, 17.0, 16.0, 15.0, 14.0, 13.0, 12.0, 11.0, 10.0, 9.0, 8.0, 7.0, 6.0, 5.0, 4.0, 3.0, 2.0, 1.0, 1.4729000329971313, 1.472499966621399, 1.4722000360488892, 1.4718999862670898, 1.471500039100647, 1.470900058746338, 1.4706000089645386, 1.4704999923706055, 1.4702999591827393, 1.4699000120162964, 1.4694000482559204, 1.4693000316619873, 1.4678000211715698, 1.4672000408172607, 1.4663000106811523, 1.4651000499725342, 1.4645999670028687, 1.4643000364303589, 1.4637999534606934, 1.4632999897003174, 1.4629000425338745, 1.4621000289916992, 1.4615000486373901, 1.4608999490737915, 1.4603999853134155, 1.4591000080108643, 1.4585000276565552, 1.4579999446868896, 1.4579999446868896, 1.4575999975204468, 1.4484000205993652, 1.4453999996185303, 1.4366999864578247, 1.4345999956130981, 1.3233000040054321, 1.423799991607666, 1.351099967956543, 1.4057999849319458, 1.3629000186920166, 1.375599980354309, 1.3736000061035156, 0.9236999750137329, 1.2692999839782715, 0.8848000168800354, 1.1481000185012817, 1.1872999668121338, 1.121899962425232, 0.9101999998092651, 1.07669997215271, 0.41190001368522644, 0.9896000027656555, 0.49639999866485596, 0.42969998717308044, 0.7031999826431274, -0.12210000306367874, -0.08510000258684158, 0.19249999523162842, 0.5218999981880188, 0.37619999051094055, -0.42010000348091125, -0.8988000154495239, 0.49639999866485596, 0.503600001335144, 0.17970000207424164, 2.142899990081787, 2.140000104904175, 2.1379001140594482, 2.118499994277954, 2.1113998889923096, 2.1094000339508057, 2.1047000885009766, 2.098599910736084, 2.09660005569458, 2.09060001373291, 2.079699993133545, 2.0773000717163086, 2.077199935913086, 2.074399948120117, 2.073199987411499, 2.0722999572753906, 2.0720999240875244, 2.069700002670288, 2.0687999725341797, 2.0669000148773193, 2.064199924468994, 2.0617001056671143, 2.057800054550171, 2.0560998916625977, 2.052500009536743, 2.050800085067749, 2.0490000247955322, 2.04830002784729, 2.0476999282836914, 2.045099973678589, 2.036099910736084, 2.000999927520752, 1.9591000080108643, 2.015700101852417, 1.9930000305175781, 1.9764000177383423, 1.969099998474121, 1.9818999767303467, 1.8387000560760498, 1.9744000434875488, 2.0364999771118164, 2.0339999198913574, 1.9132000207901, 1.8100999593734741, 1.9186999797821045, 1.9270000457763672, 1.7968000173568726, 1.7796000242233276, 1.7726000547409058, 1.4993000030517578, 1.6660000085830688, 1.7072999477386475, 1.5400999784469604, 1.1953999996185303, 1.5490000247955322, 1.3633999824523926, 1.0657999515533447, 0.5590999722480774, 0.7989000082015991, 1.5688999891281128, 1.1643999814987183, 1.3894000053405762, 0.7836999893188477, 0.7085000276565552, 1.121399998664856, 1.0160000324249268, -0.35010001063346863, 1.3152999877929688, 0.14659999310970306, 0.49399998784065247, -0.5134000182151794, -0.33550000190734863, 2.2528998851776123, 2.2516000270843506, 2.240999937057495, 2.235599994659424, 2.233099937438965, 2.2320001125335693, 2.2316999435424805, 2.23009991645813, 2.226099967956543, 2.2239999771118164, 2.2228000164031982, 2.222100019454956, 2.2093000411987305, 2.2083001136779785, 2.204400062561035, 2.204400062561035, 2.2030999660491943, 2.198699951171875, 2.198699951171875, 2.19569993019104, 2.1933000087738037, 2.1928000450134277, 2.191999912261963, 2.191499948501587, 2.1891000270843506, 2.1875, 2.1874001026153564, 2.1872000694274902, 2.1865999698638916, 2.1861000061035156, 2.163800001144409, 2.1559998989105225, 2.1308000087738037, 2.1282999515533447, 2.1277999877929688, 2.151099920272827, 2.086699962615967, 2.026900053024292, 2.0071001052856445, 1.9140000343322754, 2.007999897003174, 1.8934999704360962, 2.0459001064300537, 2.075700044631958, 1.8485000133514404, 1.8703999519348145, 1.832800030708313, 1.7096999883651733, 1.8134000301361084, 1.054800033569336, 1.5192999839782715, 1.3273999691009521, 0.7415000200271606, 1.205299973487854, 1.7386000156402588, 1.1019999980926514, 1.0192999839782715, 1.694200038909912, 0.12950000166893005, 0.3458000123500824, 1.0671000480651855, -0.3968999981880188, 0.7937999963760376, -0.4341000020503998, 0.5848000049591064, 0.6326000094413757, -0.6064000129699707, -0.9197999835014343, -0.5450000166893005, 2.313999891281128, 2.313699960708618, 2.3118999004364014, 2.3076000213623047, 2.3073999881744385, 2.30649995803833, 2.2978999614715576, 2.2955000400543213, 2.283900022506714, 2.283099889755249, 2.276599884033203, 2.274899959564209, 2.273699998855591, 2.271699905395508, 2.2697999477386475, 2.2690000534057617, 2.2636001110076904, 2.2629001140594482, 2.2625999450683594, 2.25600004196167, 2.2535998821258545, 2.2535998821258545, 2.253200054168701, 2.2516000270843506, 2.2479000091552734, 2.2476000785827637, 2.247499942779541, 2.244800090789795, 2.244499921798706, 2.24429988861084, 2.2409000396728516, 2.2274999618530273, 2.2121999263763428, 2.197700023651123, 2.1960999965667725, 2.2030999660491943, 2.106100082397461, 2.1530001163482666, 2.202699899673462, 2.003200054168701, 2.094099998474121, 2.1559998989105225, 2.0088999271392822, 2.06030011177063, 1.9112000465393066, 2.1719000339508057, 2.0499000549316406, 1.8726999759674072, 1.698699951171875, 1.573199987411499, 1.861899971961975, 1.8079999685287476, 1.308899998664856, 1.7453999519348145, 1.326300024986267, 1.716599941253662, 1.051800012588501, 0.43299999833106995, 0.5041000247001648, 1.28410005569458, 0.6510999798774719, 0.31690001487731934, 1.1526000499725342, 0.4097000062465668, 0.05000000074505806, -0.2524999976158142, 2.339600086212158, 2.3231000900268555, 2.3199000358581543, 2.308199882507324, 2.302999973297119, 2.299799919128418, 2.2997000217437744, 2.296600103378296, 2.2945001125335693, 2.2918999195098877, 2.289599895477295, 2.285900115966797, 2.2843000888824463, 2.281599998474121, 2.281100034713745, 2.2809998989105225, 2.279400110244751, 2.2757999897003174, 2.2757999897003174, 2.2750000953674316, 2.2734999656677246, 2.272900104522705, 2.272599935531616, 2.2674999237060547, 2.267199993133545, 2.266200065612793, 2.264899969100952, 2.259000062942505, 2.2585999965667725, 2.2562999725341797, 2.2451000213623047, 2.24180006980896, 2.2418999671936035, 2.224600076675415, 2.2167999744415283, 2.1791000366210938, 2.1070001125335693, 2.253200054168701, 2.183500051498413, 2.072700023651123, 2.002700090408325, 1.989300012588501, 1.909500002861023, 2.025599956512451, 1.738700032234192, 1.697100043296814, 1.8969000577926636, 1.8729000091552734, 1.9455000162124634, 1.6892999410629272, 1.6294000148773193, 1.6799999475479126, 1.816100001335144, 1.5870000123977661, 1.892199993133545, 1.7934000492095947, 1.2919000387191772, 1.1832000017166138, 0.7186999917030334, 1.2417000532150269, 1.4574999809265137, 1.645300030708313, 0.6335999965667725, 0.8327999711036682, 0.11460000276565552, 0.07880000025033951, 1.3760000467300415, -0.6155999898910522, 0.48159998655319214, -0.4869000017642975, 0.704800009727478, -0.18930000066757202, 0.16920000314712524, -0.1964000016450882, -0.7153000235557556, 2.383699893951416, 2.379300117492676, 2.3680999279022217, 2.3659000396728516, 2.3534998893737793, 2.350800037384033, 2.3461999893188477, 2.334700107574463, 2.3322999477386475, 2.329400062561035, 2.329400062561035, 2.3243000507354736, 2.3232998847961426, 2.323199987411499, 2.314199924468994, 2.3111000061035156, 2.3083999156951904, 2.3071000576019287, 2.3046000003814697, 2.3046000003814697, 2.3046000003814697, 2.304500102996826, 2.302799940109253, 2.302799940109253, 2.3027000427246094, 2.2953999042510986, 2.2953999042510986, 2.2953999042510986, 2.2953999042510986, 2.2952001094818115, 2.2943999767303467, 2.2836999893188477, 2.2118000984191895, 2.181999921798706, 2.2030999660491943, 2.0871999263763428, 2.24780011177063, 2.2734999656677246, 1.9455000162124634, 2.128499984741211, 2.023099899291992, 1.8681000471115112, 2.015899896621704, 1.7210999727249146, 1.8621000051498413, 2.067199945449829, 2.086199998855591, 2.168100118637085, 1.6642999649047852, 1.4305000305175781, 2.078700065612793, 1.363700032234192, 1.0364999771118164, 1.2634999752044678, 1.1191999912261963, 1.4948999881744385, 1.3783999681472778, 1.55649995803833, 1.5324000120162964, 0.8925999999046326, 0.8605999946594238, 1.1327999830245972, 1.1894999742507935, 1.1262999773025513, 1.2060999870300293, 0.4620000123977661, -0.24079999327659607, 1.1561000347137451, 0.47049999237060547, -0.28279998898506165, -1.0902999639511108, 2.5385000705718994, 2.5322000980377197, 2.5295000076293945, 2.5283000469207764, 2.5276999473571777, 2.5230000019073486, 2.522900104522705, 2.5176000595092773, 2.5123000144958496, 2.5111000537872314, 2.5106000900268555, 2.508500099182129, 2.5081000328063965, 2.5037999153137207, 2.4974000453948975, 2.497299909591675, 2.4953999519348145, 2.4951000213623047, 2.4935998916625977, 2.4934000968933105, 2.4923999309539795, 2.4916999340057373, 2.488600015640259, 2.487299919128418, 2.4865000247955322, 2.484499931335449, 2.4839999675750732, 2.4839000701904297, 2.4809000492095947, 2.4781999588012695, 2.477799892425537, 2.4681999683380127, 2.4704999923706055, 2.434499979019165, 2.430999994277954, 2.4040000438690186, 2.4175000190734863, 2.2890000343322754, 2.436300039291382, 2.2606000900268555, 2.2607998847961426, 2.255199909210205, 2.2023000717163086, 2.2058000564575195, 2.3513998985290527, 2.2155001163482666, 2.146699905395508, 2.2462000846862793, 2.169100046157837, 1.6622999906539917, 1.9864000082015991, 1.4341000318527222, 1.933899998664856, 1.68340003490448, 1.9129999876022339, 1.639299988746643, 1.7568999528884888, 1.5745999813079834, 1.8694000244140625, 1.5960999727249146, 1.232800006866455, 1.753100037574768, 1.283400058746338, 1.3854999542236328, 0.9980000257492065, 0.4226999878883362, -0.163100004196167, 0.49149999022483826, -0.07660000026226044, -0.2143000066280365, 1.0413999557495117, 0.09040000289678574, 0.9350000023841858, 0.9318000078201294, -0.6348000168800354, -0.26409998536109924, -1.1654000282287598, 0.382999986410141, -0.7174000144004822, 2.587399959564209, 2.587100028991699, 2.561500072479248, 2.5494000911712646, 2.545099973678589, 2.5404000282287598, 2.539799928665161, 2.5188000202178955, 2.517699956893921, 2.509999990463257, 2.5097999572753906, 2.508699893951416, 2.4953999519348145, 2.4946000576019287, 2.4946000576019287, 2.4893999099731445, 2.4860999584198, 2.4802000522613525, 2.4802000522613525, 2.4798998832702637, 2.474400043487549, 2.470599889755249, 2.4667999744415283, 2.4658000469207764, 2.460900068283081, 2.460599899291992, 2.45989990234375, 2.4595999717712402, 2.4428000450134277, 2.4426000118255615, 2.3856000900268555, 2.36080002784729, 2.3315000534057617, 2.3752999305725098, 2.208699941635132, 2.15339994430542, 2.1659998893737793, 2.234499931335449, 2.218100070953369, 2.2502999305725098, 2.363600015640259, 1.9881000518798828, 2.083400011062622, 1.9211000204086304, 1.7599999904632568, 2.0571000576019287, 1.9093999862670898, 2.1407999992370605, 1.6934000253677368, 1.9895999431610107, 1.4735000133514404, 1.3449000120162964, 0.7455000281333923, 1.6167999505996704, 0.1492999941110611, 0.35679998993873596, 1.3169000148773193, -0.43160000443458557, -0.027899999171495438, 0.6104000210762024, 2.6214001178741455, 2.6196000576019287, 2.613100051879883, 2.6033999919891357, 2.5999999046325684, 2.597599983215332, 2.591399908065796, 2.589900016784668, 2.5787999629974365, 2.5771000385284424, 2.568700075149536, 2.5620999336242676, 2.5604000091552734, 2.5604000091552734, 2.556999921798706, 2.555000066757202, 2.5548999309539795, 2.5541999340057373, 2.5541999340057373, 2.5536999702453613, 2.5536999702453613, 2.548799991607666, 2.5464000701904297, 2.5422000885009766, 2.542099952697754, 2.540600061416626, 2.5397000312805176, 2.5394999980926514, 2.5381999015808105, 2.5316998958587646, 2.5132999420166016, 2.3889000415802, 2.464900016784668, 2.522200107574463, 2.362600088119507, 2.322999954223633, 2.4672000408172607, 2.50570011138916, 2.453399896621704, 2.232300043106079, 2.4825000762939453, 2.1517999172210693, 1.7680000066757202, 1.9006999731063843, 2.464600086212158, 2.445199966430664, 1.5168999433517456, 1.7595000267028809, 2.030600070953369, 2.0215001106262207, 1.9012999534606934, 2.386699914932251, 1.4163999557495117, 1.9097000360488892, 2.107100009918213, 1.4427000284194946, 1.6792999505996704, 1.863800048828125, 1.926300048828125, 1.70169997215271, 1.1691999435424805, 0.7889999747276306, 0.17980000376701355, 0.6523000001907349, 0.8727999925613403, 0.953499972820282, 0.3614000082015991, -0.1525000035762787, 0.8744000196456909, 0.5123000144958496, 0.682699978351593, -0.1964000016450882, 0.08259999752044678, 0.6137999892234802, -0.2994000017642975, 1.058899998664856, 0.1907999962568283, 3.060699939727783, 3.059299945831299, 3.04010009765625, 3.0397000312805176, 3.034899950027466, 3.0267999172210693, 3.013700008392334, 3.0095999240875244, 3.00570011138916, 3.0023999214172363, 2.992799997329712, 2.982300043106079, 2.981300115585327, 2.9760000705718994, 2.961400032043457, 2.952199935913086, 2.946500062942505, 2.9405999183654785, 2.938699960708618, 2.9326000213623047, 2.9300999641418457, 2.9272000789642334, 2.9186999797821045, 2.918600082397461, 2.916100025177002, 2.9047999382019043, 2.892699956893921, 2.888000011444092, 2.888000011444092, 2.888000011444092, 2.879499912261963, 2.88319993019104, 2.8517000675201416, 2.8489999771118164, 2.863100051879883, 2.702199935913086, 2.8104000091552734, 2.8046998977661133, 2.5464000701904297, 2.7400999069213867, 2.5778000354766846, 2.8152999877929688, 2.2811999320983887, 2.347100019454956, 2.128200054168701, 2.4189000129699707, 2.376300096511841, 2.4732000827789307, 2.6458001136779785, 2.0302999019622803, 2.422499895095825, 2.309299945831299, 2.253000020980835, 2.618000030517578, 2.3861000537872314, 2.4605000019073486, 2.2207999229431152, 1.1655000448226929, 1.687600016593933, 2.2123000621795654, 1.3568999767303467, 1.1854000091552734, 1.62909996509552, 1.7624000310897827, 1.7038999795913696, 0.8392000198364258, -0.2696000039577484, 0.8410999774932861, 0.7773000001907349, 1.4924999475479126, 0.699400007724762, 0.1657000035047531, 0.41449999809265137], \"logprob\": [30.0, 29.0, 28.0, 27.0, 26.0, 25.0, 24.0, 23.0, 22.0, 21.0, 20.0, 19.0, 18.0, 17.0, 16.0, 15.0, 14.0, 13.0, 12.0, 11.0, 10.0, 9.0, 8.0, 7.0, 6.0, 5.0, 4.0, 3.0, 2.0, 1.0, -2.22979998588562, -4.012599945068359, -4.404099941253662, -4.762800216674805, -4.993800163269043, -5.280399799346924, -5.4120001792907715, -5.434700012207031, -5.46999979019165, -5.308300018310547, -5.771100044250488, -5.80109977722168, -6.125400066375732, -6.244100093841553, -6.382400035858154, -6.542900085449219, -6.5995001792907715, -6.530900001525879, -6.683800220489502, -6.7453999519348145, -6.779600143432617, -6.851900100708008, -6.90310001373291, -6.956999778747559, -6.999499797821045, -7.090400218963623, -7.138999938964844, -5.97599983215332, -7.172800064086914, -7.190299987792969, -5.524099826812744, -5.317599773406982, -5.247499942779541, -6.020100116729736, -3.5195000171661377, -6.18120002746582, -5.131100177764893, -6.111999988555908, -5.793600082397461, -6.034800052642822, -6.17140007019043, -4.065999984741211, -5.667099952697754, -4.039599895477295, -5.360099792480469, -5.557400226593018, -5.421599864959717, -4.913300037384033, -5.318299770355225, -3.9642999172210693, -5.3018999099731445, -4.510700225830078, -4.502399921417236, -5.025599956512451, -4.132699966430664, -4.220300197601318, -4.628300189971924, -5.010799884796143, -4.994500160217285, -4.641900062561035, -4.427700042724609, -5.206099987030029, -5.287199974060059, -5.285299777984619, -4.498499870300293, -5.0432000160217285, -5.696400165557861, -6.07450008392334, -7.1956000328063965, -7.208499908447266, -7.188000202178955, -5.4303998947143555, -4.539700031280518, -7.7032999992370605, -7.946899890899658, -7.6194000244140625, -6.686500072479248, -8.02750015258789, -8.004599571228027, -8.047200202941895, -8.06029987335205, -8.094099998474121, -5.9191999435424805, -8.129199981689453, -8.15880012512207, -8.195699691772461, -6.874499797821045, -8.266599655151367, -8.308300018310547, -6.575900077819824, -4.418399810791016, -6.868199825286865, -8.360699653625488, -8.388400077819824, -6.047800064086914, -4.439199924468994, -2.87280011177063, -5.9207000732421875, -5.201900005340576, -4.783100128173828, -4.805099964141846, -5.793799877166748, -3.351599931716919, -6.057000160217285, -7.279200077056885, -7.243000030517578, -5.812699794769287, -4.768499851226807, -5.99429988861084, -6.118899822235107, -5.002900123596191, -5.302599906921387, -5.407299995422363, -4.065800189971924, -4.884399890899658, -5.351200103759766, -4.665500164031982, -3.9196999073028564, -4.999899864196777, -4.560400009155273, -4.092299938201904, -3.223299980163574, -3.676300048828125, -5.188000202178955, -4.584499835968018, -4.978799819946289, -4.223499774932861, -4.258699893951416, -4.80810022354126, -4.751399993896484, -3.8791000843048096, -5.120200157165527, -4.674200057983398, -4.832499980926514, -4.735099792480469, -4.889800071716309, -4.997799873352051, -4.961900234222412, -6.550099849700928, -6.8221001625061035, -5.065199851989746, -6.892499923706055, -6.917799949645996, -7.031499862670898, -7.158899784088135, -7.220399856567383, -7.008399963378906, -6.540200233459473, -7.570799827575684, -7.591100215911865, -6.126500129699707, -7.613999843597412, -7.69290018081665, -7.7692999839782715, -7.768499851226807, -7.232699871063232, -7.802999973297119, -7.8649001121521, -7.865600109100342, -7.866199970245361, -7.920300006866455, -4.728099822998047, -7.934899806976318, -7.9415998458862305, -7.956299781799316, -7.963500022888184, -4.296599864959717, -5.243800163269043, -4.270299911499023, -4.764900207519531, -5.56820011138916, -6.410799980163574, -5.79640007019043, -4.859399795532227, -4.89709997177124, -4.745999813079834, -5.811999797821045, -4.8429999351501465, -6.369900226593018, -6.609000205993652, -4.953199863433838, -5.2245001792907715, -5.311800003051758, -4.758699893951416, -5.5152997970581055, -3.3213000297546387, -4.8368000984191895, -4.375100135803223, -3.0409998893737793, -4.359799861907959, -5.64870023727417, -4.23859977722168, -4.095799922943115, -5.694900035858154, -3.3994998931884766, -4.474999904632568, -5.222400188446045, -4.407599925994873, -5.2052998542785645, -4.655799865722656, -5.1392998695373535, -5.166200160980225, -5.081600189208984, -5.054999828338623, -5.099299907684326, -5.017099857330322, -5.1691999435424805, -5.210599899291992, -5.992300033569336, -4.914999961853027, -5.828700065612793, -6.609300136566162, -6.3668999671936035, -7.0229997634887695, -7.130099773406982, -7.333399772644043, -5.552999973297119, -7.398399829864502, -7.439700126647949, -5.7596001625061035, -7.502299785614014, -7.606900215148926, -7.61269998550415, -7.582099914550781, -7.736700057983398, -7.769000053405762, -7.769000053405762, -7.763400077819824, -7.808000087738037, -7.720699787139893, -7.863999843597412, -7.831399917602539, -7.893899917602539, -7.914400100708008, -6.2895002365112305, -5.570000171661377, -5.280700206756592, -5.119800090789795, -5.185500144958496, -5.180799961090088, -6.302700042724609, -3.99399995803833, -5.170100212097168, -6.444300174713135, -2.61080002784729, -5.117400169372559, -6.284999847412109, -4.7393999099731445, -5.639599800109863, -4.506100177764893, -6.715099811553955, -5.99560022354126, -5.007400035858154, -4.048799991607666, -3.972100019454956, -5.366700172424316, -5.278500080108643, -3.9402999877929688, -5.1732001304626465, -4.223100185394287, -5.171800136566162, -4.318900108337402, -4.042200088500977, -4.316699981689453, -5.002600193023682, -4.6753997802734375, -4.672800064086914, -5.179500102996826, -4.9903998374938965, -4.957200050354004, -5.219699859619141, -6.269000053405762, -6.556700229644775, -7.129700183868408, -7.402100086212158, -7.487100124359131, -7.090700149536133, -7.561999797821045, -7.636899948120117, -7.576000213623047, -7.718999862670898, -7.750400066375732, -7.808899879455566, -6.573999881744385, -7.871200084686279, -5.441199779510498, -7.865300178527832, -7.873499870300293, -7.945199966430664, -7.945300102233887, -7.179100036621094, -7.976600170135498, -7.984300136566162, -7.97760009765625, -8.050700187683105, -8.05090045928955, -8.06719970703125, -5.165900230407715, -8.140399932861328, -8.132399559020996, -8.17770004272461, -6.226799964904785, -5.970699787139893, -6.552499771118164, -5.947800159454346, -5.839200019836426, -4.757599830627441, -5.603000164031982, -7.678699970245361, -6.845799922943115, -5.6020002365112305, -5.283400058746338, -5.200200080871582, -4.514599800109863, -5.603400230407715, -3.810699939727783, -3.629300117492676, -5.10099983215332, -5.165800094604492, -5.645500183105469, -4.374599933624268, -4.099800109863281, -4.482100009918213, -5.206600189208984, -4.3796000480651855, -5.625699996948242, -5.563300132751465, -4.319699764251709, -4.066100120544434, -3.063800096511841, -4.303599834442139, -4.910699844360352, -5.335999965667725, -4.481500148773193, -4.703700065612793, -4.107100009918213, -4.297299861907959, -5.258699893951416, -4.144599914550781, -4.889100074768066, -4.497499942779541, -5.094099998474121, -4.803299903869629, -5.021100044250488, -5.017199993133545, -5.190499782562256, -7.4029998779296875, -7.4807000160217285, -7.680600166320801, -7.715799808502197, -7.888199806213379, -7.9232001304626465, -7.977399826049805, -8.106900215148926, -8.128299713134766, -8.161399841308594, -8.161399841308594, -8.207900047302246, -8.219300270080566, -8.11929988861084, -7.8907999992370605, -8.332300186157227, -8.346500396728516, -5.6620001792907715, -8.387200355529785, -8.387200355529785, -8.387200355529785, -8.387299537658691, -8.401000022888184, -8.401000022888184, -8.401200294494629, -8.460000038146973, -8.460000038146973, -8.460000038146973, -8.460000038146973, -8.46030044555664, -7.845699787139893, -6.925000190734863, -3.512399911880493, -3.7602999210357666, -5.007699966430664, -2.0480000972747803, -6.976900100708008, -7.736700057983398, -2.0650999546051025, -5.6778998374938965, -4.494800090789795, -3.1428000926971436, -4.912099838256836, -1.807800054550171, -3.6029999256134033, -5.683300018310547, -6.1433000564575195, -6.826700210571289, -4.451700210571289, -3.9100000858306885, -7.023099899291992, -4.649799823760986, -3.8954999446868896, -4.822199821472168, -4.417300224304199, -5.540599822998047, -5.318900108337402, -5.910900115966797, -5.860199928283691, -4.507400035858154, -4.672100067138672, -5.191199779510498, -5.291600227355957, -5.197999954223633, -5.459799766540527, -4.527699947357178, -4.023200035095215, -5.529900074005127, -5.258399963378906, -5.532100200653076, -5.565499782562256, -6.633699893951416, -6.924900054931641, -6.913099765777588, -7.030700206756592, -5.754700183868408, -7.15369987487793, -6.595099925994873, -7.27239990234375, -5.427999973297119, -7.3734002113342285, -7.34689998626709, -7.3867998123168945, -7.4506001472473145, -5.919400215148926, -7.527400016784668, -7.621099948883057, -7.623000144958496, -7.651500225067139, -7.5578999519348145, -7.591100215911865, -7.6905999183654785, -7.091700077056885, -7.687300205230713, -7.756899833679199, -5.253200054168701, -7.791900157928467, -7.792500019073486, -7.80049991607666, -7.836999893188477, -7.511499881744385, -6.087399959564209, -6.635700225830078, -6.804900169372559, -6.610899925231934, -6.561800003051758, -6.062699794769287, -6.434100151062012, -4.76140022277832, -6.9532999992370605, -5.16379976272583, -5.242499828338623, -5.226099967956543, -4.7758002281188965, -5.367800235748291, -6.476399898529053, -5.821400165557861, -5.481400012969971, -6.143499851226807, -5.923099994659424, -4.026700019836426, -5.645400047302246, -4.289899826049805, -5.631999969482422, -5.212900161743164, -5.673299789428711, -5.179500102996826, -5.575399875640869, -5.38730001449585, -5.81850004196167, -5.47130012512207, -5.053999900817871, -5.684100151062012, -5.1479997634887695, -5.306600093841553, -4.92579984664917, -4.398099899291992, -3.945499897003174, -4.757699966430664, -4.4527997970581055, -4.436100006103516, -5.300300121307373, -5.024700164794922, -5.421999931335449, -5.424300193786621, -5.189000129699707, -5.275000095367432, -5.176000118255615, -5.387700080871582, -5.332399845123291, -4.939300060272217, -4.692699909210205, -6.856900215148926, -4.884399890899658, -7.199999809265137, -7.166600227355957, -4.916299819946289, -7.673999786376953, -7.675000190734863, -7.752699851989746, -7.79040002822876, -7.798799991607666, -7.951300144195557, -7.952099800109863, -7.952099800109863, -8.01099967956543, -2.4446001052856445, -8.097399711608887, -8.097399711608887, -8.097700119018555, -7.722099781036377, -7.571899890899658, -8.162099838256836, -4.581500053405762, -5.113500118255615, -5.835999965667725, -8.268400192260742, -3.9576001167297363, -8.395899772644043, -8.396100044250488, -5.7316999435424805, -5.227099895477295, -4.294300079345703, -5.874899864196777, -2.758500099182129, -3.004699945449829, -3.6013998985290527, -4.791299819946289, -4.616300106048584, -5.299099922180176, -6.6992998123168945, -3.8120999336242676, -4.605899810791016, -3.827699899673462, -2.7941999435424805, -5.339900016784668, -4.587500095367432, -5.854300022125244, -3.8924999237060547, -5.506899833679199, -4.016499996185303, -4.061800003051758, -3.0369999408721924, -5.175899982452393, -4.072500228881836, -4.258200168609619, -5.015200138092041, -3.9605000019073486, -4.503200054168701, -5.001200199127197, -6.3094000816345215, -6.369800090789795, -6.642899990081787, -6.875100135803223, -6.997200012207031, -7.03980016708374, -7.206200122833252, -7.236199855804443, -7.432499885559082, -7.458499908447266, -7.583600044250488, -7.668499946594238, -7.475599765777588, -7.53249979019165, -7.735099792480469, -7.761499881744385, -7.761600017547607, -7.770199775695801, -7.770199775695801, -7.770699977874756, -7.770699977874756, -7.8171000480651855, -7.854300022125244, -7.903500080108643, -7.90369987487793, -7.798900127410889, -7.89709997177124, -7.82450008392334, -7.916600227355957, -7.79449987411499, -6.8003997802734375, -2.2260000705718994, -5.197999954223633, -7.2368998527526855, -4.8755998611450195, -4.465799808502197, -6.755300045013428, -7.414100170135498, -6.962699890136719, -5.3572998046875, -7.244900226593018, -4.864200115203857, -2.453700065612793, -3.7332000732421875, -7.266200065612793, -7.1645002365112305, -2.958400011062622, -4.170000076293945, -5.342100143432617, -5.435500144958496, -5.0991997718811035, -6.921999931335449, -3.9837000370025635, -5.5903000831604, -6.286499977111816, -4.8815999031066895, -5.427000045776367, -5.868000030517578, -6.002200126647949, -5.635200023651123, -4.829899787902832, -4.22189998626709, -3.60260009765625, -4.279799938201904, -4.738800048828125, -4.93720006942749, -4.252500057220459, -3.6814000606536865, -4.896299839019775, -4.894400119781494, -5.046500205993652, -4.5725998878479, -4.749300003051758, -5.075099945068359, -4.853600025177002, -5.352399826049805, -5.345699787139893, -4.910200119018555, -5.312300205230713, -6.351799964904785, -3.5541999340057373, -3.4893999099731445, -6.694200038909912, -6.947800159454346, -7.015600204467773, -6.145599842071533, -7.127699851989746, -7.253399848937988, -7.377299785614014, -7.396299839019775, -7.440299987792969, -7.601399898529053, -7.168300151824951, -7.711599826812744, -7.781300067901611, -6.935200214385986, -7.725900173187256, -7.860099792480469, -7.876999855041504, -7.944900035858154, -7.944900035858154, -7.962399959564209, -8.038000106811523, -8.051400184631348, -8.140700340270996, -8.140700340270996, -8.140700340270996, -6.1579999923706055, -6.629799842834473, -5.867300033569336, -6.153900146484375, -6.7428998947143555, -4.049099922180176, -6.07420015335083, -6.2657999992370605, -3.039400100708008, -5.8018999099731445, -4.996600151062012, -6.888199806213379, -3.5190000534057617, -4.004700183868408, -2.796299934387207, -4.451700210571289, -4.394199848175049, -5.028800010681152, -6.042200088500977, -3.8605000972747803, -5.263400077819824, -5.072700023651123, -5.0005998611450195, -6.057499885559082, -5.568900108337402, -5.751699924468994, -5.308700084686279, -3.388700008392334, -4.398099899291992, -5.323400020599365, -4.413700103759766, -4.304599761962891, -4.8678998947143555, -5.041800022125244, -4.992499828338623, -4.1717000007629395, -3.7985000610351562, -4.5655999183654785, -4.563199996948242, -5.069399833679199, -4.912199974060059, -4.841400146484375, -5.118199825286865]}, \"token.table\": {\"Topic\": [1, 1, 1, 2, 4, 7, 8, 9, 10, 2, 2, 3, 5, 7, 8, 9, 6, 2, 8, 1, 2, 3, 4, 5, 6, 7, 9, 6, 2, 4, 3, 5, 7, 10, 2, 7, 9, 1, 2, 8, 10, 3, 4, 7, 1, 8, 1, 2, 3, 4, 5, 6, 7, 8, 9, 10, 1, 3, 5, 7, 5, 7, 1, 3, 2, 3, 5, 7, 9, 10, 2, 3, 5, 6, 7, 9, 10, 2, 2, 3, 4, 5, 6, 7, 8, 9, 10, 3, 1, 10, 6, 9, 8, 1, 2, 3, 4, 5, 6, 8, 9, 10, 4, 8, 4, 1, 5, 6, 9, 5, 1, 3, 5, 1, 6, 1, 6, 1, 2, 3, 4, 5, 6, 7, 8, 9, 6, 1, 3, 5, 6, 8, 9, 3, 3, 5, 7, 2, 3, 4, 1, 2, 3, 4, 5, 6, 7, 8, 9, 10, 4, 10, 1, 2, 3, 4, 5, 6, 7, 8, 9, 10, 1, 3, 4, 5, 8, 9, 2, 8, 3, 4, 5, 6, 8, 9, 10, 1, 3, 4, 7, 2, 2, 3, 4, 5, 7, 9, 2, 3, 4, 5, 6, 7, 8, 9, 10, 7, 10, 1, 2, 3, 4, 5, 6, 7, 8, 9, 10, 1, 2, 3, 7, 9, 1, 1, 2, 3, 6, 7, 8, 9, 10, 2, 8, 10, 1, 5, 3, 6, 7, 3, 5, 1, 4, 6, 7, 3, 4, 7, 4, 7, 1, 2, 3, 4, 5, 6, 7, 8, 9, 10, 1, 2, 3, 4, 5, 7, 8, 9, 10, 5, 7, 1, 2, 3, 4, 5, 6, 7, 8, 9, 10, 1, 2, 3, 4, 5, 6, 7, 9, 1, 2, 3, 4, 5, 7, 9, 1, 1, 4, 5, 7, 9, 2, 1, 2, 3, 4, 5, 6, 7, 8, 9, 10, 1, 2, 3, 4, 5, 6, 7, 8, 9, 10, 2, 7, 8, 9, 10, 2, 4, 5, 6, 7, 9, 10, 3, 1, 2, 3, 4, 5, 6, 8, 9, 10, 1, 3, 4, 5, 7, 8, 9, 10, 1, 3, 4, 5, 10, 5, 2, 3, 7, 8, 1, 2, 3, 7, 8, 9, 7, 8, 9, 2, 8, 10, 3, 4, 5, 6, 7, 9, 4, 8, 8, 7, 5, 6, 5, 8, 5, 6, 3, 4, 5, 7, 6, 2, 3, 5, 7, 9, 10, 5, 1, 2, 3, 4, 6, 7, 1, 1, 1, 2, 9, 1, 2, 4, 6, 7, 9, 7, 10, 3, 1, 1, 2, 3, 4, 5, 6, 10, 2, 4, 6, 7, 8, 3, 6, 3, 10, 9, 6, 2, 4, 5, 8, 3, 4, 5, 6, 7, 2, 3, 7, 8, 10, 7, 1, 5, 10, 1, 3, 4, 5, 6, 1, 6, 7, 9, 7, 6, 1, 6, 5, 1, 7, 9, 1, 2, 3, 4, 5, 6, 7, 9, 10, 3, 7, 6, 3, 2, 3, 4, 5, 6, 7, 9, 2, 3, 7, 8, 2, 6, 7, 8, 9, 1, 1, 7, 10, 10, 1, 2, 4, 5, 7, 8, 9, 9, 2, 3, 4, 5, 6, 7, 8, 9, 3, 3, 2, 4, 7, 2, 10, 10, 2, 3, 4, 5, 3, 4, 5, 10, 9, 7, 1, 2, 2, 8, 4, 5, 6, 3, 1, 3, 4, 7, 8, 3, 5, 1, 2, 3, 4, 5, 6, 7, 8, 9, 10, 3, 7, 5, 10, 5, 3, 5, 1, 5, 7, 10, 4, 5, 8, 9, 10, 3, 5, 7, 1, 2, 3, 5, 7, 8, 9, 1, 2, 3, 4, 5, 6, 7, 8, 9, 10, 6, 1, 2, 3, 4, 5, 6, 7, 8, 9, 1, 3, 4, 5, 6, 8, 10, 10, 2, 3, 4, 5, 6, 7, 8, 9, 5, 10, 9, 1, 3, 5, 6, 7, 9, 10, 1, 2, 3, 4, 5, 7, 9, 10, 4, 5, 7, 8, 9, 1, 1, 3, 7, 10, 7, 4, 10, 4, 8, 5, 9, 1, 2, 3, 4, 5, 6, 7, 8, 9, 10, 5, 6, 2, 5, 6, 8, 9, 6, 6, 7, 2, 3, 4, 5, 7, 9, 5, 7, 8, 9, 2, 3, 5, 6, 7, 8, 9, 1, 2, 3, 4, 7, 8, 9, 10, 2, 3, 5, 7, 10, 2, 3, 9, 10, 4, 4, 9, 7, 8, 9, 10, 8, 10, 9, 2, 4, 9, 1, 2, 3, 4, 5, 6, 7, 8, 9, 10, 4, 2, 3, 5, 7, 1, 2, 3, 4, 5, 6, 7, 8, 9, 10, 2, 2, 8, 2, 8, 9, 2, 7, 8, 2, 8, 9, 10, 8, 8, 9, 2, 8, 9, 1, 2, 3, 4, 5, 6, 7, 8, 9, 10, 9, 2, 8, 2, 9, 7, 9, 1, 4, 5, 8, 9, 1, 2, 3, 4, 5, 6, 7, 8, 9, 10, 3, 4, 5, 6, 9, 10, 2, 8, 1, 2, 3, 4, 5, 7, 9, 1, 2, 3, 4, 5, 6, 7, 9, 10, 8, 10, 1, 2, 4, 8, 9, 10, 4, 5, 4, 6, 2, 3, 5, 7, 10, 1, 2, 3, 2, 3, 4, 5, 7, 9, 3, 2, 3, 4, 5, 6, 7, 8, 9, 10, 7, 10, 1, 3, 4, 5, 7, 10, 7, 9, 10, 7, 8, 1, 2, 3, 7, 8, 10, 6, 8, 1, 2, 3, 5, 6, 7, 8, 9, 10, 4, 2, 3, 4, 5, 6, 7, 8, 9, 10, 1, 2, 3, 4, 5, 7, 9, 10, 9, 6, 5, 7, 3, 5, 7, 1, 4, 6, 7, 9, 1, 8, 10, 5, 1, 1, 2, 3, 4, 7, 8, 9, 9, 2, 5, 1, 2, 3, 4, 5, 6, 8, 9, 1, 2, 4, 5, 6, 9, 4, 4, 4, 6, 7, 9, 1, 2, 3, 4, 5, 6, 7, 8, 9, 10, 1, 2, 3, 4, 5, 7, 8, 9, 10, 2, 4, 8, 10, 2, 6, 2, 5, 9, 10, 1, 2, 3, 4, 5, 6, 7, 8, 9, 10, 3, 9, 1, 2, 3, 4, 5, 7, 8, 9, 1, 2, 3, 4, 5, 7, 8, 1, 4, 1, 2, 3, 4, 5, 6, 7, 8, 9, 1, 2, 3, 4, 5, 7, 8, 9, 1, 2, 3, 4, 5, 6, 8, 9, 10, 2, 4, 8, 10, 2, 7, 8, 10, 1, 2, 3, 4, 5, 6, 7, 9, 9, 6, 7, 5, 4, 9, 1, 2, 3, 4, 5, 6, 7, 8, 9, 9, 5, 1, 2, 3, 7, 3, 5, 6, 2, 3, 4, 5, 6, 7, 8, 9, 10, 2, 4, 7, 8, 3, 2, 10, 7, 3, 4, 5, 7, 10, 2, 3, 8, 9, 1, 3, 4, 5, 6, 7, 8, 9, 10, 2, 8, 2, 3, 5, 7, 5, 2, 3, 4, 5, 7, 8, 9, 10, 9, 2, 3, 4, 6, 8, 9, 10, 1, 2, 3, 4, 5, 6, 7, 8, 9, 10, 8, 2, 7, 8, 10, 2, 3, 5, 7, 8, 9, 1, 2, 3, 4, 5, 7, 8, 9, 10, 1, 2, 3, 4, 5, 6, 7, 8, 9, 10, 2, 7, 8, 3, 9, 5, 4, 5, 9, 1, 3, 5, 7, 8, 10, 2, 4, 5, 6, 7, 8, 9, 2, 3, 4, 5, 7, 8, 9, 10, 2, 1, 2, 3, 4, 5, 7, 8, 9, 10, 1, 7, 9, 4, 1, 4, 8, 1, 2, 3, 4, 5, 6, 7, 9, 9, 1, 4, 5, 7, 1, 5, 1, 1, 6, 9, 1, 4, 7, 3, 4, 4, 2, 8, 2, 2, 5, 9, 4, 10, 1, 2, 3, 4, 5, 7, 8, 9, 10, 1, 1, 3, 5, 6, 7, 10, 1, 3, 7, 9, 10, 5, 2, 3, 5, 7, 8, 1, 2, 3, 4, 5, 7, 8, 10, 2, 3, 8, 10, 2, 3, 7, 8, 9, 3, 3, 4, 7, 8, 10, 7, 7, 9, 7, 7, 7, 10, 3, 4, 5, 7, 7, 1, 4, 5, 6, 7, 8, 10, 7, 10, 2, 3, 9, 4, 8, 9, 10, 1, 2, 3, 5, 6, 7, 8, 9, 1, 3, 4, 5, 1, 2, 3, 4, 5, 6, 7, 8, 9, 10, 9, 10, 1, 2, 3, 5, 7, 9, 1, 2, 3, 4, 5, 6, 7, 8, 9, 10, 1, 2, 3, 4, 5, 7, 8, 10, 6, 1, 2, 3, 4, 5, 6, 7, 8, 9, 10, 1, 2, 5, 7, 9, 10, 10, 1, 2, 2, 5, 3, 1, 2, 3, 4, 5, 6, 7, 8, 9, 10, 1, 2, 3, 4, 5, 6, 7, 8, 9, 10, 1, 2, 3, 4, 5, 6, 7, 9, 10, 6, 9, 9, 1, 2, 3, 4, 5, 6, 7, 8, 9, 10, 5, 4, 3, 4, 5, 6, 7, 8, 9, 10, 2, 3, 4, 5, 6, 7, 9, 1, 3, 6, 1, 2, 4, 7, 10, 8, 10, 7, 8, 4, 10, 1, 2, 3, 4, 5, 6, 7, 8, 9, 10, 1, 2, 3, 5, 6, 7, 8, 9, 10, 4, 4, 9, 6, 1, 1, 6, 6, 3, 6, 9, 3, 4, 5, 6, 7, 9, 2, 2, 8, 2, 3, 4, 7, 10, 1, 2, 3, 4, 5, 6, 7, 8, 9, 10, 10, 10, 1, 2, 6, 1, 3, 4, 5, 6, 8, 10, 7, 2, 1, 3, 5, 6, 7, 8, 10, 1, 3, 4, 5, 7, 6, 2, 3, 4, 5, 6, 7, 8, 9, 10, 3, 5, 7, 2, 8, 3, 5, 1, 5, 6, 7, 8, 10, 6, 1, 2, 3, 4, 7, 8, 9, 3, 4, 6, 7, 9, 4, 7, 10, 8, 1, 6, 1, 9, 3, 9, 1, 2, 3, 5, 7, 8, 9, 10, 5, 8, 10, 8, 1, 2, 3, 4, 5, 6, 7, 8, 9, 4, 9, 5, 9, 6, 2, 3, 5, 2, 3, 4, 5, 7, 10, 3, 1, 2, 3, 4, 5, 7, 8, 9, 10, 1, 2, 6, 7, 8, 10, 3, 4, 5, 6, 7, 10, 3, 1, 2, 3, 4, 5, 8, 3, 4, 7, 2, 3, 5, 10, 9, 3, 7, 10, 7, 1, 2, 3, 4, 5, 6, 7, 8, 9, 1, 2, 3, 4, 5, 7, 9, 10, 4, 3, 5, 7, 6, 6, 6, 5, 6, 6, 1, 2, 3, 4, 6, 7, 8, 9, 10, 2, 3, 5, 3, 5, 2, 2, 3, 4, 5, 6, 7, 8, 9, 10, 2, 3, 4, 5, 6, 7, 8, 9, 10, 7, 3, 4, 9, 3, 5, 1, 5, 6, 9, 10, 1, 9, 1, 2, 3, 4, 5, 6, 7, 8, 9, 10, 1, 2, 3, 4, 6, 7, 8, 9, 10, 1, 2, 3, 7, 3, 4, 5, 7, 9, 10, 1, 8, 10, 1, 2, 7, 4, 5, 7, 9, 1, 2, 3, 4, 7, 10, 4, 7, 3, 1, 3, 4, 5, 6, 7, 10, 7, 2, 4, 9, 3, 4, 5, 8, 4, 10, 10, 3, 5, 7, 10, 1, 2, 3, 4, 5, 6, 7, 8, 9, 10, 2, 3, 5, 6, 9, 1, 2, 5, 7, 8, 1, 3, 4, 5, 6, 9, 10, 10, 1, 2, 3, 4, 5, 7, 8, 9, 10, 3, 6, 1, 2, 3, 4, 5, 7, 2, 4, 5, 2, 3, 5, 6, 7, 8, 3, 7, 4, 6, 1, 2, 3, 4, 5, 6, 7, 8, 9, 1, 2, 3, 4, 5, 6, 7, 8, 9, 10, 2, 3, 5, 6, 7, 8, 2, 4, 7, 8, 2, 3, 5, 6, 7, 8, 2, 5, 7, 9, 2, 3, 5, 5, 4, 6, 9, 4, 4, 5, 2, 7, 2, 4, 5, 8, 10, 2, 3, 4, 5, 7, 10, 2, 10, 1, 3, 4, 5, 7, 9, 10, 1, 2, 3, 4, 7, 8, 10, 9, 1, 3, 4, 7, 8, 10, 1, 2, 3, 4, 5, 6, 7, 8, 9, 10, 1, 2, 3, 4, 5, 6, 7, 8, 9, 10, 1, 2, 7, 8, 10, 1, 2, 7, 8, 9, 10, 1, 2, 3, 4, 7, 8, 9, 10, 2, 7, 8, 2, 8, 2, 3, 6, 4, 6], \"Freq\": [0.9992093443870544, 0.9989367723464966, 0.003661674913018942, 0.014646699652075768, 0.06224847584962845, 0.018308375030755997, 0.6957182288169861, 0.20139212906360626, 0.003661674913018942, 0.9271047711372375, 0.16081082820892334, 0.6514900326728821, 0.0082467095926404, 0.12370064109563828, 0.020616773515939713, 0.0329868383705616, 0.9332656860351562, 0.9367006421089172, 0.04163113981485367, 0.02973887138068676, 0.004956478253006935, 0.6393857002258301, 0.0644342228770256, 0.044608306139707565, 0.024782391265034676, 0.17843322455883026, 0.01486943569034338, 0.8914991021156311, 0.11774245649576187, 0.8712942004203796, 0.23020346462726593, 0.005902653094381094, 0.7378316521644592, 0.029513265937566757, 0.840742290019989, 0.11009719967842102, 0.040035344660282135, 0.021678227931261063, 0.8584578037261963, 0.11706242710351944, 0.924178957939148, 0.931281328201294, 0.019674958661198616, 0.045908235013484955, 0.9960697889328003, 0.8707874417304993, 0.345988929271698, 0.05874307081103325, 0.2996672987937927, 0.022255083546042442, 0.10247689485549927, 0.013715342618525028, 0.07090573012828827, 0.019149722531437874, 0.058484289795160294, 0.008280961774289608, 0.99831622838974, 0.7929300665855408, 0.10190265625715256, 0.10190265625715256, 0.8866198062896729, 0.9358734488487244, 0.04046294465661049, 0.9306477308273315, 0.170546293258667, 0.4760303199291229, 0.15180493891239166, 0.19491004943847656, 0.0037482702173292637, 0.0018741351086646318, 0.0052556428126990795, 0.5938876271247864, 0.1576692909002304, 0.026278214529156685, 0.08934592455625534, 0.094601571559906, 0.03678949922323227, 0.9944176077842712, 0.38684704899787903, 0.2893225848674774, 0.0005418026121333241, 0.17879486083984375, 0.0005418026121333241, 0.08397940546274185, 0.022755708545446396, 0.036842577159404755, 0.0005418026121333241, 0.9686798453330994, 0.5695745944976807, 0.42415130138397217, 0.8542215824127197, 0.8851741552352905, 0.9623934626579285, 0.0635448694229126, 0.1924501657485962, 0.04175805673003197, 0.03812691941857338, 0.04720475897192955, 0.27051958441734314, 0.02178681083023548, 0.30138424038887024, 0.023602379485964775, 0.9851784706115723, 0.8290053606033325, 0.9204198122024536, 0.1751430779695511, 0.029190512374043465, 0.7005723118782043, 0.08757153898477554, 0.8940204977989197, 0.9754095077514648, 0.01388483215123415, 0.006942416075617075, 0.9832025170326233, 0.8917229175567627, 0.9995970726013184, 0.0002639200247358531, 0.5773573517799377, 0.00047794482088647783, 0.021029572933912277, 0.13525837659835815, 0.06022104620933533, 0.1390819400548935, 0.014816289767622948, 0.023897241801023483, 0.027720799669623375, 0.9264383912086487, 0.244559645652771, 0.0660971999168396, 0.0022032400593161583, 0.6631752252578735, 0.022032400593161583, 0.0022032400593161583, 0.8908802270889282, 0.07160553336143494, 0.20049549639225006, 0.7303764820098877, 0.020788170397281647, 0.9562557935714722, 0.9530584216117859, 0.06844297051429749, 0.053313467651605606, 0.1116701066493988, 0.14841316640377045, 0.03386125713586807, 0.21397432684898376, 0.02593628317117691, 0.049711208790540695, 0.2932240664958954, 0.0021613568533211946, 0.1851104348897934, 0.7933304309844971, 0.33371561765670776, 0.009794588200747967, 0.11963390558958054, 0.281944215297699, 0.15321534872055054, 0.032881833612918854, 0.014691882766783237, 0.015391496010124683, 0.030782992020249367, 0.007695748005062342, 0.005234784446656704, 0.05758262798190117, 0.8846786022186279, 0.04711306095123291, 0.005234784446656704, 0.85597825050354, 0.004719924181699753, 0.9911840558052063, 0.023242324590682983, 0.12285228818655014, 0.1958996057510376, 0.6574257612228394, 0.9319831132888794, 0.824634313583374, 0.14552369713783264, 0.0810183435678482, 0.7777760624885559, 0.00810183398425579, 0.12962934374809265, 0.8844919800758362, 0.03606594353914261, 0.033291637897491455, 0.732416033744812, 0.1775554120540619, 0.002774303313344717, 0.016645818948745728, 0.1920897364616394, 0.006693021859973669, 0.1887432187795639, 0.5173705816268921, 0.0006693021859973669, 0.026772087439894676, 0.0033465109299868345, 0.05153626948595047, 0.013386043719947338, 0.944882333278656, 0.8850869536399841, 0.08595997840166092, 0.08379551768302917, 0.060604874044656754, 0.038341861218214035, 0.04483523964881897, 0.011749925091862679, 0.04050631821155548, 0.4332011640071869, 0.05287466198205948, 0.14842011034488678, 0.8844376802444458, 0.0021260520443320274, 0.0021260520443320274, 0.06378156691789627, 0.04464709386229515, 0.9993055462837219, 0.9987496137619019, 0.22007755935192108, 0.04259565472602844, 0.028397103771567345, 0.49694931507110596, 0.02129782736301422, 0.191680446267128, 0.8498430848121643, 0.012455936521291733, 0.7971799373626709, 0.17438310384750366, 0.04576720669865608, 0.9382277131080627, 0.808538019657135, 0.07350345700979233, 0.1176055371761322, 0.2382001280784607, 0.7566356658935547, 0.9539716839790344, 0.04573836922645569, 0.8688936233520508, 0.0724078044295311, 0.2684604227542877, 0.16778776049613953, 0.5570553541183472, 0.9231474995613098, 0.07224632799625397, 0.3523695170879364, 0.037898898124694824, 0.057750701904296875, 0.06948131322860718, 0.009023547172546387, 0.247245192527771, 0.04241067171096802, 0.03248476982116699, 0.13670673966407776, 0.014888852834701538, 0.6721811294555664, 0.029225265607237816, 0.07598569244146347, 0.03312196955084801, 0.03701867163181305, 0.03507031872868538, 0.03507031872868538, 0.029225265607237816, 0.05260547995567322, 0.025727733969688416, 0.9647900462150574, 0.31685319542884827, 0.14962512254714966, 0.07627946883440018, 0.05574268847703934, 0.005867651663720608, 0.002933825831860304, 0.10855155438184738, 0.014669128693640232, 0.002933825831860304, 0.2699119746685028, 0.10647588223218918, 0.12380916625261307, 0.014857100322842598, 0.06685695052146912, 0.3763798773288727, 0.168380469083786, 0.084190234541893, 0.05942840129137039, 0.9874812960624695, 0.009620312601327896, 0.87544846534729, 0.019240625202655792, 0.08337604254484177, 0.006413541734218597, 0.0032067708671092987, 0.9888994693756104, 0.024986330419778824, 0.10993985086679459, 0.33981409668922424, 0.1349261850118637, 0.3897867500782013, 0.9676245450973511, 0.017028557136654854, 0.4573383927345276, 0.015812231227755547, 0.11798357963562012, 0.0012163255596533418, 0.007297953125089407, 0.20799167454242706, 0.07176320999860764, 0.0997386947274208, 0.004865302238613367, 0.21507762372493744, 0.013988789170980453, 0.022731781005859375, 0.3549655079841614, 0.026228979229927063, 0.015737388283014297, 0.26228979229927063, 0.027977578341960907, 0.008742992766201496, 0.05070935934782028, 0.02181856706738472, 0.7363766431808472, 0.00545464176684618, 0.02181856706738472, 0.2072763890028, 0.0037525363732129335, 0.18387427926063538, 0.0037525363732129335, 0.007505072746425867, 0.7580123543739319, 0.007505072746425867, 0.03752536326646805, 0.9709687829017639, 0.6166561245918274, 0.0017568550538271666, 0.03865081071853638, 0.0017568550538271666, 0.10541130602359772, 0.14757582545280457, 0.017568551003932953, 0.04919194057583809, 0.017568551003932953, 0.70296311378479, 0.11301658302545547, 0.070070281624794, 0.04294630140066147, 0.011301658116281033, 0.002260331530123949, 0.04520663246512413, 0.009041326120495796, 0.14820028841495514, 0.08376538008451462, 0.012886982411146164, 0.6636795997619629, 0.09020887315273285, 0.9804035425186157, 0.9090781211853027, 0.06702880561351776, 0.00209465017542243, 0.01885185018181801, 0.03186614066362381, 0.619113564491272, 0.0386945977807045, 0.1092553362250328, 0.07056073844432831, 0.12974071502685547, 0.9067990779876709, 0.0585031658411026, 0.9282127618789673, 0.0021498699206858873, 0.5439171195030212, 0.4525476396083832, 0.02225370705127716, 0.2039923071861267, 0.6156858801841736, 0.07788797467947006, 0.07047007232904434, 0.007417901884764433, 0.9704305529594421, 0.8962411284446716, 0.8938599228858948, 0.9680843949317932, 0.9584868550300598, 0.9366859197616577, 0.9697154760360718, 0.8938772678375244, 0.9350270628929138, 0.03895946219563484, 0.03019118309020996, 0.13082845509052277, 0.13082845509052277, 0.7044609189033508, 0.8631316423416138, 0.6876676678657532, 0.004271227866411209, 0.09823824465274811, 0.17084911465644836, 0.029898595064878464, 0.008542455732822418, 0.9419078826904297, 0.19756434857845306, 0.6934121251106262, 0.050359539687633514, 0.030990486964583397, 0.01162143237888813, 0.007747621741145849, 0.989325225353241, 0.9955816268920898, 0.15658703446388245, 0.8398758769035339, 0.002847036812454462, 0.21178625524044037, 0.005882951896637678, 0.07647836953401566, 0.07647836953401566, 0.14707379043102264, 0.4824020564556122, 0.8506976366043091, 0.13920506834983826, 0.9594180583953857, 0.9917901754379272, 0.05227898061275482, 0.057506877928972244, 0.10978586226701736, 0.10978586226701736, 0.005227898247539997, 0.19866012036800385, 0.4652829170227051, 0.14504574239253998, 0.454222172498703, 0.01908496581017971, 0.37788230180740356, 0.003816992975771427, 0.9110750555992126, 0.89252769947052, 0.9717032313346863, 0.8498417735099792, 0.8921960592269897, 0.8588489890098572, 0.026095446199178696, 0.013047723099589348, 0.07828634232282639, 0.8741974830627441, 0.018524006009101868, 0.8891522884368896, 0.037048012018203735, 0.037048012018203735, 0.9683371782302856, 0.32351619005203247, 0.010402449406683445, 0.0010402449406683445, 0.6501531004905701, 0.014563430100679398, 0.9448932409286499, 0.9858290553092957, 0.0055074249394237995, 0.0055074249394237995, 0.17098578810691833, 0.03469276800751686, 0.016107356175780296, 0.0012390273623168468, 0.7768701910972595, 0.033007409423589706, 0.8251852989196777, 0.06601481884717941, 0.06601481884717941, 0.9681081771850586, 0.9345560669898987, 0.28064483404159546, 0.7077130675315857, 0.918474555015564, 0.07476083934307098, 0.9195582866668701, 0.9180587530136108, 0.04327839985489845, 0.08367156982421875, 0.07790111750364304, 0.14522308111190796, 0.09809770435094833, 0.0019234844949096441, 0.40393173694610596, 0.1317586898803711, 0.013464391231536865, 0.9687731862068176, 0.9221197962760925, 0.8182405233383179, 0.9841281175613403, 0.4362618029117584, 0.21508722007274628, 0.020291246473789215, 0.1988542228937149, 0.0060873739421367645, 0.06899023801088333, 0.05478636547923088, 0.15708817541599274, 0.018850581720471382, 0.5278162956237793, 0.28904223442077637, 0.4408140182495117, 0.023200737312436104, 0.020300645381212234, 0.3741118907928467, 0.13920442759990692, 0.9992645978927612, 0.9824866056442261, 0.2114233374595642, 0.7752189040184021, 0.8019430041313171, 0.04114672541618347, 0.01266053132712841, 0.6393568515777588, 0.0949539840221405, 0.13610070943832397, 0.006330265663564205, 0.06963292509317398, 0.8953734636306763, 0.04008681699633598, 0.0036143851466476917, 0.02628643810749054, 0.008871672675013542, 0.0013143218820914626, 0.03745817393064499, 0.1064600721001625, 0.7757784724235535, 0.9949025511741638, 0.9854007363319397, 0.8525727987289429, 0.031002648174762726, 0.11625992506742477, 0.9942792057991028, 0.8019441962242126, 0.8626300096511841, 0.005489520262926817, 0.07136376202106476, 0.010979040525853634, 0.9112603664398193, 0.03457332402467728, 0.0230488833039999, 0.8758575320243835, 0.0460977666079998, 0.9475545883178711, 0.9399803280830383, 0.996271550655365, 0.9525393843650818, 0.12040408700704575, 0.8745138645172119, 0.9473574161529541, 0.936156153678894, 0.8277146816253662, 0.9282552003860474, 0.09815099835395813, 0.034641530364751816, 0.034641530364751816, 0.7332457304000854, 0.09815099835395813, 0.9797132015228271, 0.9002835750579834, 0.07865401357412338, 0.07007357478141785, 0.048622481524944305, 0.060063064098358154, 0.05720292031764984, 0.31032583117485046, 0.002860145876184106, 0.010010510683059692, 0.11011561751365662, 0.2502627670764923, 0.029668662697076797, 0.9493972063064575, 0.9656103253364563, 0.8304272294044495, 0.8849364519119263, 0.06695106625556946, 0.8703638315200806, 0.1892208755016327, 0.11130639910697937, 0.008347979746758938, 0.6900996565818787, 0.7688164710998535, 0.07185200601816177, 0.007185200694948435, 0.10777801275253296, 0.043111205101013184, 0.16692312061786652, 0.7765554189682007, 0.05080268904566765, 0.09808437526226044, 0.015693500638008118, 0.678743839263916, 0.031387001276016235, 0.07454412430524826, 0.05492724850773811, 0.043157123029232025, 0.38581085205078125, 0.04935746639966965, 0.08390769362449646, 0.0929565578699112, 0.027146605774760246, 0.20730134844779968, 0.040308598428964615, 0.024678733199834824, 0.018097737804055214, 0.06992307305335999, 0.9152641296386719, 0.08549895137548447, 0.001474119839258492, 0.17099790275096893, 0.01768943853676319, 0.1621531844139099, 0.4628736078739166, 0.010318838991224766, 0.060438912361860275, 0.028008276596665382, 0.12839023768901825, 0.1517339050769806, 0.5991544127464294, 0.0622498095035553, 0.007781226187944412, 0.03890613093972206, 0.011671839281916618, 0.9845598936080933, 0.09256070852279663, 0.13067394495010376, 0.22141972184181213, 0.13793359696865082, 0.2722373604774475, 0.014519326388835907, 0.07259663194417953, 0.056262388825416565, 0.929559588432312, 0.9753587245941162, 0.9365839958190918, 0.3265736699104309, 0.05038565397262573, 0.005598405841737986, 0.0018661352805793285, 0.13249561190605164, 0.0018661352805793285, 0.48332905769348145, 0.06686438620090485, 0.013372877612709999, 0.0066864388063549995, 0.04680507257580757, 0.0066864388063549995, 0.6552709937095642, 0.20059315860271454, 0.0066864388063549995, 0.20521028339862823, 0.032064106315374374, 0.5194385051727295, 0.02565128542482853, 0.21162310242652893, 0.9913511276245117, 0.9921266436576843, 0.028291260823607445, 0.19803883135318756, 0.7638640403747559, 0.9577388763427734, 0.902920126914978, 0.8019453287124634, 0.9127972722053528, 0.8772231340408325, 0.8415940403938293, 0.1357409805059433, 0.06449095904827118, 0.5465608835220337, 0.21604470908641815, 0.024184107780456543, 0.06287868320941925, 0.0016122738597914577, 0.07416459918022156, 0.0016122738597914577, 0.009673643857240677, 0.8307639956474304, 0.20265427231788635, 0.7929949760437012, 0.9524462223052979, 0.002480328781530261, 0.009921315126121044, 0.002480328781530261, 0.03224427253007889, 0.8692868947982788, 0.11365236341953278, 0.8637579679489136, 0.6468740105628967, 0.16266421973705292, 0.045394666492938995, 0.015131555497646332, 0.05296044424176216, 0.07187488675117493, 0.9017676115036011, 0.015547716990113258, 0.031095433980226517, 0.06219086796045303, 0.7359386682510376, 0.08877990394830704, 0.11214303225278854, 0.0005840783123858273, 0.010513409040868282, 0.05139888823032379, 0.0005840783123858273, 0.08736104518175125, 0.004597949795424938, 0.04138154909014702, 0.004597949795424938, 0.1057528480887413, 0.26208314299583435, 0.050577446818351746, 0.44140318036079407, 0.05511576682329178, 0.7781049609184265, 0.13941046595573425, 0.019452624022960663, 0.009726312011480331, 0.016677716746926308, 0.21681033074855804, 0.05003315210342407, 0.71714186668396, 0.9675207734107971, 0.955396831035614, 0.03266314044594765, 0.0017351099522784352, 0.4051481783390045, 0.0017351099522784352, 0.5899373888969421, 0.009421199560165405, 0.9892259836196899, 0.9035620093345642, 0.9253036379814148, 0.056326135993003845, 0.9012181758880615, 0.20288364589214325, 0.022263338789343834, 0.0702013298869133, 0.0008977152756415308, 0.05817194655537605, 0.6133190393447876, 0.02387922629714012, 0.0010772582609206438, 0.00017954304348677397, 0.007181722205132246, 0.9056983590126038, 0.0019604740664362907, 0.8782923817634583, 0.08430038392543793, 0.03332806006073952, 0.11193648725748062, 0.1048419177532196, 0.10090049356222153, 0.10090049356222153, 0.03862597048282623, 0.05281510204076767, 0.003941425587981939, 0.3255617618560791, 0.009459421038627625, 0.151350736618042, 0.8625001311302185, 0.8999192118644714, 0.8289798498153687, 0.17254000902175903, 0.23005333542823792, 0.5895116925239563, 0.2282349318265915, 0.002454139059409499, 0.7681455016136169, 0.17092199623584747, 0.03107672743499279, 0.5438427329063416, 0.25379326939582825, 0.9614732265472412, 0.9442659616470337, 0.8921979069709778, 0.12551502883434296, 0.8726282715797424, 0.96523517370224, 0.09328008443117142, 0.08241034299135208, 0.11879068613052368, 0.013309881091117859, 0.05124304071068764, 0.49013635516166687, 0.005989446304738522, 0.048359233886003494, 0.061114534735679626, 0.03527118265628815, 0.8915119171142578, 0.9038174748420715, 0.07230539619922638, 0.8907167315483093, 0.9300249814987183, 0.10912960022687912, 0.873036801815033, 0.9090394377708435, 0.005378931760787964, 0.03765252232551575, 0.048410385847091675, 0.9581465125083923, 0.08473137766122818, 0.015298720449209213, 0.03883521258831024, 0.06707900762557983, 0.002353649353608489, 0.07649360597133636, 0.09767644852399826, 0.08120089769363403, 0.18476146459579468, 0.3518705666065216, 0.13293515145778656, 0.21689419448375702, 0.5135495066642761, 0.0013993174070492387, 0.07416382431983948, 0.06156996637582779, 0.952308714389801, 0.9456595182418823, 0.12422794103622437, 0.005778043996542692, 0.03466826304793358, 0.005778043996542692, 0.06066945940256119, 0.04044630751013756, 0.7251445055007935, 0.16082577407360077, 0.006433031056076288, 0.006433031056076288, 0.06433030962944031, 0.10292849689722061, 0.003216515528038144, 0.41171398758888245, 0.09006243199110031, 0.15439273416996002, 0.8962492346763611, 0.8008745908737183, 0.01758747361600399, 0.029312457889318466, 0.16414976119995117, 0.545211672782898, 0.07621239125728607, 0.16414976119995117, 0.04152042418718338, 0.9134493470191956, 0.8846476674079895, 0.0965070128440857, 0.008629542775452137, 0.8370656371116638, 0.08629542589187622, 0.03451817110180855, 0.017259085550904274, 0.024639727547764778, 0.911669909954071, 0.024639727547764778, 0.1745135337114334, 0.06619478762149811, 0.004011805169284344, 0.6398829221725464, 0.11433644592761993, 0.002005902584642172, 0.977931797504425, 0.08378886431455612, 0.13457000255584717, 0.04316396266222, 0.46337783336639404, 0.04824207350611687, 0.005078113172203302, 0.07236310839653015, 0.11171849071979523, 0.036816321313381195, 0.9216932654380798, 0.06827357411384583, 0.13259874284267426, 0.13812369108200073, 0.03867463394999504, 0.1491735875606537, 0.4419957995414734, 0.09392410516738892, 0.009509287774562836, 0.02139589749276638, 0.9651927351951599, 0.952425479888916, 0.955959677696228, 0.0020386928226798773, 0.86644446849823, 0.0040773856453597546, 0.030580392107367516, 0.09581856429576874, 0.0020386928226798773, 0.07477477937936783, 0.8972973227500916, 0.03877867013216019, 0.8302717804908752, 0.006122948136180639, 0.00040819653077051044, 0.024899989366531372, 0.002040982712060213, 0.0012245896505191922, 0.07714914530515671, 0.01918523758649826, 0.9667044281959534, 0.039388932287693024, 0.0068930634297430515, 0.7293517589569092, 0.07844962179660797, 0.005251857917755842, 0.011816679500043392, 0.02494632452726364, 0.1020829826593399, 0.00196944666095078, 0.33845382928848267, 0.08979387581348419, 0.12663239240646362, 0.10360831767320633, 0.016116850078105927, 0.0437457337975502, 0.07597943395376205, 0.20491422712802887, 0.9784613251686096, 0.8693121075630188, 0.92031329870224, 0.9578474164009094, 0.014249870553612709, 0.702993631362915, 0.28024744987487793, 0.8170217275619507, 0.053575195372104645, 0.0033484497107565403, 0.1205441951751709, 0.006696899421513081, 0.9974862933158875, 0.8070476651191711, 0.18540284037590027, 0.9203687310218811, 0.9916150569915771, 0.982637882232666, 0.7140766978263855, 0.004682470113039017, 0.0023412350565195084, 0.009364940226078033, 0.22709979116916656, 0.04214223101735115, 0.8953693509101868, 0.9591689705848694, 0.8940936923027039, 0.4634093642234802, 0.001000884105451405, 0.05604951083660126, 0.15013262629508972, 0.09908752888441086, 0.14012378454208374, 0.040035367012023926, 0.04904332384467125, 0.036268964409828186, 0.01885986141860485, 0.8080725073814392, 0.07398869097232819, 0.01885986141860485, 0.04207199811935425, 0.988246738910675, 0.978192150592804, 0.22519449889659882, 0.0064341286197304726, 0.10294605791568756, 0.6627152562141418, 0.27771517634391785, 0.135628342628479, 0.14733435213565826, 0.16267327964305878, 0.0779055655002594, 0.03350342810153961, 0.11706016957759857, 0.0008073115022853017, 0.029063215479254723, 0.017760854214429855, 0.07316359877586365, 0.018290899693965912, 0.024387866258621216, 0.11584236472845078, 0.04267876595258713, 0.04267876595258713, 0.23778168857097626, 0.018290899693965912, 0.4206906855106354, 0.2919027805328369, 0.07960984855890274, 0.5838055610656738, 0.042458586394786835, 0.9296522736549377, 0.0670883059501648, 0.8021795153617859, 0.030462512746453285, 0.16246673464775085, 0.9198487997055054, 0.1324780434370041, 0.10658007860183716, 0.18726219236850739, 0.054784152656793594, 0.04183517023921013, 0.060760606080293655, 0.32173240184783936, 0.054784152656793594, 0.03187441825866699, 0.007968604564666748, 0.9111182689666748, 0.9636799097061157, 0.8607663512229919, 0.04250188544392586, 0.0004126396670471877, 0.035074371844530106, 0.022695181891322136, 0.011141271330416203, 0.023520460352301598, 0.0037137570325285196, 0.7222566604614258, 0.013092266395688057, 0.015274310484528542, 0.19201990962028503, 0.01963839866220951, 0.013092266395688057, 0.026184532791376114, 0.9871963858604431, 0.9615501761436462, 0.37909919023513794, 0.1394999772310257, 0.12352669984102249, 0.09158013761043549, 0.08838548511266708, 0.04153052717447281, 0.015973279252648354, 0.07454197108745575, 0.04472518339753151, 0.17629218101501465, 0.5624560117721558, 0.15950244665145874, 0.03357946127653122, 0.005596576724201441, 0.061562348157167435, 0.0027982883621007204, 0.0027982883621007204, 0.04457245022058487, 0.2602916657924652, 0.05685844272375107, 0.15171775221824646, 0.046286772936582565, 0.029429243877530098, 0.07257308810949326, 0.3242931365966797, 0.014000319875776768, 0.002217391040176153, 0.03104347549378872, 0.002217391040176153, 0.9623477458953857, 0.1036297157406807, 0.0004505639662966132, 0.895270586013794, 0.0004505639662966132, 0.34407418966293335, 0.0026066226419061422, 0.0026066226419061422, 0.06255894154310226, 0.13554437458515167, 0.2789086401462555, 0.14597086608409882, 0.028672849759459496, 0.943719208240509, 0.1103542223572731, 0.8828337788581848, 0.8866029381752014, 0.06614744663238525, 0.8599168062210083, 0.1715717911720276, 0.06321065872907639, 0.04515046998858452, 0.09030093997716904, 0.018060188740491867, 0.009030094370245934, 0.07224075496196747, 0.04515046998858452, 0.4876250922679901, 0.892179012298584, 0.9125164747238159, 0.014312914572656155, 0.014312914572656155, 0.8730877637863159, 0.08587748557329178, 0.9015941619873047, 0.03402242064476013, 0.0510336309671402, 0.04096534848213196, 0.6612977385520935, 0.02048267424106598, 0.11996994912624359, 0.05266973376274109, 0.026334866881370544, 0.03218705952167511, 0.04389144480228424, 0.0029260963201522827, 0.07852375507354736, 0.02617458626627922, 0.863761305809021, 0.8962409496307373, 0.9110912084579468, 0.9568005800247192, 0.8978779315948486, 0.9294815063476562, 0.16311590373516083, 0.7979453206062317, 0.0044085378758609295, 0.008817075751721859, 0.026451226323843002, 0.08978253602981567, 0.018704695627093315, 0.8791207075119019, 0.01122281700372696, 0.3592209815979004, 0.1902540773153305, 0.027939410880208015, 0.02128716930747032, 0.3432556092739105, 0.018626272678375244, 0.030600305646657944, 0.00532179232686758, 0.00266089616343379, 0.03854260966181755, 0.9525530934333801, 0.3488647937774658, 0.13429750502109528, 0.5078607201576233, 0.006174598354846239, 0.9269012212753296, 0.05661150813102722, 0.5765987038612366, 0.012580335140228271, 0.21805915236473083, 0.12790007889270782, 0.002096722600981593, 0.002096722600981593, 0.006290167570114136, 0.892198383808136, 0.15590113401412964, 0.018128039315342903, 0.007251215633004904, 0.003625607816502452, 0.20303402841091156, 0.612727701663971, 0.8807422518730164, 0.3188197612762451, 0.026836680248379707, 0.19644449651241302, 0.06011416018009186, 0.19215062260627747, 0.04079175367951393, 0.09124471247196198, 0.0010734671959653497, 0.06977536529302597, 0.003220401471480727, 0.89387047290802, 0.006423392798751593, 0.08992749452590942, 0.7900773286819458, 0.10919767618179321, 0.1751030832529068, 0.1926133930683136, 0.490288645029068, 0.02801649458706379, 0.04202473908662796, 0.06653917580842972, 0.141739159822464, 0.052005015313625336, 0.06832031905651093, 0.5373851656913757, 0.021413831040263176, 0.0785173773765564, 0.04588678106665611, 0.052005015313625336, 0.0020394125021994114, 0.11065281927585602, 0.009083440527319908, 0.1007436141371727, 0.07927366346120834, 0.2180025726556778, 0.26837438344955444, 0.0800994336605072, 0.03468222916126251, 0.08587980270385742, 0.014038044959306717, 0.03377876803278923, 0.016889384016394615, 0.9458054900169373, 0.10824225097894669, 0.8659380078315735, 0.953643262386322, 0.9927303194999695, 0.950637698173523, 0.9840284585952759, 0.14107869565486908, 0.15361902117729187, 0.04702623188495636, 0.10032262653112411, 0.03762098401784897, 0.5204236507415771, 0.2378614842891693, 0.07663906365633011, 0.00046731135807931423, 0.00046731135807931423, 0.0009346227161586285, 0.6785361170768738, 0.004673113580793142, 0.18420161306858063, 0.026314515620470047, 0.5624727606773376, 0.003289314452558756, 0.02302520163357258, 0.07565423101186752, 0.029603831470012665, 0.09210080653429031, 0.9539052248001099, 0.043126169592142105, 0.025875702500343323, 0.021563084796071053, 0.01725046895444393, 0.6943313479423523, 0.06900187581777573, 0.008625234477221966, 0.004312617238610983, 0.11644066125154495, 0.9869979619979858, 0.9150010943412781, 0.9025114178657532, 0.9240342974662781, 0.041519489139318466, 0.913428783416748, 0.041519489139318466, 0.04217950627207756, 0.08172278851270676, 0.15553691983222961, 0.0026362191420048475, 0.2108975201845169, 0.34798091650009155, 0.13708339631557465, 0.02108975313603878, 0.9876643419265747, 0.9711939096450806, 0.011260218918323517, 0.011260218918323517, 0.002815054729580879, 0.9614474773406982, 0.0337349995970726, 0.994479238986969, 0.8970672488212585, 0.08762052655220032, 0.016689622774720192, 0.9927368760108948, 0.9001544117927551, 0.09946457296609879, 0.9562239050865173, 0.9949129819869995, 0.9947507381439209, 0.9763687252998352, 0.011763478629291058, 0.9971852898597717, 0.8001598715782166, 0.062234655022621155, 0.13335998356342316, 0.9305928945541382, 0.9759343862533569, 0.006231220904737711, 0.19672854244709015, 0.020474011078476906, 0.021364185959100723, 0.34538766741752625, 0.009791918098926544, 0.13708685338497162, 0.17002330720424652, 0.0934683158993721, 0.994304358959198, 0.5032432675361633, 0.10218137502670288, 0.08174509555101395, 0.2937714457511902, 0.002554534235969186, 0.015327205881476402, 0.00927227083593607, 0.23180678486824036, 0.08345044404268265, 0.1669008880853653, 0.5007026195526123, 0.9455422759056091, 0.020078780129551888, 0.040157560259103775, 0.7161431312561035, 0.13385853171348572, 0.0870080441236496, 0.002549076685681939, 0.5242601037025452, 0.34837380051612854, 0.0008496922091580927, 0.09431583434343338, 0.015294459648430347, 0.010196306742727757, 0.002549076685681939, 0.8444415926933289, 0.08696906268596649, 0.06171998381614685, 0.0028054537251591682, 0.19160352647304535, 0.06798834353685379, 0.012361517176032066, 0.7046064734458923, 0.018542276695370674, 0.9457103610038757, 0.021273229271173477, 0.12763936817646027, 0.6701067090034485, 0.042546458542346954, 0.13827598094940186, 0.9681262373924255, 0.799008846282959, 0.17755752801895142, 0.9440727829933167, 0.9709506630897522, 0.9411851167678833, 0.04568859934806824, 0.42782655358314514, 0.06467145681381226, 0.054722003638744354, 0.4427507519721985, 0.912872314453125, 0.751901388168335, 0.0912233293056488, 0.055286865681409836, 0.03593646362423897, 0.0331721194088459, 0.002764343284070492, 0.027643432840704918, 0.9550814628601074, 0.8694130778312683, 0.8973330855369568, 0.07275673747062683, 0.8851726651191711, 0.006041946820914745, 0.9908792972564697, 0.21311043202877045, 0.745886504650116, 0.291899710893631, 0.08128852397203445, 0.11454292386770248, 0.08683092892169952, 0.14964479207992554, 0.21800105273723602, 0.03325439617037773, 0.02401706390082836, 0.059152841567993164, 0.04436463117599487, 0.8478574156761169, 0.04436463117599487, 0.21047671139240265, 0.000203359144506976, 0.041688624769449234, 0.0014235139824450016, 0.022166145965456963, 0.7066730260848999, 0.005490696988999844, 0.0026436687912791967, 0.007117569912225008, 0.0024403096176683903, 0.06317685544490814, 0.8844760060310364, 0.018721947446465492, 0.02080216258764267, 0.9090545177459717, 0.014561514370143414, 0.03328346088528633, 0.004160432610660791, 0.13990579545497894, 0.07441797852516174, 0.13395234942436218, 0.03869734704494476, 0.00893015693873167, 0.044650785624980927, 0.395903617143631, 0.03572062775492668, 0.03869734704494476, 0.08930157124996185, 0.2850911617279053, 0.07213149964809418, 0.07556632906198502, 0.07900116592645645, 0.03434833139181137, 0.370961993932724, 0.03778316453099251, 0.04808766394853592, 0.858846127986908, 0.026363061740994453, 0.017575373873114586, 0.030268698930740356, 0.0014646145282313228, 0.03270972520112991, 0.5677822232246399, 0.05907278507947922, 0.0014646145282313228, 0.15671375393867493, 0.10691685974597931, 0.04219259321689606, 0.8965926170349121, 0.04219259321689606, 0.010548148304224014, 0.1642356514930725, 0.8211782574653625, 0.965417206287384, 0.072602778673172, 0.9075347185134888, 0.9043285846710205, 0.06956373900175095, 0.9094347357749939, 0.22230225801467896, 0.043834246695041656, 0.08662482351064682, 0.04696526750922203, 0.013567743822932243, 0.09393053501844406, 0.11271663755178452, 0.030266504734754562, 0.17011862993240356, 0.1795116811990738, 0.13489526510238647, 0.09210590273141861, 0.053668007254600525, 0.05511849373579025, 0.10370980203151703, 0.011603893712162971, 0.03626216575503349, 0.28574588894844055, 0.11893990635871887, 0.10733601450920105, 0.27445849776268005, 0.0007687913603149354, 0.08841100335121155, 0.0030751654412597418, 0.05996572598814964, 0.564292848110199, 0.0007687913603149354, 0.007687913719564676, 0.0007687913603149354, 0.8797901272773743, 0.08797901123762131, 0.8937875628471375, 0.9841895699501038, 0.0974690169095993, 0.00583147956058383, 0.4740159809589386, 0.32822898030281067, 0.004998411051928997, 0.009163753129541874, 0.027491260319948196, 0.029157398268580437, 0.022492850199341774, 0.8548287153244019, 0.9491984844207764, 0.001992424950003624, 0.6654699444770813, 0.15939399600028992, 0.02988637611269951, 0.091651551425457, 0.00996212475001812, 0.03187879920005798, 0.007969699800014496, 0.053532496094703674, 0.0016728905029594898, 0.37054523825645447, 0.5395072102546692, 0.023420466110110283, 0.0033457810059189796, 0.008364452049136162, 0.24941052496433258, 0.045347366482019424, 0.6953262686729431, 0.27884864807128906, 0.06971216201782227, 0.006337469443678856, 0.038024816662073135, 0.6083970665931702, 0.1449902355670929, 0.8216112852096558, 0.8952972888946533, 0.07785193622112274, 0.030672192573547363, 0.9201657772064209, 0.1365431547164917, 0.10104192793369293, 0.10286250710487366, 0.014564602635800838, 0.0819258913397789, 0.02457776665687561, 0.03186006844043732, 0.004551438149064779, 0.47608044743537903, 0.025488054379820824, 0.10384819656610489, 0.007417728193104267, 0.007417728193104267, 0.21511411666870117, 0.0964304655790329, 0.0890127420425415, 0.02967091277241707, 0.4598991572856903, 0.9167590737342834, 0.92494797706604, 0.969253659248352, 0.9057452082633972, 0.8692898750305176, 0.9963123798370361, 0.993888795375824, 0.9087517261505127, 0.9030264019966125, 0.9155130386352539, 0.9068868160247803, 0.08244425803422928, 0.07136692851781845, 0.127440944314003, 0.5709354281425476, 0.21919842064380646, 0.005097637884318829, 0.010195275768637657, 0.8956664204597473, 0.9782583713531494, 0.9409705400466919, 0.007084675598889589, 0.14169351756572723, 0.04959272965788841, 0.27630236744880676, 0.5242660045623779, 0.19212082028388977, 0.02376752346754074, 0.00792250782251358, 0.1227988749742508, 0.16637267172336578, 0.07130257040262222, 0.12874075770378113, 0.04357379302382469, 0.2059852033853531, 0.0396125391125679, 0.9554669260978699, 0.8893598318099976, 0.04550640285015106, 0.882824182510376, 0.06370896100997925, 0.04066816717386246, 0.2477061152458191, 0.06654791533946991, 0.10351897776126862, 0.39189326763153076, 0.014788424596190453, 0.13309583067893982, 0.9626851677894592, 0.9692226052284241, 0.24306359887123108, 0.0052839913405478, 0.13738377392292023, 0.4068673253059387, 0.03698793798685074, 0.06869188696146011, 0.10039582848548889, 0.9046111106872559, 0.06153817102313042, 0.006153817288577557, 0.018461450934410095, 0.9322047829627991, 0.9152652025222778, 0.024784106761217117, 0.07435232400894165, 0.3643263876438141, 0.30918174982070923, 0.0662974864244461, 0.12515974044799805, 0.011772450990974903, 0.019207682460546494, 0.004956821445375681, 0.8994430899620056, 0.09047652781009674, 0.8863721489906311, 0.9286065101623535, 0.8907192349433899, 0.08586534857749939, 0.90158611536026, 0.017081353813409805, 0.028468921780586243, 0.4156462550163269, 0.29607680439949036, 0.03985648974776268, 0.1992824524641037, 0.8588486909866333, 0.0905269980430603, 0.359661340713501, 0.042816825211048126, 0.01712672971189022, 0.041593488305807114, 0.035476796329021454, 0.4134882092475891, 0.006923374719917774, 0.027693498879671097, 0.013846749439835548, 0.11077399551868439, 0.8377283215522766, 0.9810347557067871, 0.9028490781784058, 0.06944993138313293, 0.9559085965156555, 0.25574791431427, 0.7352752685546875, 0.10951030999422073, 0.8213273286819458, 0.9776177406311035, 0.8874054551124573, 0.0713934525847435, 0.06425411254167557, 0.1820533126592636, 0.060684435069561005, 0.12850822508335114, 0.01427869126200676, 0.47476646304130554, 0.00356967281550169, 0.19304409623146057, 0.6370455026626587, 0.15443527698516846, 0.872319757938385, 0.035042546689510345, 0.006007293704897165, 0.025030389428138733, 0.13916896283626556, 0.4835871160030365, 0.06307658553123474, 0.09111061692237854, 0.017020665109157562, 0.141171395778656, 0.11991138011217117, 0.8393796682357788, 0.2154032289981842, 0.7898118495941162, 0.9126871824264526, 0.07694240659475327, 0.8271308541297913, 0.0577068030834198, 0.02443457767367363, 0.1780233532190323, 0.003490653820335865, 0.09424765408039093, 0.6946401000022888, 0.003490653820335865, 0.9634245038032532, 0.14953026175498962, 0.03637222573161125, 0.06264105439186096, 0.16367501020431519, 0.18186111748218536, 0.27683305740356445, 0.030310187488794327, 0.058599695563316345, 0.03839290514588356, 0.002042219042778015, 0.3747471868991852, 0.0010211095213890076, 0.0541188046336174, 0.508512556552887, 0.05820324271917343, 0.6936677098274231, 0.03290123492479324, 0.05483539402484894, 0.1453137993812561, 0.06854423880577087, 0.002741769654676318, 0.8967447280883789, 0.036856334656476974, 0.07371266931295395, 0.5686405897140503, 0.17901647090911865, 0.0842430517077446, 0.0631822869181633, 0.971316397190094, 0.004808497149497271, 0.019233988597989082, 0.12577542662620544, 0.19165779650211334, 0.6288771629333496, 0.05390375480055809, 0.942290186882019, 0.15923966467380524, 0.019904958084225655, 0.796198308467865, 0.9337387681007385, 0.11936593800783157, 0.04825431481003761, 0.7085765600204468, 0.015238204970955849, 0.012698504142463207, 0.03301611170172691, 0.04317491501569748, 0.0025397008284926414, 0.017777906730771065, 0.37631234526634216, 0.0009749024757184088, 0.3938605785369873, 0.009749024175107479, 0.10528946667909622, 0.06629336625337601, 0.0048745120875537395, 0.04192080721259117, 0.9565104246139526, 0.10258766263723373, 0.8719951510429382, 0.010258765891194344, 0.8588486909866333, 0.9152635931968689, 0.9425094723701477, 0.9444875121116638, 0.9152689576148987, 0.9366850256919861, 0.23810052871704102, 0.027778394520282745, 0.06349347531795502, 0.019841710105538368, 0.21429046988487244, 0.03571508079767227, 0.003968342207372189, 0.3809608519077301, 0.007936684414744377, 0.023990260437130928, 0.07197078317403793, 0.8876396417617798, 0.06612896174192429, 0.9258055090904236, 0.9296186566352844, 0.20465175807476044, 0.21908599138259888, 0.0031440912280231714, 0.19450491666793823, 0.06888417899608612, 0.06516843289136887, 0.1570616513490677, 0.08517628908157349, 0.0022866118233650923, 0.14032933115959167, 0.23082207143306732, 0.001311489031650126, 0.15213273465633392, 0.0236068032681942, 0.05377105250954628, 0.11278805881738663, 0.2295105904340744, 0.0550825409591198, 0.9054851531982422, 0.9939104914665222, 0.004417379852384329, 0.9598480463027954, 0.9383167624473572, 0.9388052225112915, 0.11788399517536163, 0.005894199945032597, 0.17682600021362305, 0.14735500514507294, 0.5481606125831604, 0.23998503386974335, 0.7561792731285095, 0.37644869089126587, 0.25631582736968994, 0.02285928651690483, 0.10359634459018707, 0.03501848131418228, 0.01896834373474121, 0.04766404628753662, 0.058364138007164, 0.02626386098563671, 0.05447319522500038, 0.2124262899160385, 0.1389949768781662, 0.17046554386615753, 0.01835782639682293, 0.028848014771938324, 0.3068379759788513, 0.01835782639682293, 0.0681862160563469, 0.04196074604988098, 0.0663699358701706, 0.7964392304420471, 0.1327398717403412, 0.007374437525868416, 0.08394614607095718, 0.01199230644851923, 0.04796922579407692, 0.2638307511806488, 0.04796922579407692, 0.5396537780761719, 0.0440402552485466, 0.0880805104970932, 0.8367648124694824, 0.9652605652809143, 0.01040712185204029, 0.023416025564074516, 0.02817770466208458, 0.3268613815307617, 0.10143973678350449, 0.5353764295578003, 0.02242157980799675, 0.04932747408747673, 0.05381179228425026, 0.6322885751724243, 0.15246674418449402, 0.08520200103521347, 0.8441689610481262, 0.135670006275177, 0.9590233564376831, 0.09497962892055511, 0.006331975106149912, 0.050655800849199295, 0.1456354260444641, 0.006331975106149912, 0.696517288684845, 0.006331975106149912, 0.9466059803962708, 0.9330809712409973, 0.9894149899482727, 0.004456824157387018, 0.060901399701833725, 0.7612674832344055, 0.09135209769010544, 0.08120186626911163, 0.9443936347961426, 0.9409833550453186, 0.7897583842277527, 0.014810055494308472, 0.014810055494308472, 0.9330335259437561, 0.029620110988616943, 0.15056417882442474, 0.07007110863924026, 0.06763192266225815, 0.03237462788820267, 0.10621538013219833, 0.005100112408399582, 0.061866581439971924, 0.08648016303777695, 0.41687875986099243, 0.002660928061231971, 0.7067753076553345, 0.05257006734609604, 0.07885509729385376, 0.011682236567139626, 0.1489485204219818, 0.10722396522760391, 0.1490674614906311, 0.13076093792915344, 0.010460874997079372, 0.5988850593566895, 0.1653781533241272, 0.028891364112496376, 0.0009962539188563824, 0.0009962539188563824, 0.8009881973266602, 0.0009962539188563824, 0.0009962539188563824, 0.9211748242378235, 0.5699251890182495, 0.039608702063560486, 0.05061111971735954, 0.1419311761856079, 0.024205317720770836, 0.07921740412712097, 0.00110024178866297, 0.04400967061519623, 0.04841063544154167, 0.2098265141248703, 0.7606211304664612, 0.01595590077340603, 0.006382360123097897, 0.2489120364189148, 0.5488829612731934, 0.14679427444934845, 0.03191180154681206, 0.033083219081163406, 0.9263301491737366, 0.016541609540581703, 0.5500198602676392, 0.031819332391023636, 0.31364768743515015, 0.0045456187799572945, 0.08863956481218338, 0.009091237559914589, 0.945284903049469, 0.04051220789551735, 0.993771493434906, 0.9152649641036987, 0.05961703881621361, 0.11748063564300537, 0.30334553122520447, 0.09293244034051895, 0.22619405388832092, 0.02454819157719612, 0.13326162099838257, 0.010520653799176216, 0.03331540524959564, 0.0018758417572826147, 0.07878535240888596, 0.06377862393856049, 0.20446676015853882, 0.25699031352996826, 0.016882576048374176, 0.19508755207061768, 0.10879882425069809, 0.06940614432096481, 0.005627525504678488, 0.4704299569129944, 0.0701851174235344, 0.40783241391181946, 0.003793790005147457, 0.03414411097764969, 0.013278265483677387, 0.08422653377056122, 0.056151024997234344, 0.056151024997234344, 0.7861143350601196, 0.2670576572418213, 0.017803844064474106, 0.6302560567855835, 0.017803844064474106, 0.05697230249643326, 0.007121537812054157, 0.06586878001689911, 0.032934390008449554, 0.032934390008449554, 0.8233597278594971, 0.05693797767162323, 0.1038280725479126, 0.8373231887817383, 0.9185514450073242, 0.8842164278030396, 0.015603819862008095, 0.09882418811321259, 0.9530583024024963, 0.9489585757255554, 0.03995615243911743, 0.04724953696131706, 0.9449907541275024, 0.023733913898468018, 0.18124079704284668, 0.05394071340560913, 0.5027274489402771, 0.2351815104484558, 0.10584758222103119, 0.15694642066955566, 0.021899500861763954, 0.5839866995811462, 0.09124791622161865, 0.040149085223674774, 0.3280760943889618, 0.6561521887779236, 0.555234432220459, 0.04791136085987091, 0.0031343880109488964, 0.0013433091808110476, 0.0008955394732765853, 0.0031343880109488964, 0.3882163465023041, 0.4056372344493866, 0.008509872481226921, 0.025529615581035614, 0.028366239741444588, 0.03120286390185356, 0.00283662392757833, 0.49640920758247375, 0.9654427170753479, 0.3740340769290924, 0.23706384003162384, 0.07375319302082062, 0.002634042641147971, 0.05531489849090576, 0.252868115901947, 0.011539614759385586, 0.0366552472114563, 0.3142848014831543, 0.005430407356470823, 0.04004925116896629, 0.366552472114563, 0.06584368646144867, 0.043443258851766586, 0.014933619648218155, 0.10046253353357315, 0.2633178234100342, 0.029729433357715607, 0.13590598106384277, 0.1422765702009201, 0.01274118572473526, 0.2888002097606659, 0.02548237144947052, 0.07644711434841156, 0.023358840495347977, 0.004247061908245087, 0.9341845512390137, 0.05988362804055214, 0.057175442576408386, 0.3049356937408447, 0.6289299130439758, 0.010746356099843979, 0.3399242162704468, 0.0050903791561722755, 0.6419534087181091, 0.001131195342168212, 0.000565597671084106, 0.2122334986925125, 0.14636793732643127, 0.0018295991467311978, 0.31103184819221497, 0.01646639220416546, 0.27809906005859375, 0.012807194143533707, 0.02012559026479721, 0.9568505883216858, 0.03633609786629677, 0.006056016311049461, 0.31144797801971436, 0.6863950490951538, 0.06497062742710114, 0.03248531371355057, 0.8446182012557983, 0.11284510791301727, 0.883953332901001], \"Term\": [\"aa\", \"aaa\", \"absolutely\", \"absolutely\", \"absolutely\", \"absolutely\", \"absolutely\", \"absolutely\", \"absolutely\", \"accessing\", \"account\", \"account\", \"account\", \"account\", \"account\", \"account\", \"active\", \"activities\", \"activities\", \"add\", \"add\", \"add\", \"add\", \"add\", \"add\", \"add\", \"add\", \"addicted\", \"adjust\", \"adjust\", \"ads\", \"ads\", \"ads\", \"ads\", \"adult\", \"adult\", \"adult\", \"age\", \"age\", \"age\", \"aggravating\", \"alexa\", \"alexa\", \"alexa\", \"alkaline\", \"alphabet\", \"amazon\", \"amazon\", \"amazon\", \"amazon\", \"amazon\", \"amazon\", \"amazon\", \"amazon\", \"amazon\", \"amazon\", \"amazonbasics\", \"android\", \"android\", \"android\", \"androids\", \"angle\", \"answer\", \"answer\", \"app\", \"app\", \"app\", \"app\", \"app\", \"app\", \"apple\", \"apple\", \"apple\", \"apple\", \"apple\", \"apple\", \"apple\", \"appropriate\", \"apps\", \"apps\", \"apps\", \"apps\", \"apps\", \"apps\", \"apps\", \"apps\", \"apps\", \"appstore\", \"arrived\", \"arrived\", \"asks\", \"associates\", \"aunt\", \"awesome\", \"awesome\", \"awesome\", \"awesome\", \"awesome\", \"awesome\", \"awesome\", \"awesome\", \"awesome\", \"backlight\", \"backlights\", \"backlit\", \"backup\", \"backup\", \"backup\", \"backup\", \"balance\", \"basics\", \"basics\", \"basics\", \"batch\", \"bath\", \"batteries\", \"batteries\", \"battery\", \"battery\", \"battery\", \"battery\", \"battery\", \"battery\", \"battery\", \"battery\", \"battery\", \"batts\", \"beat\", \"beat\", \"beat\", \"beat\", \"beat\", \"beat\", \"bedroom\", \"beginner\", \"beginner\", \"beginner\", \"beginners\", \"beginners\", \"bells\", \"best\", \"best\", \"best\", \"best\", \"best\", \"best\", \"best\", \"best\", \"best\", \"best\", \"bestbuy\", \"bestbuy\", \"better\", \"better\", \"better\", \"better\", \"better\", \"better\", \"better\", \"better\", \"better\", \"better\", \"bigger\", \"bigger\", \"bigger\", \"bigger\", \"bigger\", \"bills\", \"birthday\", \"birthday\", \"black\", \"black\", \"black\", \"black\", \"blank\", \"block\", \"block\", \"bluetooth\", \"bluetooth\", \"bluetooth\", \"bluetooth\", \"bonuses\", \"book\", \"book\", \"book\", \"book\", \"book\", \"book\", \"books\", \"books\", \"books\", \"books\", \"books\", \"books\", \"books\", \"books\", \"books\", \"boost\", \"bothering\", \"bought\", \"bought\", \"bought\", \"bought\", \"bought\", \"bought\", \"bought\", \"bought\", \"bought\", \"bought\", \"box\", \"box\", \"box\", \"box\", \"box\", \"brand\", \"brands\", \"break\", \"break\", \"break\", \"break\", \"break\", \"break\", \"bringing\", \"brought\", \"brought\", \"brought\", \"browse\", \"browse\", \"browser\", \"browser\", \"browser\", \"browsing\", \"browsing\", \"bulk\", \"bulk\", \"bundle\", \"bundle\", \"button\", \"button\", \"button\", \"buttons\", \"buttons\", \"buy\", \"buy\", \"buy\", \"buy\", \"buy\", \"buy\", \"buy\", \"buy\", \"buy\", \"buy\", \"buying\", \"buying\", \"buying\", \"buying\", \"buying\", \"buying\", \"buying\", \"buying\", \"buying\", \"cable\", \"cable\", \"came\", \"came\", \"came\", \"came\", \"came\", \"came\", \"came\", \"came\", \"came\", \"came\", \"camera\", \"camera\", \"camera\", \"camera\", \"camera\", \"camera\", \"camera\", \"camera\", \"candles\", \"card\", \"card\", \"card\", \"card\", \"card\", \"card\", \"cardboard\", \"carry\", \"carry\", \"carry\", \"carry\", \"carry\", \"cartoons\", \"case\", \"case\", \"case\", \"case\", \"case\", \"case\", \"case\", \"case\", \"case\", \"case\", \"charge\", \"charge\", \"charge\", \"charge\", \"charge\", \"charge\", \"charge\", \"charge\", \"charge\", \"charge\", \"charger\", \"charger\", \"charger\", \"charger\", \"charger\", \"charging\", \"charging\", \"charging\", \"charging\", \"charging\", \"charging\", \"charging\", \"charm\", \"cheap\", \"cheap\", \"cheap\", \"cheap\", \"cheap\", \"cheap\", \"cheap\", \"cheap\", \"cheap\", \"cheaper\", \"cheaper\", \"cheaper\", \"cheaper\", \"cheaper\", \"cheaper\", \"cheaper\", \"cheaper\", \"check\", \"check\", \"check\", \"check\", \"check\", \"checking\", \"child\", \"child\", \"child\", \"child\", \"children\", \"children\", \"children\", \"children\", \"children\", \"children\", \"choices\", \"choices\", \"choosing\", \"christmas\", \"christmas\", \"christmas\", \"clear\", \"clear\", \"clear\", \"clear\", \"clear\", \"clear\", \"clearer\", \"clubhouse\", \"clunky\", \"coffee\", \"college\", \"comforting\", \"compete\", \"complains\", \"confusing\", \"confusing\", \"connect\", \"connect\", \"connect\", \"connect\", \"construction\", \"content\", \"content\", \"content\", \"content\", \"content\", \"content\", \"contents\", \"control\", \"control\", \"control\", \"control\", \"control\", \"control\", \"controller\", \"controllers\", \"controls\", \"controls\", \"controls\", \"convenient\", \"convenient\", \"convenient\", \"convenient\", \"convenient\", \"convenient\", \"cord\", \"cord\", \"core\", \"costco\", \"couldn\", \"couldn\", \"couldn\", \"couldn\", \"couldn\", \"couldn\", \"couldn\", \"cover\", \"cover\", \"cover\", \"cover\", \"cover\", \"cpu\", \"crashed\", \"crush\", \"culprit\", \"curfew\", \"curved\", \"dad\", \"dad\", \"dad\", \"dad\", \"dark\", \"dark\", \"dark\", \"dark\", \"darn\", \"daughter\", \"daughter\", \"daughter\", \"daughter\", \"daughter\", \"daugther\", \"dead\", \"dead\", \"dead\", \"deal\", \"deal\", \"deal\", \"deal\", \"deal\", \"deals\", \"deals\", \"deals\", \"deals\", \"deck\", \"def\", \"delivery\", \"delivery\", \"department\", \"described\", \"described\", \"development\", \"device\", \"device\", \"device\", \"device\", \"device\", \"device\", \"device\", \"device\", \"device\", \"disable\", \"doctor\", \"dosent\", \"dot\", \"download\", \"download\", \"download\", \"download\", \"download\", \"download\", \"download\", \"dropped\", \"dropped\", \"dropped\", \"dropped\", \"durable\", \"durable\", \"durable\", \"durable\", \"durable\", \"duracell\", \"duracells\", \"early\", \"early\", \"earth\", \"easier\", \"easier\", \"easier\", \"easier\", \"easier\", \"easier\", \"easier\", \"east\", \"easy\", \"easy\", \"easy\", \"easy\", \"easy\", \"easy\", \"easy\", \"easy\", \"echo\", \"ecosystem\", \"edition\", \"edition\", \"edition\", \"educational\", \"el\", \"electricity\", \"email\", \"email\", \"email\", \"email\", \"emails\", \"emails\", \"emails\", \"emails\", \"employees\", \"endless\", \"energizer\", \"engaged\", \"enjoys\", \"enjoys\", \"enlarge\", \"ensure\", \"environments\", \"everybody\", \"exactly\", \"exactly\", \"exactly\", \"exactly\", \"exactly\", \"exceeded\", \"excelent\", \"excellent\", \"excellent\", \"excellent\", \"excellent\", \"excellent\", \"excellent\", \"excellent\", \"excellent\", \"excellent\", \"excellent\", \"exchange\", \"exchange\", \"exchanged\", \"excuse\", \"exit\", \"expanded\", \"expanded\", \"expected\", \"expected\", \"expected\", \"expected\", \"eyes\", \"eyes\", \"eyes\", \"eyes\", \"eyes\", \"facebook\", \"facebook\", \"facebook\", \"family\", \"family\", \"family\", \"family\", \"family\", \"family\", \"family\", \"far\", \"far\", \"far\", \"far\", \"far\", \"far\", \"far\", \"far\", \"far\", \"far\", \"fare\", \"fast\", \"fast\", \"fast\", \"fast\", \"fast\", \"fast\", \"fast\", \"fast\", \"fast\", \"faster\", \"faster\", \"faster\", \"faster\", \"faster\", \"faster\", \"faster\", \"father\", \"features\", \"features\", \"features\", \"features\", \"features\", \"features\", \"features\", \"features\", \"fee\", \"fell\", \"fianc\", \"fine\", \"fine\", \"fine\", \"fine\", \"fine\", \"fine\", \"fine\", \"fit\", \"fit\", \"fit\", \"fit\", \"fit\", \"fit\", \"fit\", \"fit\", \"fits\", \"fits\", \"fits\", \"fits\", \"fits\", \"flashlight\", \"flashlights\", \"flawlessly\", \"flawlessly\", \"flawlessly\", \"flimsy\", \"flip\", \"fluke\", \"flush\", \"fly\", \"format\", \"format\", \"free\", \"free\", \"free\", \"free\", \"free\", \"free\", \"free\", \"free\", \"free\", \"freebies\", \"friday\", \"friday\", \"friendly\", \"friendly\", \"friendly\", \"friendly\", \"friendly\", \"frozen\", \"frustrating\", \"frustrating\", \"fun\", \"fun\", \"fun\", \"fun\", \"fun\", \"fun\", \"functional\", \"functional\", \"functional\", \"functional\", \"games\", \"games\", \"games\", \"games\", \"games\", \"games\", \"games\", \"gave\", \"gave\", \"gave\", \"gave\", \"gave\", \"gave\", \"gave\", \"gave\", \"gb\", \"gb\", \"gb\", \"gb\", \"gb\", \"geek\", \"geek\", \"geek\", \"geek\", \"gen\", \"generation\", \"generation\", \"gift\", \"gift\", \"gift\", \"gift\", \"gifts\", \"gifts\", \"glove\", \"glued\", \"goals\", \"goals\", \"good\", \"good\", \"good\", \"good\", \"good\", \"good\", \"good\", \"good\", \"good\", \"good\", \"goodreads\", \"google\", \"google\", \"google\", \"google\", \"got\", \"got\", \"got\", \"got\", \"got\", \"got\", \"got\", \"got\", \"got\", \"got\", \"gotta\", \"grader\", \"grandbaby\", \"grandchildren\", \"grandchildren\", \"grandchildren\", \"granddaughter\", \"granddaughter\", \"granddaughter\", \"grandkids\", \"grandkids\", \"grandkids\", \"grandkids\", \"grandma\", \"grandmother\", \"grandparents\", \"grandson\", \"grandson\", \"grandsons\", \"great\", \"great\", \"great\", \"great\", \"great\", \"great\", \"great\", \"great\", \"great\", \"great\", \"greater\", \"grow\", \"grow\", \"grows\", \"guide\", \"guys\", \"guys\", \"half\", \"half\", \"half\", \"half\", \"handed\", \"happy\", \"happy\", \"happy\", \"happy\", \"happy\", \"happy\", \"happy\", \"happy\", \"happy\", \"happy\", \"hd\", \"hd\", \"hd\", \"hd\", \"hd\", \"hd\", \"hes\", \"hesitate\", \"highly\", \"highly\", \"highly\", \"highly\", \"highly\", \"highly\", \"highly\", \"home\", \"home\", \"home\", \"home\", \"home\", \"home\", \"home\", \"home\", \"home\", \"hubby\", \"hurt\", \"husband\", \"husband\", \"husband\", \"husband\", \"husband\", \"husband\", \"image\", \"image\", \"improvement\", \"improvement\", \"install\", \"install\", \"install\", \"install\", \"install\", \"interested\", \"interested\", \"interested\", \"internet\", \"internet\", \"internet\", \"internet\", \"internet\", \"internet\", \"invested\", \"ipad\", \"ipad\", \"ipad\", \"ipad\", \"ipad\", \"ipad\", \"ipad\", \"ipad\", \"ipad\", \"iphone\", \"iphone\", \"issue\", \"issue\", \"issue\", \"issue\", \"issue\", \"issue\", \"item\", \"item\", \"item\", \"jack\", \"jealous\", \"kid\", \"kid\", \"kid\", \"kid\", \"kid\", \"kid\", \"kiddo\", \"kiddo\", \"kids\", \"kids\", \"kids\", \"kids\", \"kids\", \"kids\", \"kids\", \"kids\", \"kids\", \"killer\", \"kindle\", \"kindle\", \"kindle\", \"kindle\", \"kindle\", \"kindle\", \"kindle\", \"kindle\", \"kindle\", \"know\", \"know\", \"know\", \"know\", \"know\", \"know\", \"know\", \"know\", \"knowledgeable\", \"lackluster\", \"lags\", \"lap\", \"laptop\", \"laptop\", \"laptop\", \"lasted\", \"lasted\", \"lasted\", \"lasted\", \"lasted\", \"lasting\", \"law\", \"law\", \"laying\", \"leak\", \"leaking\", \"learning\", \"learning\", \"learning\", \"learning\", \"learning\", \"learning\", \"learns\", \"letting\", \"lg\", \"life\", \"life\", \"life\", \"life\", \"life\", \"life\", \"life\", \"life\", \"light\", \"light\", \"light\", \"light\", \"light\", \"light\", \"lighter\", \"lighting\", \"lightweight\", \"lightweight\", \"lightweight\", \"lightweight\", \"like\", \"like\", \"like\", \"like\", \"like\", \"like\", \"like\", \"like\", \"like\", \"like\", \"liked\", \"liked\", \"liked\", \"liked\", \"liked\", \"liked\", \"liked\", \"liked\", \"liked\", \"likes\", \"likes\", \"likes\", \"likes\", \"limit\", \"limit\", \"limits\", \"limits\", \"limits\", \"listed\", \"little\", \"little\", \"little\", \"little\", \"little\", \"little\", \"little\", \"little\", \"little\", \"little\", \"locate\", \"logic\", \"long\", \"long\", \"long\", \"long\", \"long\", \"long\", \"long\", \"long\", \"longer\", \"longer\", \"longer\", \"longer\", \"longer\", \"longer\", \"longer\", \"longevity\", \"losing\", \"lot\", \"lot\", \"lot\", \"lot\", \"lot\", \"lot\", \"lot\", \"lot\", \"lot\", \"lots\", \"lots\", \"lots\", \"lots\", \"lots\", \"lots\", \"lots\", \"lots\", \"love\", \"love\", \"love\", \"love\", \"love\", \"love\", \"love\", \"love\", \"love\", \"loved\", \"loved\", \"loved\", \"loved\", \"loves\", \"loves\", \"loves\", \"loves\", \"low\", \"low\", \"low\", \"low\", \"low\", \"low\", \"low\", \"low\", \"lunch\", \"magazine\", \"magazine\", \"manga\", \"manual\", \"manual\", \"market\", \"market\", \"market\", \"market\", \"market\", \"market\", \"market\", \"market\", \"market\", \"matthew\", \"mb\", \"member\", \"member\", \"member\", \"member\", \"members\", \"members\", \"members\", \"memory\", \"memory\", \"memory\", \"memory\", \"memory\", \"memory\", \"memory\", \"memory\", \"memory\", \"menu\", \"menu\", \"menu\", \"mickey\", \"miles\", \"minecraft\", \"mines\", \"missed\", \"model\", \"model\", \"model\", \"model\", \"model\", \"mom\", \"mom\", \"mom\", \"mom\", \"money\", \"money\", \"money\", \"money\", \"money\", \"money\", \"money\", \"money\", \"money\", \"mother\", \"mother\", \"movies\", \"movies\", \"movies\", \"movies\", \"mp\", \"music\", \"music\", \"music\", \"music\", \"music\", \"music\", \"music\", \"music\", \"native\", \"navigate\", \"navigate\", \"navigate\", \"navigate\", \"navigate\", \"navigate\", \"neck\", \"need\", \"need\", \"need\", \"need\", \"need\", \"need\", \"need\", \"need\", \"need\", \"need\", \"neice\", \"nephew\", \"nephew\", \"nephew\", \"nephew\", \"netflix\", \"netflix\", \"netflix\", \"netflix\", \"netflix\", \"netflix\", \"new\", \"new\", \"new\", \"new\", \"new\", \"new\", \"new\", \"new\", \"new\", \"nice\", \"nice\", \"nice\", \"nice\", \"nice\", \"nice\", \"nice\", \"nice\", \"nice\", \"nice\", \"niece\", \"niece\", \"niece\", \"nieces\", \"nieces\", \"novels\", \"oasis\", \"offline\", \"oh\", \"ok\", \"ok\", \"ok\", \"ok\", \"ok\", \"ok\", \"old\", \"old\", \"old\", \"old\", \"old\", \"old\", \"old\", \"older\", \"older\", \"older\", \"older\", \"older\", \"older\", \"older\", \"older\", \"olds\", \"online\", \"online\", \"online\", \"online\", \"online\", \"online\", \"online\", \"online\", \"online\", \"operated\", \"operations\", \"orders\", \"origami\", \"original\", \"original\", \"original\", \"overall\", \"overall\", \"overall\", \"overall\", \"overall\", \"overall\", \"overall\", \"overall\", \"overpriced\", \"pack\", \"pack\", \"pack\", \"pack\", \"package\", \"package\", \"packaged\", \"packaging\", \"packaging\", \"packaging\", \"packs\", \"page\", \"page\", \"pandora\", \"paper\", \"paperwhite\", \"parent\", \"parent\", \"parental\", \"parents\", \"parents\", \"parents\", \"pdf\", \"pen\", \"perfect\", \"perfect\", \"perfect\", \"perfect\", \"perfect\", \"perfect\", \"perfect\", \"perfect\", \"perfect\", \"perform\", \"performance\", \"performance\", \"performance\", \"performance\", \"performance\", \"performance\", \"person\", \"person\", \"person\", \"person\", \"person\", \"picking\", \"pictures\", \"pictures\", \"pictures\", \"pictures\", \"pictures\", \"play\", \"play\", \"play\", \"play\", \"play\", \"play\", \"play\", \"play\", \"playing\", \"playing\", \"playing\", \"playing\", \"plays\", \"plays\", \"plays\", \"plays\", \"plays\", \"playstore\", \"plug\", \"plug\", \"plug\", \"plug\", \"plug\", \"plugs\", \"pocket\", \"pocket\", \"pockets\", \"pop\", \"port\", \"port\", \"portable\", \"portable\", \"portable\", \"portable\", \"ports\", \"power\", \"power\", \"power\", \"power\", \"power\", \"power\", \"power\", \"practical\", \"prefect\", \"preloaded\", \"preloaded\", \"preschool\", \"present\", \"present\", \"presents\", \"presents\", \"pretty\", \"pretty\", \"pretty\", \"pretty\", \"pretty\", \"pretty\", \"pretty\", \"pretty\", \"previous\", \"previous\", \"previous\", \"previous\", \"price\", \"price\", \"price\", \"price\", \"price\", \"price\", \"price\", \"price\", \"price\", \"price\", \"primary\", \"primary\", \"prime\", \"prime\", \"prime\", \"prime\", \"prime\", \"prime\", \"problem\", \"problem\", \"problem\", \"problem\", \"problem\", \"problem\", \"problem\", \"problem\", \"problem\", \"problem\", \"problems\", \"problems\", \"problems\", \"problems\", \"problems\", \"problems\", \"problems\", \"problems\", \"processes\", \"product\", \"product\", \"product\", \"product\", \"product\", \"product\", \"product\", \"product\", \"product\", \"product\", \"profile\", \"profile\", \"profile\", \"profile\", \"promised\", \"promised\", \"prompt\", \"proof\", \"proof\", \"protects\", \"protects\", \"punch\", \"purchase\", \"purchase\", \"purchase\", \"purchase\", \"purchase\", \"purchase\", \"purchase\", \"purchase\", \"purchase\", \"purchase\", \"purchased\", \"purchased\", \"purchased\", \"purchased\", \"purchased\", \"purchased\", \"purchased\", \"purchased\", \"purchased\", \"purchased\", \"quality\", \"quality\", \"quality\", \"quality\", \"quality\", \"quality\", \"quality\", \"quality\", \"quality\", \"quirks\", \"quirks\", \"rain\", \"rayovac\", \"read\", \"read\", \"read\", \"read\", \"read\", \"read\", \"read\", \"read\", \"read\", \"readability\", \"readable\", \"reader\", \"reader\", \"reader\", \"reader\", \"reader\", \"reader\", \"reader\", \"reader\", \"reading\", \"reading\", \"reading\", \"reading\", \"reading\", \"reading\", \"reading\", \"reasonable\", \"reasonable\", \"reasonable\", \"received\", \"received\", \"received\", \"received\", \"received\", \"receiving\", \"receiving\", \"recent\", \"recent\", \"recipient\", \"recipient\", \"recommend\", \"recommend\", \"recommend\", \"recommend\", \"recommend\", \"recommend\", \"recommend\", \"recommend\", \"recommend\", \"recommend\", \"recommended\", \"recommended\", \"recommended\", \"recommended\", \"recommended\", \"recommended\", \"recommended\", \"recommended\", \"recommending\", \"refurbished\", \"release\", \"remaining\", \"remains\", \"remote\", \"remotes\", \"repeat\", \"replaces\", \"requirements\", \"resist\", \"resist\", \"resolution\", \"resolution\", \"resolution\", \"resolution\", \"resolution\", \"resolution\", \"restrict\", \"restrictions\", \"retired\", \"returned\", \"returned\", \"returned\", \"returned\", \"returned\", \"right\", \"right\", \"right\", \"right\", \"right\", \"right\", \"right\", \"right\", \"right\", \"right\", \"rock\", \"rocks\", \"safe\", \"safe\", \"safe\", \"sale\", \"sale\", \"sale\", \"sale\", \"sale\", \"sale\", \"sale\", \"salesman\", \"santa\", \"satisfied\", \"satisfied\", \"satisfied\", \"satisfied\", \"satisfied\", \"satisfied\", \"satisfied\", \"save\", \"save\", \"save\", \"save\", \"savy\", \"screed\", \"screen\", \"screen\", \"screen\", \"screen\", \"screen\", \"screen\", \"screen\", \"screen\", \"screen\", \"sd\", \"sd\", \"secondary\", \"section\", \"sending\", \"serves\", \"serves\", \"service\", \"service\", \"service\", \"service\", \"service\", \"service\", \"sesame\", \"set\", \"set\", \"set\", \"set\", \"set\", \"set\", \"set\", \"setup\", \"setup\", \"setup\", \"setup\", \"setup\", \"shade\", \"shape\", \"shape\", \"shapes\", \"shipping\", \"shipping\", \"sides\", \"sides\", \"silk\", \"sim\", \"simple\", \"simple\", \"simple\", \"simple\", \"simple\", \"simple\", \"simple\", \"simple\", \"sister\", \"sister\", \"sister\", \"sisters\", \"size\", \"size\", \"size\", \"size\", \"size\", \"size\", \"size\", \"size\", \"size\", \"sleek\", \"sleek\", \"sleeve\", \"sleeve\", \"slimmer\", \"slot\", \"slot\", \"slot\", \"slow\", \"slow\", \"slow\", \"slow\", \"slow\", \"slow\", \"slower\", \"small\", \"small\", \"small\", \"small\", \"small\", \"small\", \"small\", \"small\", \"small\", \"son\", \"son\", \"son\", \"son\", \"son\", \"son\", \"sound\", \"sound\", \"sound\", \"sound\", \"sound\", \"sound\", \"sounding\", \"space\", \"space\", \"space\", \"space\", \"space\", \"space\", \"speaker\", \"speaker\", \"speaker\", \"speed\", \"speed\", \"speed\", \"speed\", \"spring\", \"squad\", \"squad\", \"squad\", \"square\", \"storage\", \"storage\", \"storage\", \"storage\", \"storage\", \"storage\", \"storage\", \"storage\", \"storage\", \"store\", \"store\", \"store\", \"store\", \"store\", \"store\", \"store\", \"store\", \"strain\", \"streaming\", \"streaming\", \"streaming\", \"street\", \"structure\", \"struggling\", \"student\", \"subscribing\", \"sunny\", \"super\", \"super\", \"super\", \"super\", \"super\", \"super\", \"super\", \"super\", \"super\", \"surf\", \"surf\", \"surf\", \"surfing\", \"surfing\", \"tables\", \"tablet\", \"tablet\", \"tablet\", \"tablet\", \"tablet\", \"tablet\", \"tablet\", \"tablet\", \"tablet\", \"tablets\", \"tablets\", \"tablets\", \"tablets\", \"tablets\", \"tablets\", \"tablets\", \"tablets\", \"tablets\", \"tank\", \"tap\", \"tap\", \"techie\", \"teenager\", \"textbooks\", \"thank\", \"thank\", \"thank\", \"thank\", \"thank\", \"thanks\", \"thanks\", \"time\", \"time\", \"time\", \"time\", \"time\", \"time\", \"time\", \"time\", \"time\", \"time\", \"times\", \"times\", \"times\", \"times\", \"times\", \"times\", \"times\", \"times\", \"times\", \"toddler\", \"toddler\", \"toddler\", \"toddler\", \"told\", \"told\", \"told\", \"told\", \"told\", \"told\", \"tools\", \"tools\", \"tools\", \"toys\", \"toys\", \"toys\", \"travel\", \"travel\", \"travel\", \"travel\", \"turn\", \"turn\", \"turn\", \"turn\", \"turn\", \"turn\", \"turning\", \"turning\", \"underground\", \"unit\", \"unit\", \"unit\", \"unit\", \"unit\", \"unit\", \"unit\", \"universal\", \"unwanted\", \"upgrade\", \"upgrade\", \"upgraded\", \"upgraded\", \"upgraded\", \"upgraded\", \"upgrades\", \"usa\", \"usability\", \"usb\", \"usb\", \"usb\", \"usb\", \"use\", \"use\", \"use\", \"use\", \"use\", \"use\", \"use\", \"use\", \"use\", \"use\", \"user\", \"user\", \"user\", \"user\", \"user\", \"uses\", \"uses\", \"uses\", \"uses\", \"uses\", \"value\", \"value\", \"value\", \"value\", \"value\", \"value\", \"value\", \"variation\", \"ve\", \"ve\", \"ve\", \"ve\", \"ve\", \"ve\", \"ve\", \"ve\", \"ve\", \"versatile\", \"versatile\", \"version\", \"version\", \"version\", \"version\", \"version\", \"version\", \"versions\", \"versions\", \"versions\", \"videos\", \"videos\", \"videos\", \"videos\", \"videos\", \"videos\", \"voice\", \"voice\", \"voyage\", \"waking\", \"want\", \"want\", \"want\", \"want\", \"want\", \"want\", \"want\", \"want\", \"want\", \"wanted\", \"wanted\", \"wanted\", \"wanted\", \"wanted\", \"wanted\", \"wanted\", \"wanted\", \"wanted\", \"wanted\", \"watch\", \"watch\", \"watch\", \"watch\", \"watch\", \"watch\", \"watches\", \"watches\", \"watches\", \"watches\", \"watching\", \"watching\", \"watching\", \"watching\", \"watching\", \"watching\", \"ways\", \"ways\", \"ways\", \"ways\", \"web\", \"web\", \"web\", \"weighs\", \"weight\", \"weight\", \"weight\", \"whistles\", \"white\", \"white\", \"wide\", \"wide\", \"wife\", \"wife\", \"wife\", \"wife\", \"wife\", \"wifi\", \"wifi\", \"wifi\", \"wifi\", \"wifi\", \"wifi\", \"win\", \"win\", \"work\", \"work\", \"work\", \"work\", \"work\", \"work\", \"work\", \"worked\", \"worked\", \"worked\", \"worked\", \"worked\", \"worked\", \"worked\", \"workers\", \"working\", \"working\", \"working\", \"working\", \"working\", \"working\", \"works\", \"works\", \"works\", \"works\", \"works\", \"works\", \"works\", \"works\", \"works\", \"works\", \"worth\", \"worth\", \"worth\", \"worth\", \"worth\", \"worth\", \"worth\", \"worth\", \"worth\", \"worth\", \"xbox\", \"xbox\", \"xmas\", \"xmas\", \"xmas\", \"year\", \"year\", \"year\", \"year\", \"year\", \"year\", \"years\", \"years\", \"years\", \"years\", \"years\", \"years\", \"years\", \"years\", \"young\", \"young\", \"young\", \"yr\", \"yr\", \"\\u00e4\\u00f4m\", \"\\u00e4\\u00f4m\", \"\\u00e4\\u00f4m\", \"\\u00e4\\u00f4t\", \"\\u00e4\\u00f4t\"]}, \"R\": 30, \"lambda.step\": 0.01, \"plot.opts\": {\"xlab\": \"PC1\", \"ylab\": \"PC2\"}, \"topic.order\": [8, 1, 6, 5, 7, 2, 3, 10, 4, 9]};\n",
       "\n",
       "function LDAvis_load_lib(url, callback){\n",
       "  var s = document.createElement('script');\n",
       "  s.src = url;\n",
       "  s.async = true;\n",
       "  s.onreadystatechange = s.onload = callback;\n",
       "  s.onerror = function(){console.warn(\"failed to load library \" + url);};\n",
       "  document.getElementsByTagName(\"head\")[0].appendChild(s);\n",
       "}\n",
       "\n",
       "if(typeof(LDAvis) !== \"undefined\"){\n",
       "   // already loaded: just create the visualization\n",
       "   !function(LDAvis){\n",
       "       new LDAvis(\"#\" + \"ldavis_el1898423641566919449726328183\", ldavis_el1898423641566919449726328183_data);\n",
       "   }(LDAvis);\n",
       "}else if(typeof define === \"function\" && define.amd){\n",
       "   // require.js is available: use it to load d3/LDAvis\n",
       "   require.config({paths: {d3: \"https://cdnjs.cloudflare.com/ajax/libs/d3/3.5.5/d3.min\"}});\n",
       "   require([\"d3\"], function(d3){\n",
       "      window.d3 = d3;\n",
       "      LDAvis_load_lib(\"https://cdn.rawgit.com/bmabey/pyLDAvis/files/ldavis.v1.0.0.js\", function(){\n",
       "        new LDAvis(\"#\" + \"ldavis_el1898423641566919449726328183\", ldavis_el1898423641566919449726328183_data);\n",
       "      });\n",
       "    });\n",
       "}else{\n",
       "    // require.js not available: dynamically load d3 & LDAvis\n",
       "    LDAvis_load_lib(\"https://cdnjs.cloudflare.com/ajax/libs/d3/3.5.5/d3.min.js\", function(){\n",
       "         LDAvis_load_lib(\"https://cdn.rawgit.com/bmabey/pyLDAvis/files/ldavis.v1.0.0.js\", function(){\n",
       "                 new LDAvis(\"#\" + \"ldavis_el1898423641566919449726328183\", ldavis_el1898423641566919449726328183_data);\n",
       "            })\n",
       "         });\n",
       "}\n",
       "</script>"
      ],
      "text/plain": [
       "PreparedData(topic_coordinates=              x         y  topics  cluster       Freq\n",
       "topic                                                \n",
       "7      0.187989 -0.039902       1        1  22.917118\n",
       "0     -0.196919  0.058169       2        1  11.703265\n",
       "5      0.050748  0.075478       3        1  10.436888\n",
       "4      0.009161  0.112129       4        1   9.838304\n",
       "6      0.015059  0.142059       5        1   9.479208\n",
       "1      0.219845 -0.079668       6        1   8.765888\n",
       "2      0.004801  0.104020       7        1   7.666090\n",
       "9     -0.238310 -0.142679       8        1   7.452909\n",
       "3     -0.062441  0.037462       9        1   7.116559\n",
       "8      0.010067 -0.267069      10        1   4.623763, topic_info=     Category         Freq       Term        Total  loglift  logprob\n",
       "18    Default  7578.000000  batteries  7578.000000  30.0000  30.0000\n",
       "17    Default  4917.000000      price  4917.000000  29.0000  29.0000\n",
       "34    Default  5569.000000       good  5569.000000  28.0000  28.0000\n",
       "21    Default  9015.000000      great  9015.000000  27.0000  27.0000\n",
       "754   Default  3043.000000       easy  3043.000000  26.0000  26.0000\n",
       "1856  Default  2219.000000      loves  2219.000000  25.0000  25.0000\n",
       "9     Default  2233.000000       work  2233.000000  24.0000  24.0000\n",
       "2075  Default  3046.000000     kindle  3046.000000  23.0000  23.0000\n",
       "94    Default  4509.000000        use  4509.000000  22.0000  22.0000\n",
       "520   Default  2139.000000        old  2139.000000  21.0000  21.0000\n",
       "191   Default  2449.000000       kids  2449.000000  20.0000  20.0000\n",
       "2432  Default  6997.000000     tablet  6997.000000  19.0000  19.0000\n",
       "105   Default  1768.000000       year  1768.000000  18.0000  18.0000\n",
       "28    Default  3234.000000     bought  3234.000000  17.0000  17.0000\n",
       "884   Default  1152.000000       gift  1152.000000  16.0000  16.0000\n",
       "90    Default  3499.000000       love  3499.000000  15.0000  15.0000\n",
       "164   Default  2048.000000    product  2048.000000  14.0000  14.0000\n",
       "651   Default  1712.000000      games  1712.000000  13.0000  13.0000\n",
       "31    Default   930.000000  christmas   930.000000  12.0000  12.0000\n",
       "386   Default  1003.000000      value  1003.000000  11.0000  11.0000\n",
       "20    Default  1274.000000      brand  1274.000000  10.0000  10.0000\n",
       "1267  Default   961.000000   daughter   961.000000   9.0000   9.0000\n",
       "7     Default  1300.000000    quality  1300.000000   8.0000   8.0000\n",
       "23    Default  2423.000000       long  2423.000000   7.0000   7.0000\n",
       "945   Default  1195.000000    reading  1195.000000   6.0000   6.0000\n",
       "431   Default   807.000000       deal   807.000000   5.0000   5.0000\n",
       "2086  Default  1494.000000      books  1494.000000   4.0000   4.0000\n",
       "727   Default   979.000000        son   979.000000   3.0000   3.0000\n",
       "1547  Default  1845.000000       apps  1845.000000   2.0000   2.0000\n",
       "900   Default   450.000000      loved   450.000000   1.0000   1.0000\n",
       "...       ...          ...        ...          ...      ...      ...\n",
       "260   Topic10   259.061951       fine   535.866821   2.3471  -4.0047\n",
       "9     Topic10   867.335999       work  2233.290771   2.1282  -2.7963\n",
       "179   Topic10   165.673981         ok   318.970917   2.4189  -4.4517\n",
       "220   Topic10   175.480133     worked   352.531738   2.3763  -4.3942\n",
       "161   Topic10    93.034996      thank   169.658310   2.4732  -5.0288\n",
       "1948  Topic10    33.770531        win    51.817249   2.6458  -6.0422\n",
       "16    Topic10   299.252594      happy   849.744263   2.0303  -3.8605\n",
       "1385  Topic10    73.581055   returned   141.149719   2.4225  -5.2634\n",
       "290   Topic10    89.039291     couldn   191.281464   2.3093  -5.0727\n",
       "156   Topic10    95.692200       gave   217.488235   2.2530  -5.0006\n",
       "1891  Topic10    33.257843       xmas    52.470078   2.6180  -6.0575\n",
       "1108  Topic10    54.210251     person   107.848442   2.3861  -5.5689\n",
       "1596  Topic10    45.152611       told    83.386795   2.4605  -5.7517\n",
       "109   Topic10    70.319008    arrived   165.035446   2.2208  -5.3087\n",
       "28    Topic10   479.633972     bought  3234.063232   1.1655  -3.3887\n",
       "248   Topic10   174.806488  excellent   699.265015   1.6876  -4.3981\n",
       "79    Topic10    69.292877      liked   164.015991   2.2123  -5.3234\n",
       "40    Topic10   172.086578   purchase   958.154907   1.3569  -4.4137\n",
       "101   Topic10   191.929398        got  1268.576538   1.1854  -4.3046\n",
       "625   Topic10   109.275284       wife   463.471802   1.6291  -4.8679\n",
       "601   Topic10    91.826736       came   340.851868   1.7624  -5.0418\n",
       "144   Topic10    96.467949    working   379.644562   1.7039  -4.9925\n",
       "164   Topic10   219.217224    product  2048.320557   0.8392  -4.1717\n",
       "21    Topic10   318.371796      great  9015.858398  -0.2696  -3.7985\n",
       "128   Topic10   147.845413  purchased  1378.847534   0.8411  -4.5656\n",
       "96    Topic10   148.194427      works  1473.186035   0.7773  -4.5632\n",
       "115   Topic10    89.333023       know   434.328064   1.4925  -5.0694\n",
       "48    Topic10   104.537941    perfect  1123.375366   0.6994  -4.9122\n",
       "172   Topic10   112.203064       time  2056.057129   0.1657  -4.8414\n",
       "194   Topic10    85.079575        far  1215.621582   0.4145  -5.1182\n",
       "\n",
       "[736 rows x 6 columns], token_table=      Topic      Freq        Term\n",
       "term                             \n",
       "56        1  0.999209          aa\n",
       "57        1  0.998937         aaa\n",
       "990       1  0.003662  absolutely\n",
       "990       2  0.014647  absolutely\n",
       "990       4  0.062248  absolutely\n",
       "990       7  0.018308  absolutely\n",
       "990       8  0.695718  absolutely\n",
       "990       9  0.201392  absolutely\n",
       "990      10  0.003662  absolutely\n",
       "2523      2  0.927105   accessing\n",
       "473       2  0.160811     account\n",
       "473       3  0.651490     account\n",
       "473       5  0.008247     account\n",
       "473       7  0.123701     account\n",
       "473       8  0.020617     account\n",
       "473       9  0.032987     account\n",
       "1894      6  0.933266      active\n",
       "2043      2  0.936701  activities\n",
       "2043      8  0.041631  activities\n",
       "1479      1  0.029739         add\n",
       "1479      2  0.004956         add\n",
       "1479      3  0.639386         add\n",
       "1479      4  0.064434         add\n",
       "1479      5  0.044608         add\n",
       "1479      6  0.024782         add\n",
       "1479      7  0.178433         add\n",
       "1479      9  0.014869         add\n",
       "2617      6  0.891499    addicted\n",
       "2308      2  0.117742      adjust\n",
       "2308      4  0.871294      adjust\n",
       "...     ...       ...         ...\n",
       "242      10  0.004247       worth\n",
       "151       1  0.934185        xbox\n",
       "151       2  0.059884        xbox\n",
       "1891      7  0.057175        xmas\n",
       "1891      8  0.304936        xmas\n",
       "1891     10  0.628930        xmas\n",
       "105       1  0.010746        year\n",
       "105       2  0.339924        year\n",
       "105       7  0.005090        year\n",
       "105       8  0.641953        year\n",
       "105       9  0.001131        year\n",
       "105      10  0.000566        year\n",
       "173       1  0.212233       years\n",
       "173       2  0.146368       years\n",
       "173       3  0.001830       years\n",
       "173       4  0.311032       years\n",
       "173       7  0.016466       years\n",
       "173       8  0.278099       years\n",
       "173       9  0.012807       years\n",
       "173      10  0.020126       years\n",
       "960       2  0.956851       young\n",
       "960       7  0.036336       young\n",
       "960       8  0.006056       young\n",
       "1803      2  0.311448          yr\n",
       "1803      8  0.686395          yr\n",
       "3559      2  0.064971         äôm\n",
       "3559      3  0.032485         äôm\n",
       "3559      6  0.844618         äôm\n",
       "2984      4  0.112845         äôt\n",
       "2984      6  0.883953         äôt\n",
       "\n",
       "[2018 rows x 3 columns], R=30, lambda_step=0.01, plot_opts={'xlab': 'PC1', 'ylab': 'PC2'}, topic_order=[8, 1, 6, 5, 7, 2, 3, 10, 4, 9])"
      ]
     },
     "execution_count": 61,
     "metadata": {},
     "output_type": "execute_result"
    }
   ],
   "source": [
    "pyLDAvis.gensim.prepare(lda, corpus, id2word) #this should give us the bubblemap"
   ]
  },
  {
   "cell_type": "code",
   "execution_count": null,
   "metadata": {},
   "outputs": [],
   "source": [
    "#it seems that maybe this is too many topics, as there is a cluster of several\n",
    "#bubbles all together\n",
    "\n",
    "#also, should I add some of these common words to the stop list? for now I will\n",
    "#leave them in, and ask about that at standup"
   ]
  },
  {
   "cell_type": "markdown",
   "metadata": {},
   "source": [
    "### trying again with less topics"
   ]
  },
  {
   "cell_type": "code",
   "execution_count": 63,
   "metadata": {},
   "outputs": [],
   "source": [
    "import warnings\n",
    "warnings.filterwarnings(\"ignore\")"
   ]
  },
  {
   "cell_type": "code",
   "execution_count": 69,
   "metadata": {},
   "outputs": [],
   "source": [
    "lda = LdaMulticore(corpus=corpus, \n",
    "                  id2word=id2word, \n",
    "                  random_state=43, \n",
    "                  num_topics = 6, #I am gonna try six, because there were like four stuck together with 10 \n",
    "                  passes= 25, #I would do the code that picks your topics, but it crashed after running \n",
    "                  workers=8)# through lunch"
   ]
  },
  {
   "cell_type": "code",
   "execution_count": 70,
   "metadata": {},
   "outputs": [
    {
     "data": {
      "text/plain": [
       "[(0,\n",
       "  '0.049*\"kindle\" + 0.023*\"easy\" + 0.022*\"love\" + 0.022*\"read\" + 0.021*\"books\" + 0.020*\"reading\" + 0.018*\"use\" + 0.017*\"like\" + 0.014*\"light\" + 0.013*\"screen\"'),\n",
       " (1,\n",
       "  '0.023*\"kindle\" + 0.016*\"bought\" + 0.014*\"charge\" + 0.013*\"tablet\" + 0.012*\"amazon\" + 0.011*\"buy\" + 0.010*\"device\" + 0.009*\"best\" + 0.009*\"new\" + 0.008*\"use\"'),\n",
       " (2,\n",
       "  '0.101*\"batteries\" + 0.028*\"long\" + 0.021*\"work\" + 0.019*\"amazon\" + 0.017*\"brand\" + 0.016*\"good\" + 0.016*\"battery\" + 0.015*\"price\" + 0.013*\"great\" + 0.012*\"brands\"'),\n",
       " (3,\n",
       "  '0.127*\"great\" + 0.094*\"good\" + 0.088*\"price\" + 0.043*\"product\" + 0.027*\"buy\" + 0.026*\"tablet\" + 0.020*\"value\" + 0.018*\"quality\" + 0.016*\"works\" + 0.016*\"deal\"'),\n",
       " (4,\n",
       "  '0.047*\"tablet\" + 0.026*\"amazon\" + 0.023*\"great\" + 0.018*\"use\" + 0.016*\"apps\" + 0.015*\"screen\" + 0.013*\"good\" + 0.010*\"play\" + 0.010*\"like\" + 0.009*\"games\"'),\n",
       " (5,\n",
       "  '0.043*\"tablet\" + 0.036*\"loves\" + 0.031*\"old\" + 0.030*\"kids\" + 0.030*\"bought\" + 0.028*\"year\" + 0.025*\"love\" + 0.025*\"use\" + 0.023*\"great\" + 0.023*\"easy\"')]"
      ]
     },
     "execution_count": 70,
     "metadata": {},
     "output_type": "execute_result"
    }
   ],
   "source": [
    "lda.print_topics()"
   ]
  },
  {
   "cell_type": "code",
   "execution_count": 71,
   "metadata": {},
   "outputs": [],
   "source": [
    "words = [re.findall(r'\"([^\"]*)\"', t[1]) for t in lda.print_topics()]"
   ]
  },
  {
   "cell_type": "code",
   "execution_count": 72,
   "metadata": {},
   "outputs": [],
   "source": [
    "topics = [' '.join(t[0:5]) for t in words]"
   ]
  },
  {
   "cell_type": "code",
   "execution_count": 73,
   "metadata": {},
   "outputs": [
    {
     "name": "stdout",
     "output_type": "stream",
     "text": [
      "_______________Topic 0________________\n",
      "kindle easy love read books\n",
      "\n",
      "_______________Topic 1________________\n",
      "kindle bought charge tablet amazon\n",
      "\n",
      "_______________Topic 2________________\n",
      "batteries long work amazon brand\n",
      "\n",
      "_______________Topic 3________________\n",
      "great good price product buy\n",
      "\n",
      "_______________Topic 4________________\n",
      "tablet amazon great use apps\n",
      "\n",
      "_______________Topic 5________________\n",
      "tablet loves old kids bought\n",
      "\n"
     ]
    }
   ],
   "source": [
    "for id, t in enumerate(topics):\n",
    "    print(f\"_______________Topic {id}________________\")\n",
    "    print(t, end=\"\\n\\n\")"
   ]
  },
  {
   "cell_type": "code",
   "execution_count": 74,
   "metadata": {},
   "outputs": [
    {
     "data": {
      "text/html": [
       "\n",
       "<link rel=\"stylesheet\" type=\"text/css\" href=\"https://cdn.rawgit.com/bmabey/pyLDAvis/files/ldavis.v1.0.0.css\">\n",
       "\n",
       "\n",
       "<div id=\"ldavis_el1898423641857777603485584357\"></div>\n",
       "<script type=\"text/javascript\">\n",
       "\n",
       "var ldavis_el1898423641857777603485584357_data = {\"mdsDat\": {\"x\": [-0.20162227447111508, 0.044778236239594704, 0.19061282926237935, 0.11204696986313467, -0.20563848161373416, 0.059822720719740534], \"y\": [0.10493031928899679, -0.013413188312046903, -0.15790344904149753, 0.07872472959914134, -0.16489257669590446, 0.15255416516131112], \"topics\": [1, 2, 3, 4, 5, 6], \"cluster\": [1, 1, 1, 1, 1, 1], \"Freq\": [24.570812225341797, 19.5673770904541, 19.373441696166992, 13.732844352722168, 12.141880989074707, 10.61363410949707]}, \"tinfo\": {\"Category\": [\"Default\", \"Default\", \"Default\", \"Default\", \"Default\", \"Default\", \"Default\", \"Default\", \"Default\", \"Default\", \"Default\", \"Default\", \"Default\", \"Default\", \"Default\", \"Default\", \"Default\", \"Default\", \"Default\", \"Default\", \"Default\", \"Default\", \"Default\", \"Default\", \"Default\", \"Default\", \"Default\", \"Default\", \"Default\", \"Default\", \"Topic1\", \"Topic1\", \"Topic1\", \"Topic1\", \"Topic1\", \"Topic1\", \"Topic1\", \"Topic1\", \"Topic1\", \"Topic1\", \"Topic1\", \"Topic1\", \"Topic1\", \"Topic1\", \"Topic1\", \"Topic1\", \"Topic1\", \"Topic1\", \"Topic1\", \"Topic1\", \"Topic1\", \"Topic1\", \"Topic1\", \"Topic1\", \"Topic1\", \"Topic1\", \"Topic1\", \"Topic1\", \"Topic1\", \"Topic1\", \"Topic1\", \"Topic1\", \"Topic1\", \"Topic1\", \"Topic1\", \"Topic1\", \"Topic1\", \"Topic1\", \"Topic1\", \"Topic1\", \"Topic1\", \"Topic1\", \"Topic1\", \"Topic1\", \"Topic1\", \"Topic1\", \"Topic1\", \"Topic1\", \"Topic1\", \"Topic1\", \"Topic1\", \"Topic1\", \"Topic1\", \"Topic1\", \"Topic1\", \"Topic1\", \"Topic1\", \"Topic1\", \"Topic1\", \"Topic1\", \"Topic1\", \"Topic1\", \"Topic1\", \"Topic1\", \"Topic2\", \"Topic2\", \"Topic2\", \"Topic2\", \"Topic2\", \"Topic2\", \"Topic2\", \"Topic2\", \"Topic2\", \"Topic2\", \"Topic2\", \"Topic2\", \"Topic2\", \"Topic2\", \"Topic2\", \"Topic2\", \"Topic2\", \"Topic2\", \"Topic2\", \"Topic2\", \"Topic2\", \"Topic2\", \"Topic2\", \"Topic2\", \"Topic2\", \"Topic2\", \"Topic2\", \"Topic2\", \"Topic2\", \"Topic2\", \"Topic2\", \"Topic2\", \"Topic2\", \"Topic2\", \"Topic2\", \"Topic2\", \"Topic2\", \"Topic2\", \"Topic2\", \"Topic2\", \"Topic2\", \"Topic2\", \"Topic2\", \"Topic2\", \"Topic2\", \"Topic2\", \"Topic2\", \"Topic2\", \"Topic2\", \"Topic2\", \"Topic2\", \"Topic2\", \"Topic2\", \"Topic2\", \"Topic2\", \"Topic2\", \"Topic2\", \"Topic2\", \"Topic2\", \"Topic2\", \"Topic2\", \"Topic2\", \"Topic2\", \"Topic2\", \"Topic2\", \"Topic2\", \"Topic2\", \"Topic2\", \"Topic2\", \"Topic2\", \"Topic2\", \"Topic2\", \"Topic2\", \"Topic2\", \"Topic2\", \"Topic3\", \"Topic3\", \"Topic3\", \"Topic3\", \"Topic3\", \"Topic3\", \"Topic3\", \"Topic3\", \"Topic3\", \"Topic3\", \"Topic3\", \"Topic3\", \"Topic3\", \"Topic3\", \"Topic3\", \"Topic3\", \"Topic3\", \"Topic3\", \"Topic3\", \"Topic3\", \"Topic3\", \"Topic3\", \"Topic3\", \"Topic3\", \"Topic3\", \"Topic3\", \"Topic3\", \"Topic3\", \"Topic3\", \"Topic3\", \"Topic3\", \"Topic3\", \"Topic3\", \"Topic3\", \"Topic3\", \"Topic3\", \"Topic3\", \"Topic3\", \"Topic3\", \"Topic3\", \"Topic3\", \"Topic3\", \"Topic3\", \"Topic3\", \"Topic3\", \"Topic3\", \"Topic3\", \"Topic3\", \"Topic3\", \"Topic3\", \"Topic3\", \"Topic3\", \"Topic3\", \"Topic3\", \"Topic3\", \"Topic3\", \"Topic3\", \"Topic3\", \"Topic3\", \"Topic4\", \"Topic4\", \"Topic4\", \"Topic4\", \"Topic4\", \"Topic4\", \"Topic4\", \"Topic4\", \"Topic4\", \"Topic4\", \"Topic4\", \"Topic4\", \"Topic4\", \"Topic4\", \"Topic4\", \"Topic4\", \"Topic4\", \"Topic4\", \"Topic4\", \"Topic4\", \"Topic4\", \"Topic4\", \"Topic4\", \"Topic4\", \"Topic4\", \"Topic4\", \"Topic4\", \"Topic4\", \"Topic4\", \"Topic4\", \"Topic4\", \"Topic4\", \"Topic4\", \"Topic4\", \"Topic4\", \"Topic4\", \"Topic4\", \"Topic4\", \"Topic4\", \"Topic4\", \"Topic4\", \"Topic4\", \"Topic4\", \"Topic4\", \"Topic4\", \"Topic4\", \"Topic4\", \"Topic4\", \"Topic4\", \"Topic4\", \"Topic4\", \"Topic4\", \"Topic4\", \"Topic4\", \"Topic4\", \"Topic4\", \"Topic4\", \"Topic4\", \"Topic4\", \"Topic4\", \"Topic4\", \"Topic4\", \"Topic4\", \"Topic4\", \"Topic4\", \"Topic4\", \"Topic4\", \"Topic4\", \"Topic4\", \"Topic5\", \"Topic5\", \"Topic5\", \"Topic5\", \"Topic5\", \"Topic5\", \"Topic5\", \"Topic5\", \"Topic5\", \"Topic5\", \"Topic5\", \"Topic5\", \"Topic5\", \"Topic5\", \"Topic5\", \"Topic5\", \"Topic5\", \"Topic5\", \"Topic5\", \"Topic5\", \"Topic5\", \"Topic5\", \"Topic5\", \"Topic5\", \"Topic5\", \"Topic5\", \"Topic5\", \"Topic5\", \"Topic5\", \"Topic5\", \"Topic5\", \"Topic5\", \"Topic5\", \"Topic5\", \"Topic5\", \"Topic5\", \"Topic5\", \"Topic5\", \"Topic5\", \"Topic5\", \"Topic5\", \"Topic5\", \"Topic5\", \"Topic5\", \"Topic5\", \"Topic5\", \"Topic5\", \"Topic5\", \"Topic5\", \"Topic5\", \"Topic5\", \"Topic5\", \"Topic5\", \"Topic5\", \"Topic5\", \"Topic5\", \"Topic5\", \"Topic5\", \"Topic5\", \"Topic5\", \"Topic5\", \"Topic5\", \"Topic5\", \"Topic5\", \"Topic5\", \"Topic5\", \"Topic5\", \"Topic5\", \"Topic5\", \"Topic5\", \"Topic5\", \"Topic5\", \"Topic6\", \"Topic6\", \"Topic6\", \"Topic6\", \"Topic6\", \"Topic6\", \"Topic6\", \"Topic6\", \"Topic6\", \"Topic6\", \"Topic6\", \"Topic6\", \"Topic6\", \"Topic6\", \"Topic6\", \"Topic6\", \"Topic6\", \"Topic6\", \"Topic6\", \"Topic6\", \"Topic6\", \"Topic6\", \"Topic6\", \"Topic6\", \"Topic6\", \"Topic6\", \"Topic6\", \"Topic6\", \"Topic6\", \"Topic6\", \"Topic6\", \"Topic6\", \"Topic6\", \"Topic6\", \"Topic6\", \"Topic6\", \"Topic6\", \"Topic6\", \"Topic6\", \"Topic6\", \"Topic6\", \"Topic6\", \"Topic6\", \"Topic6\", \"Topic6\", \"Topic6\", \"Topic6\", \"Topic6\", \"Topic6\", \"Topic6\", \"Topic6\", \"Topic6\", \"Topic6\", \"Topic6\", \"Topic6\", \"Topic6\", \"Topic6\", \"Topic6\", \"Topic6\", \"Topic6\", \"Topic6\", \"Topic6\", \"Topic6\", \"Topic6\", \"Topic6\", \"Topic6\", \"Topic6\", \"Topic6\", \"Topic6\", \"Topic6\", \"Topic6\", \"Topic6\", \"Topic6\", \"Topic6\", \"Topic6\", \"Topic6\", \"Topic6\"], \"Freq\": [7646.0, 8988.0, 5595.0, 4942.0, 3098.0, 2164.0, 6926.0, 2050.0, 1740.0, 2114.0, 2944.0, 1286.0, 2469.0, 2251.0, 2451.0, 1713.0, 1211.0, 1210.0, 1020.0, 942.0, 1589.0, 2265.0, 3182.0, 1519.0, 1308.0, 854.0, 3489.0, 959.0, 869.0, 821.0, 7641.36767578125, 869.0210571289062, 1285.0123291015625, 607.1249389648438, 481.94036865234375, 361.8902893066406, 352.3402099609375, 317.26312255859375, 299.4501647949219, 390.0111389160156, 310.1080017089844, 246.07254028320312, 221.57064819335938, 215.0260772705078, 180.376220703125, 155.4959259033203, 138.09805297851562, 120.27360534667969, 96.81529235839844, 88.9931411743164, 87.63371276855469, 102.26473236083984, 83.68466186523438, 289.08514404296875, 80.87120819091797, 75.23741912841797, 75.94200134277344, 71.41865539550781, 64.91719818115234, 64.89714050292969, 350.0055847167969, 112.49140930175781, 455.4190368652344, 118.58126068115234, 164.1775360107422, 2108.458740234375, 174.07437133789062, 278.5863342285156, 146.6309051513672, 1566.14453125, 170.49581909179688, 357.89453125, 1175.900146484375, 332.05169677734375, 283.1067199707031, 541.0280151367188, 1437.372314453125, 350.34930419921875, 374.3089599609375, 271.39111328125, 786.7608032226562, 320.1222229003906, 1170.2301025390625, 1224.6064453125, 786.04736328125, 719.01953125, 536.1248779296875, 491.8076477050781, 770.6319580078125, 988.483154296875, 439.7364501953125, 398.091552734375, 418.5141296386719, 389.3614196777344, 207.33729553222656, 215.06259155273438, 197.30728149414062, 139.66575622558594, 485.3838195800781, 178.91860961914062, 95.5049057006836, 133.6032257080078, 73.04520416259766, 69.77874755859375, 63.36570358276367, 56.25471115112305, 102.279052734375, 43.85158157348633, 43.41215133666992, 43.10200500488281, 41.48529052734375, 39.15941619873047, 37.74184036254883, 80.77448272705078, 32.298038482666016, 31.205184936523438, 30.555347442626953, 32.361061096191406, 27.961393356323242, 27.10699462890625, 30.784164428710938, 28.620006561279297, 26.637821197509766, 25.75397300720215, 316.2760925292969, 439.1141052246094, 283.04571533203125, 278.7614440917969, 316.88031005859375, 72.51734924316406, 271.2919616699219, 266.4891357421875, 274.25634765625, 151.01364135742188, 402.8221130371094, 324.9605407714844, 102.41551208496094, 140.0929412841797, 237.24298095703125, 193.80528259277344, 483.05401611328125, 504.29986572265625, 160.50733947753906, 909.7014770507812, 2813.947998046875, 965.3173217773438, 624.8656005859375, 1549.9210205078125, 453.7239990234375, 330.33642578125, 318.4848937988281, 1104.689697265625, 302.38720703125, 490.8202209472656, 1358.94775390625, 559.3861694335938, 623.4766845703125, 401.8756103515625, 756.8521118164062, 430.21746826171875, 536.984130859375, 495.90740966796875, 344.8099365234375, 342.4666748046875, 381.42156982421875, 402.5618591308594, 333.2938232421875, 326.50592041015625, 324.58599853515625, 488.9031066894531, 2159.150634765625, 401.5825500488281, 323.6357727050781, 233.33143615722656, 158.33758544921875, 171.35984802246094, 176.1256103515625, 934.1226806640625, 89.20894622802734, 121.07554626464844, 112.81793212890625, 152.3463897705078, 227.09518432617188, 174.7393798828125, 74.07913970947266, 47.76370620727539, 390.9895324707031, 35.96491622924805, 50.56381607055664, 72.55170440673828, 1690.69384765625, 253.36471557617188, 27.93467140197754, 27.180110931396484, 828.7622680664062, 199.87355041503906, 41.14946746826172, 39.026268005371094, 155.32972717285156, 469.2860107421875, 403.0845947265625, 71.43472290039062, 885.8007202148438, 445.428466796875, 314.9076843261719, 1846.365234375, 140.63914489746094, 171.88955688476562, 1798.666259765625, 831.6163940429688, 295.9256286621094, 1147.2261962890625, 1766.19189453125, 1381.08203125, 313.953125, 2535.0400390625, 1511.8427734375, 325.2759094238281, 492.1507263183594, 1492.8304443359375, 659.806640625, 578.3267822265625, 529.915283203125, 529.437744140625, 1389.6312255859375, 438.1343688964844, 612.793701171875, 640.8192749023438, 200.24267578125, 165.30152893066406, 87.67436218261719, 99.25365447998047, 75.5331802368164, 73.52991485595703, 190.0872344970703, 88.85118865966797, 170.43252563476562, 40.79692077636719, 37.73651885986328, 37.804569244384766, 136.27001953125, 37.462615966796875, 490.5424499511719, 30.174814224243164, 32.15471649169922, 27.55780792236328, 51.391048431396484, 23.40909194946289, 21.71782684326172, 20.202255249023438, 18.563352584838867, 18.318479537963867, 18.15559196472168, 18.077444076538086, 19.549266815185547, 17.15468978881836, 17.317562103271484, 16.657930374145508, 343.6072998046875, 61.75900650024414, 55.714290618896484, 29.05183982849121, 142.57589721679688, 114.4715576171875, 100.58638763427734, 589.2011108398438, 175.41000366210938, 935.3451538085938, 173.1756591796875, 69.83289337158203, 255.95962524414062, 210.3675994873047, 2066.2578125, 863.560546875, 79.62015533447266, 126.11229705810547, 135.36080932617188, 869.5913696289062, 559.0180053710938, 977.74755859375, 564.1188354492188, 939.1405029296875, 708.6299438476562, 383.537841796875, 196.87269592285156, 748.072509765625, 217.7194366455078, 349.64208984375, 281.4192199707031, 490.2850646972656, 259.0364685058594, 246.11358642578125, 261.26348876953125, 241.2991943359375, 218.155029296875, 209.314208984375, 179.5776824951172, 132.12025451660156, 128.16226196289062, 31.1826171875, 21.10931396484375, 23.52197265625, 15.66944408416748, 14.109712600708008, 15.149535179138184, 13.41038703918457, 12.97192668914795, 13.195497512817383, 12.19399642944336, 13.281720161437988, 11.081709861755371, 11.71728801727295, 10.716168403625488, 11.267789840698242, 11.033184051513672, 10.19357967376709, 9.773630142211914, 9.345281600952148, 9.421427726745605, 8.995282173156738, 120.44556427001953, 12.59469985961914, 8.737698554992676, 8.646590232849121, 8.645689964294434, 9.590875625610352, 8.563985824584961, 148.5050048828125, 1598.5450439453125, 32.00727462768555, 758.201904296875, 180.62586975097656, 3282.2119140625, 585.0927734375, 3516.340576171875, 285.1199951171875, 21.483360290527344, 4725.6083984375, 93.60381317138672, 424.5929260253906, 62.063968658447266, 122.19029998779297, 281.8644104003906, 660.2224731445312, 90.79608154296875, 997.6129760742188, 41.64426040649414, 93.25879669189453, 160.53292846679688, 509.9273376464844, 337.07904052734375, 607.9425048828125, 575.864501953125, 187.01809692382812, 53.29899215698242, 286.4472351074219, 117.70271301269531, 325.4819030761719, 982.3140258789062, 443.9576416015625, 275.08795166015625, 264.1414794921875, 371.7969055175781, 211.32655334472656, 227.11309814453125, 171.32623291015625, 194.47857666015625, 190.61695861816406, 201.5452423095703, 110.32080078125, 59.49629211425781, 53.44643020629883, 57.003265380859375, 64.8333740234375, 95.07295227050781, 49.32058334350586, 51.40267562866211, 67.5333023071289, 78.14775848388672, 38.72875213623047, 28.73883819580078, 26.268630981445312, 24.674877166748047, 28.530271530151367, 24.664857864379883, 30.577999114990234, 22.99917984008789, 25.590190887451172, 18.95094871520996, 18.14864158630371, 29.08214569091797, 17.36129379272461, 65.99382781982422, 16.997882843017578, 16.91971206665039, 17.73798942565918, 16.729183197021484, 15.682847023010254, 15.682950019836426, 34.967254638671875, 34.404052734375, 243.59701538085938, 470.1055908203125, 27.791934967041016, 221.703125, 108.08383178710938, 155.72052001953125, 174.65676879882812, 106.11260223388672, 103.74468231201172, 228.37705993652344, 115.41466522216797, 121.17659759521484, 78.8419418334961, 140.97662353515625, 78.88141632080078, 75.61996459960938, 142.84359741210938, 79.95503997802734, 111.96830749511719, 97.51255798339844, 740.4838256835938, 141.4303741455078, 312.3023986816406, 147.0234832763672, 282.3371887207031, 524.7484130859375, 301.68695068359375, 206.5814971923828, 129.49525451660156, 354.9274597167969, 143.88926696777344, 397.538330078125, 139.82464599609375, 439.0633850097656, 230.53269958496094, 155.7275390625, 179.0238494873047, 262.6116943359375, 157.97802734375, 207.90106201171875, 166.06385803222656, 150.6757354736328, 149.29808044433594, 147.7491455078125, 141.2222442626953], \"Term\": [\"batteries\", \"great\", \"good\", \"price\", \"kindle\", \"loves\", \"tablet\", \"product\", \"year\", \"old\", \"easy\", \"brand\", \"kids\", \"buy\", \"long\", \"games\", \"read\", \"reading\", \"value\", \"daughter\", \"screen\", \"work\", \"bought\", \"books\", \"quality\", \"christmas\", \"love\", \"son\", \"brands\", \"deal\", \"batteries\", \"brands\", \"brand\", \"duracell\", \"aa\", \"aaa\", \"lasting\", \"energizer\", \"amazonbasics\", \"toys\", \"remote\", \"packaging\", \"remotes\", \"alkaline\", \"package\", \"packaged\", \"controllers\", \"flashlights\", \"packs\", \"controller\", \"wrapped\", \"candles\", \"costco\", \"basics\", \"cardboard\", \"duracells\", \"sizes\", \"leak\", \"batch\", \"leaked\", \"pack\", \"die\", \"box\", \"rechargeable\", \"xbox\", \"long\", \"dead\", \"lasted\", \"bulk\", \"work\", \"half\", \"longer\", \"battery\", \"cheaper\", \"power\", \"ve\", \"amazon\", \"buying\", \"cheap\", \"ll\", \"time\", \"expensive\", \"price\", \"good\", \"like\", \"buy\", \"better\", \"far\", \"use\", \"great\", \"life\", \"lot\", \"quality\", \"store\", \"echo\", \"tap\", \"speaker\", \"browsing\", \"google\", \"sd\", \"streaming\", \"surfing\", \"expandable\", \"voice\", \"processor\", \"social\", \"media\", \"dot\", \"lag\", \"wi\", \"ram\", \"fi\", \"hulu\", \"surf\", \"lacks\", \"ecosystem\", \"downfall\", \"nexus\", \"slower\", \"underground\", \"advertising\", \"processing\", \"player\", \"gen\", \"memory\", \"music\", \"gb\", \"card\", \"sound\", \"stream\", \"web\", \"alexa\", \"android\", \"speed\", \"prime\", \"storage\", \"install\", \"ads\", \"netflix\", \"video\", \"movies\", \"hd\", \"resolution\", \"screen\", \"tablet\", \"apps\", \"play\", \"amazon\", \"ipad\", \"app\", \"want\", \"use\", \"watch\", \"nice\", \"great\", \"games\", \"like\", \"store\", \"good\", \"better\", \"love\", \"easy\", \"size\", \"little\", \"kids\", \"price\", \"books\", \"need\", \"works\", \"grandson\", \"loves\", \"parental\", \"yr\", \"educational\", \"grand\", \"niece\", \"grandkids\", \"daughter\", \"ages\", \"appropriate\", \"entertained\", \"enjoys\", \"age\", \"mother\", \"busy\", \"savvy\", \"granddaughter\", \"occupied\", \"protected\", \"dad\", \"year\", \"mom\", \"protects\", \"cartoons\", \"christmas\", \"birthday\", \"rubber\", \"grandchild\", \"present\", \"kid\", \"learning\", \"bumper\", \"son\", \"child\", \"durable\", \"old\", \"nephew\", \"likes\", \"kids\", \"gift\", \"controls\", \"games\", \"bought\", \"easy\", \"friendly\", \"tablet\", \"love\", \"children\", \"set\", \"use\", \"purchased\", \"got\", \"perfect\", \"play\", \"great\", \"case\", \"apps\", \"time\", \"voyage\", \"oasis\", \"purse\", \"white\", \"paper\", \"readers\", \"weight\", \"lighter\", \"paperwhite\", \"backlight\", \"sunlight\", \"glare\", \"eyes\", \"format\", \"reader\", \"granddaughters\", \"choices\", \"beach\", \"lighting\", \"sensitive\", \"travels\", \"leather\", \"bezel\", \"visuals\", \"lighted\", \"voyager\", \"areas\", \"fingertips\", \"glass\", \"travelling\", \"book\", \"turning\", \"bag\", \"vacation\", \"lightweight\", \"buttons\", \"nook\", \"light\", \"carry\", \"read\", \"page\", \"text\", \"easier\", \"cover\", \"kindle\", \"reading\", \"comfortable\", \"fits\", \"library\", \"books\", \"size\", \"easy\", \"screen\", \"love\", \"like\", \"new\", \"enjoy\", \"use\", \"small\", \"works\", \"device\", \"great\", \"best\", \"better\", \"battery\", \"time\", \"perfect\", \"nice\", \"case\", \"described\", \"friend\", \"associate\", \"handed\", \"knowledgeable\", \"drains\", \"modern\", \"gonna\", \"encourage\", \"december\", \"prompt\", \"bored\", \"anybody\", \"decorations\", \"companion\", \"field\", \"husbands\", \"string\", \"refused\", \"recommending\", \"heart\", \"explained\", \"godson\", \"advertised\", \"worn\", \"solar\", \"router\", \"sim\", \"lightning\", \"learns\", \"exactly\", \"product\", \"bestbuy\", \"value\", \"thanks\", \"price\", \"deal\", \"good\", \"item\", \"costs\", \"great\", \"shipping\", \"excellent\", \"delivery\", \"service\", \"beat\", \"quality\", \"reasonable\", \"buy\", \"durability\", \"recommended\", \"sale\", \"recommend\", \"fast\", \"works\", \"best\", \"highly\", \"sales\", \"money\", \"friday\", \"far\", \"tablet\", \"battery\", \"purchase\", \"life\", \"work\", \"happy\", \"nice\", \"awesome\", \"gift\", \"got\", \"bought\", \"port\", \"geek\", \"bang\", \"buck\", \"cord\", \"plug\", \"squad\", \"fix\", \"step\", \"cable\", \"menu\", \"adapter\", \"follow\", \"snap\", \"shape\", \"directions\", \"restart\", \"paired\", \"seconds\", \"square\", \"supports\", \"quit\", \"washington\", \"usb\", \"searches\", \"logic\", \"registered\", \"student\", \"disable\", \"textbooks\", \"magazine\", \"penny\", \"charging\", \"charge\", \"smartphone\", \"family\", \"th\", \"charger\", \"laptop\", \"broke\", \"generation\", \"problem\", \"wouldn\", \"original\", \"upgraded\", \"replacement\", \"friends\", \"connection\", \"went\", \"wait\", \"keyboard\", \"button\", \"kindle\", \"won\", \"device\", \"home\", \"new\", \"bought\", \"best\", \"hd\", \"wifi\", \"buy\", \"expected\", \"amazon\", \"replace\", \"tablet\", \"purchased\", \"internet\", \"ve\", \"use\", \"way\", \"work\", \"store\", \"tablets\", \"happy\", \"better\", \"case\"], \"Total\": [7646.0, 8988.0, 5595.0, 4942.0, 3098.0, 2164.0, 6926.0, 2050.0, 1740.0, 2114.0, 2944.0, 1286.0, 2469.0, 2251.0, 2451.0, 1713.0, 1211.0, 1210.0, 1020.0, 942.0, 1589.0, 2265.0, 3182.0, 1519.0, 1308.0, 854.0, 3489.0, 959.0, 869.0, 821.0, 7646.77978515625, 869.945556640625, 1286.4462890625, 607.9456176757812, 482.7529602050781, 362.6734924316406, 353.16424560546875, 318.0575256347656, 300.2346496582031, 391.04058837890625, 310.9456787109375, 246.8588409423828, 222.36395263671875, 215.801513671875, 181.24893188476562, 156.2769012451172, 138.87208557128906, 121.04718017578125, 97.59210968017578, 89.769775390625, 88.4126205444336, 103.1905746459961, 84.45857238769531, 291.7821350097656, 81.64413452148438, 76.0145492553711, 76.73307800292969, 72.25080871582031, 65.69471740722656, 65.69116973876953, 359.3321838378906, 114.26361846923828, 480.5303039550781, 121.34683227539062, 170.2561798095703, 2451.251953125, 182.32009887695312, 305.02581787109375, 154.29835510253906, 2265.78076171875, 189.26846313476562, 468.1986389160156, 2104.950439453125, 447.62646484375, 367.85791015625, 922.28515625, 3860.3583984375, 520.2559204101562, 574.9758911132812, 362.6919250488281, 2056.302978515625, 481.9022216796875, 4942.31396484375, 5595.47998046875, 2476.67041015625, 2251.54638671875, 1438.9429931640625, 1223.6834716796875, 4436.228515625, 8988.453125, 1004.3768920898438, 940.93310546875, 1308.1876220703125, 1020.579833984375, 208.2295379638672, 216.12918090820312, 198.42343139648438, 140.48944091796875, 488.25616455078125, 180.07757568359375, 96.3531494140625, 134.92015075683594, 73.87773895263672, 70.62117004394531, 64.18719482421875, 57.08780288696289, 103.93988037109375, 44.6723518371582, 44.23822021484375, 43.932613372802734, 42.352508544921875, 39.98859786987305, 38.641536712646484, 82.76408386230469, 33.127384185791016, 32.023475646972656, 31.389328002929688, 33.2773551940918, 28.791818618774414, 27.926362991333008, 31.719074249267578, 29.497743606567383, 27.456581115722656, 26.58359146118164, 328.89739990234375, 459.56353759765625, 298.3486022949219, 301.0937194824219, 348.53851318359375, 76.25154876708984, 297.5143127441406, 293.284423828125, 302.6870422363281, 165.35586547851562, 466.9176330566406, 380.60406494140625, 111.70848846435547, 158.17599487304688, 281.2683410644531, 229.9293670654297, 644.7830200195312, 714.6077880859375, 191.26217651367188, 1589.072509765625, 6926.98681640625, 1829.2413330078125, 1161.4024658203125, 3860.3583984375, 781.6348266601562, 528.5916748046875, 561.5656127929688, 4436.228515625, 524.5808715820312, 1199.4693603515625, 8988.453125, 1713.1363525390625, 2476.67041015625, 1020.579833984375, 5595.47998046875, 1438.9429931640625, 3489.020751953125, 2944.334716796875, 1000.9058227539062, 981.6695556640625, 2469.276123046875, 4942.31396484375, 1519.7086181640625, 936.8942260742188, 1454.888427734375, 489.7696228027344, 2164.2587890625, 402.8267822265625, 324.7008361816406, 234.32322692871094, 159.22015380859375, 172.55592346191406, 177.60728454589844, 942.250244140625, 90.04899597167969, 122.22404479980469, 113.92202758789062, 154.05023193359375, 229.63943481445312, 176.87677001953125, 75.36676025390625, 48.62342071533203, 400.00067138671875, 36.84635925292969, 51.86796188354492, 74.57046508789062, 1740.7496337890625, 260.9259338378906, 28.78533363342285, 28.025632858276367, 854.5764770507812, 206.70909118652344, 42.66028594970703, 40.49113082885742, 161.3360595703125, 491.2297668457031, 425.39886474609375, 74.2826156616211, 959.2158813476562, 478.0706481933594, 339.273681640625, 2114.98876953125, 149.08639526367188, 184.6472930908203, 2469.276123046875, 1063.9036865234375, 352.7169189453125, 1713.1363525390625, 3182.6826171875, 2944.334716796875, 412.18017578125, 6926.98681640625, 3489.020751953125, 434.99029541015625, 803.26318359375, 4436.228515625, 1362.261962890625, 1251.854736328125, 1114.263671875, 1161.4024658203125, 8988.453125, 822.070068359375, 1829.2413330078125, 2056.302978515625, 201.2281951904297, 166.19471740722656, 88.49054718017578, 100.33875274658203, 76.40511322021484, 74.39126586914062, 192.4368438720703, 90.08995819091797, 172.9891357421875, 41.627967834472656, 38.546913146972656, 38.62687683105469, 139.2687225341797, 38.29355239868164, 503.5751037597656, 30.993223190307617, 33.23985290527344, 28.502939224243164, 53.19743347167969, 24.276391983032227, 22.53181266784668, 21.035930633544922, 19.381065368652344, 19.128570556640625, 18.96760368347168, 18.88669204711914, 20.45731544494629, 17.967252731323242, 18.1395206451416, 17.472583770751953, 363.6139221191406, 65.74819946289062, 59.3958740234375, 30.611042022705078, 155.99681091308594, 124.63397216796875, 110.03779602050781, 693.2034912109375, 203.50555419921875, 1211.1724853515625, 201.75119018554688, 78.42332458496094, 317.3694763183594, 258.3724060058594, 3098.083740234375, 1210.30859375, 90.47763061523438, 153.74163818359375, 170.04684448242188, 1519.7086181640625, 1000.9058227539062, 2944.334716796875, 1589.072509765625, 3489.020751953125, 2476.67041015625, 989.0404052734375, 358.8595886230469, 4436.228515625, 492.8475646972656, 1454.888427734375, 1035.709716796875, 8988.453125, 1423.27880859375, 1438.9429931640625, 2104.950439453125, 2056.302978515625, 1114.263671875, 1199.4693603515625, 822.070068359375, 133.17076110839844, 129.31631469726562, 31.985952377319336, 21.932294845581055, 24.692476272583008, 16.48021125793457, 14.9185152053833, 16.041479110717773, 14.22148609161377, 13.789749145507812, 14.052257537841797, 13.008707046508789, 14.216390609741211, 11.893227577209473, 12.58337116241455, 11.54391098022461, 12.152180671691895, 11.901321411132812, 11.019210815429688, 10.582734107971191, 10.150979995727539, 10.235210418701172, 9.802200317382812, 131.38241577148438, 13.742708206176758, 9.55044937133789, 9.454242706298828, 9.454376220703125, 10.490345001220703, 9.369691848754883, 173.54489135742188, 2050.7587890625, 36.92116165161133, 1020.9667358398438, 228.36106872558594, 4942.31396484375, 821.7949829101562, 5595.47998046875, 398.94366455078125, 24.72092628479004, 8988.453125, 125.61864471435547, 696.5379028320312, 81.6484146118164, 176.92437744140625, 457.902587890625, 1308.1876220703125, 132.99783325195312, 2251.54638671875, 53.79802703857422, 138.99795532226562, 271.5892028808594, 1104.43408203125, 676.4769897460938, 1454.888427734375, 1423.27880859375, 355.4329833984375, 75.23417663574219, 754.1669311523438, 229.20677185058594, 1223.6834716796875, 6926.98681640625, 2104.950439453125, 949.9012451171875, 1004.3768920898438, 2265.78076171875, 831.3353881835938, 1199.4693603515625, 548.47265625, 1063.9036865234375, 1251.854736328125, 3182.6826171875, 111.96556854248047, 60.39990997314453, 54.25876235961914, 57.8878288269043, 65.88419342041016, 96.7188949584961, 50.17457962036133, 52.29384231567383, 68.7458267211914, 79.75846099853516, 39.5943489074707, 29.541894912719727, 27.072782516479492, 25.483182907104492, 29.4720458984375, 25.483436584472656, 31.62726593017578, 23.80806541442871, 26.630706787109375, 19.750883102416992, 18.95580291748047, 30.412090301513672, 18.161863327026367, 69.10841369628906, 17.806493759155273, 17.735652923583984, 18.60038185119629, 17.553442001342773, 16.486555099487305, 16.48672103881836, 36.98759841918945, 36.51384353637695, 272.9656982421875, 581.237548828125, 29.75806427001953, 265.2514343261719, 125.93870544433594, 185.74063110351562, 224.4493408203125, 129.85568237304688, 128.65591430664062, 339.95172119140625, 158.105224609375, 174.7192840576172, 103.98970031738281, 213.47335815429688, 105.393798828125, 101.64764404296875, 236.08511352539062, 111.70317840576172, 177.65542602539062, 149.7037353515625, 3098.083740234375, 276.3603515625, 1035.709716796875, 311.225830078125, 989.0404052734375, 3182.6826171875, 1423.27880859375, 714.6077880859375, 284.4854431152344, 2251.54638671875, 360.77679443359375, 3860.3583984375, 359.17364501953125, 6926.98681640625, 1362.261962890625, 510.7730407714844, 922.28515625, 4436.228515625, 630.1231689453125, 2265.78076171875, 1020.579833984375, 757.1489868164062, 831.3353881835938, 1438.9429931640625, 822.070068359375], \"loglift\": [30.0, 29.0, 28.0, 27.0, 26.0, 25.0, 24.0, 23.0, 22.0, 21.0, 20.0, 19.0, 18.0, 17.0, 16.0, 15.0, 14.0, 13.0, 12.0, 11.0, 10.0, 9.0, 8.0, 7.0, 6.0, 5.0, 4.0, 3.0, 2.0, 1.0, 1.402899980545044, 1.402500033378601, 1.402500033378601, 1.4023000001907349, 1.401900053024292, 1.4013999700546265, 1.4012999534606934, 1.4011000394821167, 1.4010000228881836, 1.4010000228881836, 1.4009000062942505, 1.4004000425338745, 1.399999976158142, 1.399999976158142, 1.398800015449524, 1.3985999822616577, 1.3980000019073486, 1.3971999883651733, 1.3955999612808228, 1.3948999643325806, 1.3947999477386475, 1.3946000337600708, 1.3944000005722046, 1.3942999839782715, 1.3940999507904053, 1.3933000564575195, 1.3932000398635864, 1.3919999599456787, 1.391700029373169, 1.3913999795913696, 1.3773000240325928, 1.3880000114440918, 1.3499000072479248, 1.3805999755859375, 1.367300033569336, 1.253000020980835, 1.357300043106079, 1.3128999471664429, 1.3525999784469604, 1.0342999696731567, 1.2992000579833984, 1.1349999904632568, 0.821399986743927, 1.1049000024795532, 1.141700029373169, 0.870199978351593, 0.4156999886035919, 1.0082000494003296, 0.974399983882904, 1.1136000156402588, 0.44290000200271606, 0.9945999979972839, -0.03700000047683716, -0.11569999903440475, 0.25600001215934753, 0.2621000111103058, 0.4162999987602234, 0.4921000003814697, -0.3467000126838684, -0.8039000034332275, 0.5777000188827515, 0.54339998960495, 0.2639000117778778, 0.4399999976158142, 1.6269999742507935, 1.6263999938964844, 1.6256999969482422, 1.6253999471664429, 1.6253999471664429, 1.6247999668121338, 1.622499942779541, 1.621500015258789, 1.6200000047683716, 1.6193000078201294, 1.618399977684021, 1.6166000366210938, 1.6152000427246094, 1.6128000020980835, 1.6124999523162842, 1.6122000217437744, 1.6105999946594238, 1.6103999614715576, 1.607699990272522, 1.6069999933242798, 1.6059999465942383, 1.6053999662399292, 1.6044000387191772, 1.6033999919891357, 1.6019999980926514, 1.6015000343322754, 1.6014000177383423, 1.601099967956543, 1.6009999513626099, 1.5995999574661255, 1.5922000408172607, 1.585800051689148, 1.5786999464035034, 1.5542000532150269, 1.5361000299453735, 1.5810999870300293, 1.5390000343322754, 1.5355000495910645, 1.5326999425888062, 1.5405999422073364, 1.4836000204086304, 1.4732999801635742, 1.5444999933242798, 1.5098999738693237, 1.4610999822616577, 1.4603999853134155, 1.3424999713897705, 1.2826999425888062, 1.4559999704360962, 1.0735000371932983, 0.7304999828338623, 0.9921000003814697, 1.0115000009536743, 0.7188000082969666, 1.087399959564209, 1.1612000465393066, 1.0642000436782837, 0.2410999983549118, 1.080399990081787, 0.7376999855041504, -0.2578999996185303, 0.5120999813079834, 0.25189998745918274, 0.6992999911308289, -0.3691999912261963, 0.4239000082015991, -0.24009999632835388, -0.14990000426769257, 0.5655999779701233, 0.5781999826431274, -0.23649999499320984, -0.8763999938964844, 0.11410000175237656, 0.5771999955177307, 0.13120000064373016, 1.6395000219345093, 1.6389000415802002, 1.638200044631958, 1.6380000114440918, 1.6369999647140503, 1.635699987411499, 1.6342999935150146, 1.6328999996185303, 1.632599949836731, 1.6318999528884888, 1.6318000555038452, 1.631500005722046, 1.6301000118255615, 1.6301000118255615, 1.62909996509552, 1.6239999532699585, 1.6233999729156494, 1.618499994277954, 1.6171000003814697, 1.6158000230789185, 1.613800048828125, 1.6121000051498413, 1.611899971961975, 1.611299991607666, 1.6105999946594238, 1.6105999946594238, 1.6075999736785889, 1.6052000522613525, 1.6044000387191772, 1.6032999753952026, 1.5956000089645386, 1.587399959564209, 1.6022000312805176, 1.5615999698638916, 1.5705000162124634, 1.5666999816894531, 1.5053999423980713, 1.582900047302246, 1.569700002670288, 1.3243999481201172, 1.3948999643325806, 1.4657000303268433, 1.2403000593185425, 1.05239999294281, 0.8842999935150146, 1.3690999746322632, 0.6360999941825867, 0.8050000071525574, 1.350600004196167, 1.1513999700546265, 0.5521000027656555, 0.9162999987602234, 0.8690000176429749, 0.8980000019073486, 0.8557000160217285, -0.225600004196167, 1.0119999647140503, 0.5475999712944031, 0.47530001401901245, 1.9804999828338623, 1.9800000190734863, 1.976099967956543, 1.9744999408721924, 1.9738999605178833, 1.9737000465393066, 1.973099946975708, 1.971500039100647, 1.9704999923706055, 1.9651999473571777, 1.9641000032424927, 1.9638999700546265, 1.9636000394821167, 1.9634000062942505, 1.9592000246047974, 1.9586000442504883, 1.9522000551223755, 1.95169997215271, 1.9507999420166016, 1.9490000009536743, 1.9486000537872314, 1.9449000358581543, 1.9422999620437622, 1.9421000480651855, 1.94159996509552, 1.94159996509552, 1.940000057220459, 1.9391000270843506, 1.9390000104904175, 1.937600016593933, 1.9287999868392944, 1.9227999448776245, 1.9213999509811401, 1.9330999851226807, 1.895400047302246, 1.9003000259399414, 1.8955999612808228, 1.8228000402450562, 1.8367999792099, 1.7269999980926514, 1.8327000141143799, 1.8694000244140625, 1.770300030708313, 1.7798000574111938, 1.580299973487854, 1.6477999687194824, 1.8574999570846558, 1.7872999906539917, 1.757200002670288, 1.4270999431610107, 1.402899980545044, 0.8830000162124634, 0.9496999979019165, 0.6729999780654907, 0.734000027179718, 1.038100004196167, 1.3849999904632568, 0.2053000032901764, 1.1684000492095947, 0.5595999956130981, 0.6823999881744385, -0.92330002784729, 0.2815999984741211, 0.21950000524520874, -0.10109999775886536, -0.15719999372959137, 0.3546000123023987, 0.23960000276565552, 0.4641999900341034, 2.100600004196167, 2.0994999408721924, 2.0831000804901123, 2.0703001022338867, 2.0599000453948975, 2.0580999851226807, 2.052799940109253, 2.051300048828125, 2.049799919128418, 2.0473999977111816, 2.045599937438965, 2.043800115585327, 2.0404999256134033, 2.0378000736236572, 2.0371999740600586, 2.03410005569458, 2.032900094985962, 2.0327999591827393, 2.030600070953369, 2.0290000438690186, 2.0257999897003174, 2.025700092315674, 2.022599935531616, 2.0216000080108643, 2.0213000774383545, 2.0195999145507812, 2.019200086593628, 2.0190999507904053, 2.018899917602539, 2.0185999870300293, 1.9527000188827515, 1.8594000339508057, 1.9657000303268433, 1.8109999895095825, 1.8739999532699585, 1.6992000341415405, 1.7688000202178955, 1.6440000534057617, 1.7726000547409058, 1.9680999517440796, 1.4656000137329102, 1.8142999410629272, 1.6134999990463257, 1.8343000411987305, 1.7383999824523926, 1.6232999563217163, 1.4247000217437744, 1.7267999649047852, 1.2944999933242798, 1.8523999452590942, 1.7094000577926636, 1.5827000141143799, 1.3357000350952148, 1.4119000434875488, 1.2359000444412231, 1.2036999464035034, 1.4664000272750854, 1.763800024986267, 1.1404000520706177, 1.4420000314712524, 0.7842000126838684, 0.15520000457763672, 0.5522000193595886, 0.8691999912261963, 0.7728999853134155, 0.3012000024318695, 0.7389000058174133, 0.44429999589920044, 0.9448999762535095, 0.4090999960899353, 0.2264000028371811, -0.6510000228881836, 2.2281999588012695, 2.2279999256134033, 2.2279000282287598, 2.22760009765625, 2.2269999980926514, 2.2258999347686768, 2.2258999347686768, 2.225800037384033, 2.2251999378204346, 2.222599983215332, 2.220900058746338, 2.2155001163482666, 2.212899923324585, 2.2107999324798584, 2.210599899291992, 2.210400104522705, 2.2093000411987305, 2.2084999084472656, 2.203200101852417, 2.20169997215271, 2.19950008392334, 2.1982998847961426, 2.197999954223633, 2.196899890899658, 2.1965999603271484, 2.1958999633789062, 2.1956000328063965, 2.1949000358581543, 2.1930999755859375, 2.193000078201294, 2.1868999004364014, 2.183500051498413, 2.129199981689453, 2.0308001041412354, 2.1747000217437744, 2.063699960708618, 2.090100049972534, 2.066699981689453, 1.9922000169754028, 2.041100025177002, 2.0278000831604004, 1.8451999425888062, 1.9283000230789185, 1.8770999908447266, 1.9661999940872192, 1.8280999660491943, 1.9532999992370605, 1.9471999406814575, 1.7405999898910522, 1.9086999893188477, 1.7813999652862549, 1.8143999576568604, 0.8118000030517578, 1.573099970817566, 1.0441999435424805, 1.4931000471115112, 0.9894000291824341, 0.4404999911785126, 0.6916999816894531, 1.0019999742507935, 1.4559999704360962, 0.39559999108314514, 1.323799967765808, -0.03020000085234642, 1.2996000051498413, -0.515500009059906, 0.46650001406669617, 1.0551999807357788, 0.6036999821662903, -0.583899974822998, 0.8596000075340271, -0.14560000598430634, 0.42730000615119934, 0.628600001335144, 0.5259000062942505, -0.03310000151395798, 0.4814999997615814], \"logprob\": [30.0, 29.0, 28.0, 27.0, 26.0, 25.0, 24.0, 23.0, 22.0, 21.0, 20.0, 19.0, 18.0, 17.0, 16.0, 15.0, 14.0, 13.0, 12.0, 11.0, 10.0, 9.0, 8.0, 7.0, 6.0, 5.0, 4.0, 3.0, 2.0, 1.0, -2.2906999588012695, -4.464700222015381, -4.073500156402588, -4.823299884796143, -5.054200172424316, -5.340700149536133, -5.367499828338623, -5.472300052642822, -5.530099868774414, -5.265900135040283, -5.495100021362305, -5.726399898529053, -5.831299781799316, -5.861299991607666, -6.0370001792907715, -6.185400009155273, -6.304100036621094, -6.442299842834473, -6.659200191497803, -6.743500232696533, -6.758900165557861, -6.604499816894531, -6.804999828338623, -5.565299987792969, -6.839200019836426, -6.911399841308594, -6.902100086212158, -6.963500022888184, -7.058899879455566, -7.059199810028076, -5.374100208282471, -6.509200096130371, -5.110799789428711, -6.456399917602539, -6.131100177764893, -3.5782999992370605, -6.0725998878479, -5.60230016708374, -6.244100093841553, -3.875699996948242, -6.093299865722656, -5.351799964904785, -4.162300109863281, -5.426799774169922, -5.58620023727417, -4.938600063323975, -3.9614999294281006, -5.3730998039245605, -5.307000160217285, -5.628499984741211, -4.5640997886657715, -5.4633002281188965, -4.167099952697754, -4.121699810028076, -4.565000057220459, -4.654200077056885, -4.947700023651123, -5.033999919891357, -4.584799766540527, -4.335899829864502, -5.145899772644043, -5.2453999519348145, -5.195300102233887, -5.267499923706055, -5.670000076293945, -5.633399963378906, -5.719600200653076, -6.065100193023682, -4.819399833679199, -5.817399978637695, -6.445199966430664, -6.109499931335449, -6.7133002281188965, -6.758999824523926, -6.855400085449219, -6.9745001792907715, -6.3765997886657715, -7.223499774932861, -7.23360013961792, -7.240799903869629, -7.2789998054504395, -7.336699962615967, -7.373600006103516, -6.61269998550415, -7.529300212860107, -7.563799858093262, -7.584799766540527, -7.527400016784668, -7.673500061035156, -7.704599857330322, -7.577400207519531, -7.650199890136719, -7.7220001220703125, -7.755799770355225, -5.247700214385986, -4.919600009918213, -5.358699798583984, -5.374000072479248, -5.245800018310547, -6.7204999923706055, -5.401199817657471, -5.419000148773193, -5.3902997970581055, -5.986999988555908, -5.005899906158447, -5.220600128173828, -6.37529993057251, -6.061999797821045, -5.535299777984619, -5.737500190734863, -4.82420015335083, -4.781199932098389, -5.926000118255615, -4.191199779510498, -3.062000036239624, -4.131899833679199, -4.566800117492676, -3.658400058746338, -4.886899948120117, -5.20419979095459, -5.240799903869629, -3.996999979019165, -5.292600154876709, -4.808300018310547, -3.789900064468384, -4.677499771118164, -4.568999767303467, -5.008200168609619, -4.375199794769287, -4.940100193023682, -4.718400001525879, -4.797999858856201, -5.161399841308594, -5.1682000160217285, -5.060400009155273, -5.006499767303467, -5.195300102233887, -5.21589994430542, -5.221799850463867, -4.802199840545654, -3.3169000148773193, -4.999000072479248, -5.214799880981445, -5.541900157928467, -5.929699897766113, -5.850599765777588, -5.823200225830078, -4.154799938201904, -6.503399848937988, -6.197999954223633, -6.268599987030029, -5.968200206756592, -5.568999767303467, -5.831099987030029, -6.689300060272217, -7.1280999183654785, -5.025700092315674, -7.411799907684326, -7.071199893951416, -6.710100173950195, -3.561500072479248, -5.45959997177124, -7.6645002365112305, -7.69189977645874, -4.274499893188477, -5.696700096130371, -7.277200222015381, -7.3302001953125, -5.948800086975098, -4.843200206756592, -4.995200157165527, -6.725599765777588, -4.207900047302246, -4.895400047302246, -5.242099761962891, -3.473400115966797, -6.0482001304626465, -5.847499847412109, -3.4995999336242676, -4.270999908447266, -5.304299831390381, -3.9493000507354736, -3.5178000926971436, -3.7637999057769775, -5.245100021362305, -3.156399965286255, -3.67330002784729, -5.209700107574463, -4.795599937438965, -3.686000108718872, -4.502399921417236, -4.634300231933594, -4.721700191497803, -4.722599983215332, -3.7576000690460205, -4.911900043487549, -4.576399803161621, -4.531599998474121, -5.3506999015808105, -5.542500019073486, -6.176599979400635, -6.052599906921387, -6.325699806213379, -6.35260009765625, -5.4028000831604, -6.163300037384033, -5.511899948120117, -6.941699981689453, -7.019700050354004, -7.0177998542785645, -5.735599994659424, -7.026899814605713, -4.454800128936768, -7.243299961090088, -7.179699897766113, -7.334000110626221, -6.7108001708984375, -7.497200012207031, -7.5721001625061035, -7.644499778747559, -7.729100227355957, -7.742400169372559, -7.751299858093262, -7.7555999755859375, -7.677299976348877, -7.808000087738037, -7.798600196838379, -7.837399959564209, -4.810800075531006, -6.5269999504089355, -6.630000114440918, -7.281199932098389, -5.690400123596191, -5.909999847412109, -6.039299964904785, -4.271500110626221, -5.4832000732421875, -3.8094000816345215, -5.495999813079834, -6.404200077056885, -5.105299949645996, -5.301400184631348, -3.0167999267578125, -3.88919997215271, -6.2729997634887695, -5.8130998611450195, -5.742300033569336, -3.8822999000549316, -4.324100017547607, -3.765000104904175, -4.315000057220459, -3.805299997329712, -4.086900234222412, -4.700799942016602, -5.367700099945068, -4.032800197601318, -5.267099857330322, -4.793399810791016, -5.01039981842041, -4.4552998542785645, -5.093299865722656, -5.144499778747559, -5.084700107574463, -5.1641998291015625, -5.265100002288818, -5.306399822235107, -5.459700107574463, -5.643400192260742, -5.673900127410889, -7.087299823760986, -7.477399826049805, -7.369200229644775, -7.775400161743164, -7.880300045013428, -7.809199810028076, -7.931099891662598, -7.964399814605713, -7.947299957275391, -8.026200294494629, -7.940800189971924, -8.121899604797363, -8.066100120544434, -8.155400276184082, -8.105199813842773, -8.126199722290039, -8.205400466918945, -8.2475004196167, -8.2923002243042, -8.284199714660645, -8.330400466918945, -5.736000061035156, -7.993899822235107, -8.35949993133545, -8.369999885559082, -8.370100021362305, -8.266300201416016, -8.379599571228027, -5.526500225067139, -3.1503000259399414, -7.061200141906738, -3.896199941635132, -5.330699920654297, -2.4309000968933105, -4.155399799346924, -2.361999988555908, -4.874199867248535, -7.45989990234375, -2.0664000511169434, -5.988100051879883, -4.47599983215332, -6.39900016784668, -5.72160005569458, -4.885700225830078, -4.034599781036377, -6.018499851226807, -3.621799945831299, -6.797999858856201, -5.991799831390381, -5.448699951171875, -4.292900085449219, -4.7067999839782715, -4.117099761962891, -4.171299934387207, -5.295899868011475, -6.551199913024902, -4.86959981918335, -5.758999824523926, -4.741799831390381, -3.637200117111206, -4.431399822235107, -4.910099983215332, -4.950699806213379, -4.608799934387207, -5.173699855804443, -5.1016998291015625, -5.383600234985352, -5.256800174713135, -5.276899814605713, -5.221099853515625, -5.689199924468994, -6.306700229644775, -6.413899898529053, -6.3495001792907715, -6.220799922943115, -5.8379998207092285, -6.49429988861084, -6.452899932861328, -6.179999828338623, -6.033999919891357, -6.736000061035156, -7.03439998626709, -7.124300003051758, -7.186800003051758, -7.0416998863220215, -7.18720006942749, -6.972300052642822, -7.257199764251709, -7.150400161743164, -7.450799942016602, -7.49399995803833, -7.022500038146973, -7.538400173187256, -6.203100204467773, -7.559500217437744, -7.5640997886657715, -7.516900062561035, -7.575500011444092, -7.640100002288818, -7.640100002288818, -6.838200092315674, -6.854499816894531, -4.89709997177124, -4.239699840545654, -7.06790018081665, -4.991300106048584, -5.709700107574463, -5.344600200653076, -5.229800224304199, -5.728099822998047, -5.750699996948242, -4.961599826812744, -5.644100189208984, -5.595399856567383, -6.025199890136719, -5.443999767303467, -6.024700164794922, -6.06689977645874, -5.4309000968933105, -6.011199951171875, -5.6743998527526855, -5.812600135803223, -3.7853000164031982, -5.440800189971924, -4.64870023727417, -5.4019999504089355, -4.749499797821045, -4.129700183868408, -4.683199882507324, -5.0619001388549805, -5.5289998054504395, -4.520699977874756, -5.423600196838379, -4.407299995422363, -5.452199935913086, -4.308000087738037, -4.952199935913086, -5.3445000648498535, -5.205100059509277, -4.822000026702881, -5.3302001953125, -5.055600166320801, -5.280300140380859, -5.377500057220459, -5.38670015335083, -5.39709997177124, -5.442299842834473]}, \"token.table\": {\"Topic\": [1, 1, 6, 2, 4, 6, 1, 4, 5, 2, 1, 3, 4, 3, 2, 6, 1, 1, 2, 3, 4, 5, 6, 1, 2, 4, 6, 5, 2, 3, 4, 6, 3, 2, 3, 4, 5, 6, 4, 5, 1, 2, 3, 4, 5, 6, 4, 1, 4, 5, 6, 1, 2, 1, 1, 5, 1, 2, 4, 5, 6, 4, 1, 2, 3, 5, 1, 2, 3, 4, 5, 6, 4, 5, 1, 2, 3, 4, 5, 6, 4, 3, 6, 2, 4, 2, 3, 4, 5, 6, 5, 1, 2, 3, 4, 5, 6, 1, 2, 3, 4, 6, 1, 5, 1, 2, 3, 6, 2, 6, 1, 4, 3, 6, 3, 6, 2, 4, 6, 2, 4, 6, 1, 2, 3, 4, 5, 6, 1, 2, 3, 4, 5, 6, 2, 6, 1, 2, 4, 5, 6, 1, 1, 2, 4, 6, 3, 1, 2, 3, 4, 5, 6, 1, 2, 4, 5, 6, 2, 4, 5, 6, 2, 4, 5, 6, 1, 2, 4, 5, 6, 1, 2, 4, 5, 6, 2, 3, 4, 5, 6, 1, 2, 3, 4, 5, 6, 4, 1, 2, 3, 4, 5, 6, 2, 4, 6, 5, 2, 6, 1, 1, 1, 2, 3, 6, 1, 1, 2, 5, 2, 3, 4, 5, 6, 3, 4, 2, 3, 5, 1, 6, 1, 2, 3, 5, 6, 5, 5, 1, 5, 5, 1, 2, 3, 4, 5, 6, 1, 5, 6, 6, 2, 2, 5, 1, 2, 4, 5, 1, 2, 3, 4, 5, 6, 1, 1, 1, 2, 3, 4, 6, 1, 2, 3, 4, 5, 6, 2, 2, 3, 5, 1, 2, 3, 4, 3, 4, 3, 1, 2, 4, 5, 1, 2, 3, 4, 5, 2, 1, 2, 4, 5, 6, 1, 2, 3, 4, 5, 6, 5, 2, 4, 6, 1, 2, 3, 6, 1, 2, 3, 4, 5, 6, 1, 2, 3, 4, 5, 6, 2, 5, 4, 2, 3, 4, 6, 6, 1, 6, 4, 2, 5, 6, 5, 2, 3, 4, 5, 6, 2, 3, 4, 6, 2, 3, 4, 5, 6, 2, 3, 6, 6, 2, 4, 6, 3, 4, 5, 6, 4, 4, 5, 5, 1, 2, 3, 4, 5, 6, 2, 6, 1, 2, 3, 4, 5, 6, 3, 3, 5, 3, 6, 4, 3, 5, 3, 1, 2, 3, 4, 5, 6, 1, 3, 6, 5, 1, 2, 3, 4, 5, 6, 2, 3, 4, 6, 5, 1, 2, 3, 4, 5, 6, 1, 2, 3, 4, 5, 6, 2, 5, 2, 4, 6, 2, 3, 4, 6, 2, 3, 4, 5, 6, 1, 2, 3, 5, 6, 1, 2, 4, 6, 1, 2, 3, 4, 5, 6, 1, 2, 3, 4, 5, 6, 2, 3, 4, 5, 6, 4, 5, 2, 2, 2, 4, 6, 1, 3, 4, 5, 6, 1, 1, 1, 2, 3, 4, 5, 5, 4, 2, 4, 6, 1, 2, 4, 5, 6, 1, 2, 4, 5, 4, 4, 6, 4, 5, 5, 2, 4, 6, 1, 2, 3, 4, 5, 6, 2, 3, 6, 1, 2, 3, 4, 5, 6, 1, 2, 3, 4, 6, 6, 1, 2, 3, 4, 5, 6, 1, 2, 3, 4, 5, 6, 1, 2, 3, 4, 5, 6, 1, 2, 3, 4, 5, 6, 3, 6, 2, 6, 2, 4, 2, 3, 4, 5, 6, 6, 5, 3, 4, 6, 1, 2, 3, 4, 5, 6, 3, 6, 2, 3, 2, 3, 6, 1, 2, 3, 4, 5, 6, 3, 6, 2, 3, 1, 2, 3, 4, 5, 6, 2, 1, 2, 3, 4, 5, 6, 3, 2, 4, 6, 4, 3, 2, 3, 4, 5, 6, 4, 6, 1, 6, 1, 1, 1, 1, 2, 4, 6, 6, 4, 4, 6, 2, 3, 1, 6, 1, 2, 3, 4, 5, 6, 1, 2, 3, 4, 6, 2, 4, 6, 5, 6, 1, 2, 4, 5, 6, 2, 3, 4, 6, 1, 2, 3, 4, 5, 6, 1, 2, 3, 5, 6, 1, 2, 3, 4, 5, 6, 2, 2, 1, 2, 3, 4, 5, 6, 5, 3, 5, 3, 1, 2, 3, 4, 5, 6, 1, 2, 3, 4, 5, 6, 4, 1, 2, 4, 5, 1, 6, 2, 1, 2, 3, 4, 5, 6, 2, 4, 5, 6, 4, 2, 3, 4, 5, 6, 1, 2, 5, 1, 2, 1, 2, 3, 4, 5, 6, 1, 2, 3, 4, 5, 6, 5, 5, 6, 1, 1, 1, 2, 3, 4, 6, 1, 2, 3, 4, 5, 6, 2, 4, 6, 5, 3, 4, 1, 2, 4, 5, 6, 5, 6, 3, 2, 3, 4, 6, 2, 6, 6, 4, 1, 2, 5, 6, 1, 2, 3, 4, 6, 6, 1, 5, 5, 1, 2, 3, 4, 5, 6, 1, 2, 1, 2, 3, 4, 5, 6, 2, 6, 6, 2, 5, 1, 2, 3, 5, 6, 2, 5, 2, 2, 3, 4, 5, 6, 6, 6, 2, 6, 1, 2, 5, 1, 2, 3, 4, 5, 6, 2, 6, 2, 5, 6, 4, 6, 2, 4, 2, 4, 2, 3, 4, 5, 6, 2, 3, 4, 5, 6, 2, 2, 4, 6, 6, 1, 3, 4, 6, 1, 4, 5, 6, 1, 2, 3, 4, 5, 6, 1, 4, 4, 3, 4, 2, 2, 4, 6, 4, 6, 1, 2, 3, 4, 5, 6, 4, 5, 1, 2, 3, 4, 5, 6, 1, 2, 3, 4, 5, 6, 1, 2, 3, 4, 6, 4, 2, 4, 4, 1, 2, 3, 4, 5, 6, 1, 2, 3, 4, 5, 6, 6, 2, 3, 4, 1, 2, 3, 4, 6, 2, 4, 1, 2, 4, 1, 2, 3, 4, 5, 6, 4, 2, 2, 3, 4, 5, 6, 1, 2, 3, 4, 5, 6, 1, 2, 3, 4, 5, 6, 1, 2, 3, 4, 5, 6, 5, 1, 2, 3, 6, 1, 1, 3, 1, 3, 4, 5, 6, 3], \"Freq\": [0.9984402656555176, 0.9981429576873779, 0.9816567301750183, 0.8850900530815125, 0.03793242946267128, 0.07586485892534256, 0.007611368782818317, 0.07611368596553802, 0.9133642315864563, 0.9773299098014832, 0.00435465294867754, 0.9885061979293823, 0.00435465294867754, 0.9883508086204529, 0.906969428062439, 0.088651143014431, 0.9962858557701111, 0.3722452223300934, 0.4015171229839325, 0.05491717904806137, 0.03134423866868019, 0.037043191492557526, 0.10309923440217972, 0.9958876967430115, 0.905225396156311, 0.003303742269054055, 0.08920104056596756, 0.914437472820282, 0.6243004202842712, 0.10215824842453003, 0.03594456985592842, 0.23647743463516235, 0.9899852275848389, 0.5275411009788513, 0.3351116180419922, 0.07380108535289764, 0.0010933494195342064, 0.06232091784477234, 0.9776453971862793, 0.9691754579544067, 0.09116224944591522, 0.14038985967636108, 0.3190678656101227, 0.1276271492242813, 0.311774879693985, 0.00729297986254096, 0.9849147796630859, 0.05050855875015259, 0.9428264498710632, 0.01683618687093258, 0.9768007397651672, 0.9904650449752808, 0.006854429375380278, 0.9894250631332397, 0.9992441534996033, 0.0006538699963130057, 0.5586829781532288, 0.08076199889183044, 0.123993419110775, 0.21093133091926575, 0.025653811171650887, 0.9823548197746277, 0.29045477509498596, 0.09172256290912628, 0.0021838706452399492, 0.6158515214920044, 0.07377331703901291, 0.04566919803619385, 0.08150195330381393, 0.18197418749332428, 0.4046993553638458, 0.21218611299991608, 0.10833895206451416, 0.8667116165161133, 0.3724956512451172, 0.29883044958114624, 0.029188090935349464, 0.17095881700515747, 0.025018364191055298, 0.10285327583551407, 0.9803382754325867, 0.9675433039665222, 0.029026299715042114, 0.052253223955631256, 0.9460583925247192, 0.21912094950675964, 0.15858303010463715, 0.572478175163269, 0.0006580209010280669, 0.049351565539836884, 0.922459065914154, 0.09457430243492126, 0.08012109249830246, 0.5548778176307678, 0.04210284724831581, 0.06346847116947174, 0.16495518386363983, 0.9468705654144287, 0.014567239210009575, 0.006243102718144655, 0.010405170731246471, 0.020810341462492943, 0.9988757371902466, 0.000777335197199136, 0.9989131093025208, 0.01540171355009079, 0.1617179960012436, 0.8162907958030701, 0.9965161681175232, 0.9846629500389099, 0.9526997208595276, 0.04536665230989456, 0.9558091163635254, 0.026924200356006622, 0.9818652272224426, 0.013268448412418365, 0.2939138412475586, 0.053438879549503326, 0.6546263098716736, 0.01604698970913887, 0.9146783947944641, 0.06418795883655548, 0.31933608651161194, 0.009326922707259655, 0.047078754752874374, 0.02309523895382881, 0.4432509243488312, 0.15766941010951996, 0.6727458238601685, 0.044209010899066925, 0.05189753696322441, 0.024987701326608658, 0.030754094943404198, 0.1768360435962677, 0.012537854723632336, 0.9779526591300964, 0.9884623885154724, 0.9266217947006226, 0.003321225056424737, 0.006642450112849474, 0.06310327351093292, 0.9921104907989502, 0.03439709544181824, 0.04422483593225479, 0.8599274158477783, 0.05896645039319992, 0.9634037613868713, 0.017030177637934685, 0.05473985895514488, 0.5328012704849243, 0.21895943582057953, 0.004865765105932951, 0.1715182214975357, 0.09806662052869797, 0.032688871026039124, 0.03957074135541916, 0.0189251359552145, 0.808619499206543, 0.03768696263432503, 0.026919258758425713, 0.09152548015117645, 0.8398808836936951, 0.010990391485393047, 0.08425967395305634, 0.010990391485393047, 0.8938851952552795, 0.6504620313644409, 0.1791379451751709, 0.001739203347824514, 0.1634851098060608, 0.00521760992705822, 0.7416898608207703, 0.13850834965705872, 0.07819019258022308, 0.0022340056020766497, 0.04244610667228699, 0.05020178481936455, 0.9308247566223145, 0.00418348191305995, 0.012550446204841137, 0.002091740956529975, 0.002298901788890362, 0.08046156167984009, 0.7471430897712708, 0.009195607155561447, 0.1563253253698349, 0.002298901788890362, 0.962699830532074, 0.001170170260593295, 0.001170170260593295, 0.9700711369514465, 0.001170170260593295, 0.02457357570528984, 0.001170170260593295, 0.03315736725926399, 0.8841964602470398, 0.08841964602470398, 0.9536395072937012, 0.24594765901565552, 0.7476809024810791, 0.9914249777793884, 0.9937202334403992, 0.15593241155147552, 0.00283513474278152, 0.8391999006271362, 0.9865795969963074, 0.9945704340934753, 0.08090312033891678, 0.04045156016945839, 0.8494827151298523, 0.0038703824393451214, 0.15868566930294037, 0.8127803206443787, 0.007740764878690243, 0.011611146852374077, 0.9789398312568665, 0.013410135172307491, 0.006367735099047422, 0.9912440776824951, 0.0010612892219796777, 0.9543654322624207, 0.04387887194752693, 0.24823710322380066, 0.02555381879210472, 0.0024336969945579767, 0.7118563652038574, 0.010951636359095573, 0.9427292346954346, 0.9248961210250854, 0.23270507156848907, 0.7593533992767334, 0.991208553314209, 0.04827607423067093, 0.26262184977531433, 0.09365558624267578, 0.27131155133247375, 0.022206993773579597, 0.3012427091598511, 0.9801895022392273, 0.00875169225037098, 0.9810293912887573, 0.9704877734184265, 0.9849492907524109, 0.9875968098640442, 0.9708613157272339, 0.07435216754674911, 0.07435216754674911, 0.07435216754674911, 0.780697762966156, 0.005894945934414864, 0.01768483780324459, 0.9284539818763733, 0.002947472967207432, 0.002947472967207432, 0.04421209543943405, 0.9984445571899414, 0.986653208732605, 0.06616893410682678, 0.08507434278726578, 0.003150901524350047, 0.8066307902336121, 0.040961720049381256, 0.005094529595226049, 0.16845910251140594, 0.469036340713501, 0.33216333389282227, 0.002037811791524291, 0.0234348364174366, 0.9940952658653259, 0.9680398106575012, 0.9943529963493347, 0.9141098260879517, 0.9966750741004944, 0.044585682451725006, 0.40405774116516113, 0.5489612221717834, 0.9866911172866821, 0.006491389125585556, 0.9919065237045288, 0.034573186188936234, 0.04609758406877518, 0.05762197822332382, 0.858567476272583, 0.09619002789258957, 0.1292104870080948, 0.07896196097135544, 0.08470465242862701, 0.6101606488227844, 0.9881190061569214, 0.2550053000450134, 0.016630781814455986, 0.016630781814455986, 0.313213050365448, 0.39913874864578247, 0.6640351414680481, 0.1992105394601822, 0.02697642706334591, 0.06847862154245377, 0.012450658716261387, 0.029051536694169044, 0.8793175220489502, 0.01436072587966919, 0.9765293598175049, 0.007180362939834595, 0.04147008806467056, 0.09802020341157913, 0.018850039690732956, 0.8369417786598206, 0.4020647704601288, 0.07600004225969315, 0.06946241110563278, 0.08907531946897507, 0.265591561794281, 0.09806457161903381, 0.08869481086730957, 0.32077956199645996, 0.039912667125463486, 0.028086690232157707, 0.4981692135334015, 0.02365195006132126, 0.9752780199050903, 0.9528833031654358, 0.9461658000946045, 0.045530930161476135, 0.03902651369571686, 0.8195567727088928, 0.09106186032295227, 0.9752582311630249, 0.9913489818572998, 0.960374116897583, 0.9662200808525085, 0.17451491951942444, 0.5148189663887024, 0.305401086807251, 0.9898209571838379, 0.0024261234793812037, 0.7618027925491333, 0.18923762440681458, 0.04367022216320038, 0.004852246958762407, 0.11385869234800339, 0.12334691733121872, 0.009488224051892757, 0.7495697140693665, 0.32630211114883423, 0.6695322394371033, 0.001751174102537334, 0.001167449401691556, 0.000583724700845778, 0.9485548138618469, 0.006703567691147327, 0.040221404284238815, 0.9768226742744446, 0.9780469536781311, 0.18654409050941467, 0.8083577156066895, 0.7820256948471069, 0.0018798693781718612, 0.18234732747077942, 0.03383764997124672, 0.9837709665298462, 0.93718022108078, 0.9181612133979797, 0.9350758790969849, 0.21892671287059784, 0.13528776168823242, 0.004110460635274649, 0.010722940787672997, 0.6283643245697021, 0.002680735196918249, 0.9933310151100159, 0.004096210468560457, 0.11982221156358719, 0.07508858293294907, 0.4617149233818054, 0.09505895525217056, 0.1525736153125763, 0.09585776925086975, 0.9923366904258728, 0.9631738662719727, 0.024696767330169678, 0.9774983525276184, 0.019999966025352478, 0.9679535627365112, 0.990950345993042, 0.005630399566143751, 0.9984285831451416, 0.10991880297660828, 0.15119397640228271, 0.15464285016059875, 0.054514385759830475, 0.5257856845855713, 0.0038938845973461866, 0.8981950879096985, 0.005283500533550978, 0.08981950581073761, 0.9574921727180481, 0.12991146743297577, 0.0926220640540123, 0.2465912103652954, 0.09743359684944153, 0.25380852818489075, 0.1792297065258026, 0.7052819728851318, 0.001399368979036808, 0.002798737958073616, 0.289669394493103, 0.8866139054298401, 0.16036778688430786, 0.10691185295581818, 0.09284450858831406, 0.09565797448158264, 0.5261188745498657, 0.01688081957399845, 0.17993365228176117, 0.2602611780166626, 0.0032131008338183165, 0.03213100880384445, 0.05462271720170975, 0.4723258316516876, 0.9833977222442627, 0.9051873087882996, 0.9130908846855164, 0.008951871655881405, 0.07161497324705124, 0.5031589269638062, 0.09593302011489868, 0.09593302011489868, 0.3054194152355194, 0.580833911895752, 0.17143554985523224, 0.10746706277132034, 0.021749285981059074, 0.11770202219486237, 0.0250661950558424, 0.0401059128344059, 0.15791703760623932, 0.7143865823745728, 0.06266549229621887, 0.2532993257045746, 0.011257748119533062, 0.1069486066699028, 0.6304338574409485, 0.006107121706008911, 0.012214243412017822, 0.9547467231750488, 0.014249950647354126, 0.008142828941345215, 0.004071414470672607, 0.05224202945828438, 0.15429623425006866, 0.7285535931587219, 0.018223963677883148, 0.03685290738940239, 0.00971944723278284, 0.059068772941827774, 0.034214697778224945, 0.6668638586997986, 0.00064556032884866, 0.23885732889175415, 0.040498167276382446, 0.9719559550285339, 0.9659681916236877, 0.9720101952552795, 0.09356231242418289, 0.12474975734949112, 0.7796859741210938, 0.9146766662597656, 0.05245457589626312, 0.0163920558989048, 0.01311364397406578, 0.00655682198703289, 0.9967033863067627, 0.9826879501342773, 0.9894784688949585, 0.004701470024883747, 0.9473462104797363, 0.04701469838619232, 0.0023507350124418736, 0.9605438709259033, 0.9507542252540588, 0.10585318505764008, 0.79389888048172, 0.09409172087907791, 0.4380825459957123, 0.1334160566329956, 0.164280965924263, 0.2628495395183563, 0.0009956421563401818, 0.0620308481156826, 0.08511209487915039, 0.8496783375740051, 0.001442577806301415, 0.9489865303039551, 0.9879014492034912, 0.01110001653432846, 0.9586928486824036, 0.018797898665070534, 0.9532575011253357, 0.0192311629652977, 0.9166854023933411, 0.0576934888958931, 0.3173615634441376, 0.2515473961830139, 0.1069984957575798, 0.28627145290374756, 0.012113036587834358, 0.02584114484488964, 0.005415730644017458, 0.9315056800842285, 0.059573035687208176, 0.1497448831796646, 0.34838607907295227, 0.20271587371826172, 0.12529674172401428, 0.1263154149055481, 0.04787761718034744, 0.7471905946731567, 0.0854719877243042, 0.0027571609243750572, 0.0055143218487501144, 0.15715816617012024, 0.9585212469100952, 0.8599687218666077, 0.017542056739330292, 0.0383477509021759, 0.04977048560976982, 0.02080569416284561, 0.013462508097290993, 0.7646327018737793, 0.06834705919027328, 0.00213584559969604, 0.07689043879508972, 0.00213584559969604, 0.08543382585048676, 0.42298436164855957, 0.21999438107013702, 0.22530825436115265, 0.10096360743045807, 0.0021255495958030224, 0.028694920241832733, 0.09257611632347107, 0.15391138195991516, 0.43335941433906555, 0.2691299617290497, 0.03382037952542305, 0.01719680242240429, 0.9975701570510864, 0.0018482077866792679, 0.027036089450120926, 0.9462631344795227, 0.9813365340232849, 0.009620945900678635, 0.9607859253883362, 0.015202309004962444, 0.006080923601984978, 0.003040461800992489, 0.012161847203969955, 0.9849890470504761, 0.9384312033653259, 0.9696238040924072, 0.0076650106348097324, 0.019162526354193687, 0.3686186671257019, 0.14718227088451385, 0.03182319179177284, 0.013259664177894592, 0.3792263865470886, 0.059668488800525665, 0.9893894195556641, 0.005653653759509325, 0.7490891814231873, 0.24969640374183655, 0.9552541971206665, 0.023935753852128983, 0.017407821491360664, 0.32554367184638977, 0.34902551770210266, 0.004269425291568041, 0.07364758849143982, 0.12594804167747498, 0.12274598330259323, 0.9457603693008423, 0.053660161793231964, 0.8426117300987244, 0.15287892520427704, 0.1304294466972351, 0.10009702295064926, 0.09504161775112152, 0.38825511932373047, 0.002022162079811096, 0.28512483835220337, 0.9616149067878723, 0.15590226650238037, 0.40934768319129944, 0.06586245447397232, 0.1742437183856964, 0.18925034999847412, 0.0058359140530228615, 0.9909830689430237, 0.018175572156906128, 0.9178664684295654, 0.06361450254917145, 0.9928113222122192, 0.9770300388336182, 0.001418447238393128, 0.872817873954773, 0.06477575749158859, 0.0018912629457190633, 0.058629151433706284, 0.2976202666759491, 0.6925394535064697, 0.9740290641784668, 0.025046462193131447, 0.9931092858314514, 0.9918292164802551, 0.9965209364891052, 0.9939327836036682, 0.01486980076879263, 0.8574918508529663, 0.1288716048002243, 0.966059148311615, 0.9946978092193604, 0.982720673084259, 0.011561419814825058, 0.0024824566207826138, 0.9979475736618042, 0.027386873960494995, 0.9311537146568298, 0.013461804948747158, 0.18218308687210083, 0.475650429725647, 0.19564490020275116, 0.10500207543373108, 0.027821063995361328, 0.0008610279764980078, 0.5381425023078918, 0.4554837942123413, 0.0025830839294940233, 0.0025830839294940233, 0.9833707809448242, 0.010339241474866867, 0.9822279214859009, 0.008931317366659641, 0.9824448823928833, 0.7693187594413757, 0.054368820041418076, 0.002718440955504775, 0.013592205010354519, 0.1576695740222931, 0.012396484613418579, 0.9607275724411011, 0.0061982423067092896, 0.01859472692012787, 0.23673121631145477, 0.08154075592756271, 0.0012140062171965837, 0.01477040909230709, 0.664061427116394, 0.0018210093257948756, 0.05782604590058327, 0.8631072640419006, 0.012850232422351837, 0.04283410683274269, 0.021417053416371346, 0.09707260876893997, 0.0558902882039547, 0.09413101524114609, 0.0058831884525716305, 0.07648144662380219, 0.6706834435462952, 0.9831260442733765, 0.9815042018890381, 0.031207960098981857, 0.03267083317041397, 0.0609530471265316, 0.06973028928041458, 0.7797114253044128, 0.026331717148423195, 0.9251182675361633, 0.9832659363746643, 0.0192797239869833, 0.9727175831794739, 0.2516050934791565, 0.11580151319503784, 0.1547529250383377, 0.10422135889530182, 0.2895037829875946, 0.08421928435564041, 0.15048500895500183, 0.0888228565454483, 0.484488308429718, 0.09469544142484665, 0.012479244731366634, 0.1695709079504013, 0.9944565296173096, 0.3202904462814331, 0.1712292581796646, 0.003822081722319126, 0.5045148134231567, 0.032881658524274826, 0.9535681009292603, 0.9680654406547546, 0.000825646216981113, 0.11311353743076324, 0.10403142869472504, 0.7719792127609253, 0.000825646216981113, 0.009082108736038208, 0.00794320460408926, 0.9750283360481262, 0.011914806440472603, 0.00397160230204463, 0.9947404265403748, 0.2511756122112274, 0.033875659108161926, 0.7138675451278687, 0.0008262355695478618, 0.0016524711390957236, 0.26316219568252563, 0.045113515108823776, 0.6842216849327087, 0.9806601405143738, 0.016481682658195496, 0.1068420484662056, 0.162979394197464, 0.17203380167484283, 0.0787733718752861, 0.46177494525909424, 0.018108822405338287, 0.10072090476751328, 0.12949830293655396, 0.02158305048942566, 0.06474915146827698, 0.6690745949745178, 0.007194350473582745, 0.9449353814125061, 0.907505989074707, 0.9677220582962036, 0.9969586730003357, 0.9983632564544678, 0.2394385039806366, 0.09744590520858765, 0.1809709668159485, 0.09466173499822617, 0.3897836208343506, 0.009368850849568844, 0.014053275808691978, 0.28106552362442017, 0.032790977507829666, 0.004684425424784422, 0.6605039834976196, 0.8417764902114868, 0.15685275197029114, 0.9801669120788574, 0.9519535303115845, 0.9610812067985535, 0.023441005498170853, 0.044184379279613495, 0.2172398567199707, 0.014728126116096973, 0.5928070545196533, 0.1288710981607437, 0.7044670581817627, 0.27912846207618713, 0.9871785640716553, 0.5726611018180847, 0.00188789376989007, 0.3549240231513977, 0.07048136740922928, 0.9940160512924194, 0.9547078609466553, 0.9763165712356567, 0.9474225044250488, 0.016956396400928497, 0.011304264888167381, 0.6895601749420166, 0.2769544720649719, 0.11453282088041306, 0.15686017274856567, 0.6125016212463379, 0.07967500388622284, 0.03734765946865082, 0.9839832782745361, 0.24677865207195282, 0.7482965588569641, 0.95194011926651, 0.04196199029684067, 0.3446877598762512, 0.023978279903531075, 0.5584940910339355, 0.014986424706876278, 0.0159855205565691, 0.9904463887214661, 0.9724984765052795, 0.1582639515399933, 0.25362810492515564, 0.018261224031448364, 0.44232743978500366, 0.05884172394871712, 0.06898684799671173, 0.03360433503985405, 0.940921425819397, 0.9810391664505005, 0.9809451103210449, 0.9423640370368958, 0.001042518182657659, 0.021892881020903587, 0.9236711263656616, 0.001042518182657659, 0.05316842719912529, 0.9095121026039124, 0.08894282579421997, 0.9928262829780579, 0.9131820201873779, 0.006047562696039677, 0.06652319431304932, 0.012095125392079353, 0.006047562696039677, 0.9765901565551758, 0.9619823098182678, 0.01454633753746748, 0.9891509413719177, 0.13925231993198395, 0.8539057374000549, 0.002627402311190963, 0.3811558783054352, 0.3938937187194824, 0.0019596703350543976, 0.02449587918817997, 0.035274066030979156, 0.1626526415348053, 0.9573575854301453, 0.03934346139431, 0.9963348507881165, 0.9242671132087708, 0.9684710502624512, 0.9858117699623108, 0.949577271938324, 0.9786853790283203, 0.012082535773515701, 0.9931800365447998, 0.007411791477352381, 0.40623724460601807, 0.3659599721431732, 0.02252061478793621, 0.14176438748836517, 0.0633753165602684, 0.3433934450149536, 0.27603548765182495, 0.14924407005310059, 0.03169785812497139, 0.1994323432445526, 0.9947754144668579, 0.012751308269798756, 0.8925915956497192, 0.08925916254520416, 0.9704779982566833, 0.007940370589494705, 0.039701852947473526, 0.09528444707393646, 0.8575600385665894, 0.188298299908638, 0.0043790303170681, 0.7926044464111328, 0.013137090019881725, 0.38272571563720703, 0.0797547847032547, 0.3117244839668274, 0.11720062792301178, 0.06419287621974945, 0.044254180043935776, 0.9973389506340027, 0.9729528427124023, 0.9763972759246826, 0.0456286258995533, 0.9429916143417358, 0.9668283462524414, 0.019232673570513725, 0.21155941486358643, 0.7596906423568726, 0.02894003689289093, 0.9550212025642395, 0.17379628121852875, 0.2490854561328888, 0.3365471363067627, 0.16861169040203094, 0.012848751619458199, 0.05928459390997887, 0.9473705887794495, 0.03266794979572296, 0.2360507845878601, 0.010774102061986923, 0.0029383914079517126, 0.005876782815903425, 0.7424336075782776, 0.0019589276053011417, 0.5865864753723145, 0.047707587480545044, 0.03578069061040878, 0.12469028681516647, 0.011926896870136261, 0.19408313930034637, 0.06958658993244171, 0.8437373638153076, 0.008698323741555214, 0.030444132164120674, 0.04349161684513092, 0.9410008192062378, 0.9912042021751404, 0.993896484375, 0.9530520439147949, 0.026856889948248863, 0.07161837071180344, 0.07161837071180344, 0.06266608089208603, 0.04476148262619972, 0.7161837220191956, 0.06054501608014107, 0.5662739872932434, 0.11930929869413376, 0.14958180487155914, 0.007122943177819252, 0.09615973383188248, 0.9360272884368896, 0.5756977200508118, 0.42128869891166687, 0.001906283781863749, 0.33961614966392517, 0.17139506340026855, 0.11743735522031784, 0.1190243512392044, 0.25074464082717896, 0.9108805656433105, 0.08739075064659119, 0.005196509882807732, 0.005196509882807732, 0.9873369336128235, 0.14825162291526794, 0.04659336432814598, 0.11860129237174988, 0.025414563715457916, 0.055064886808395386, 0.6057137250900269, 0.9866576790809631, 0.9787717461585999, 0.34096649289131165, 0.03866630047559738, 0.14060473442077637, 0.024605829268693924, 0.4534502625465393, 0.3256617784500122, 0.02171078510582447, 0.08322467654943466, 0.010855392552912235, 0.04342157021164894, 0.5102034211158752, 0.6911525130271912, 0.04987243190407753, 0.0017653958639129996, 0.0013240468688309193, 0.16418181359767914, 0.09180058538913727, 0.009622731246054173, 0.223384827375412, 0.06735911965370178, 0.24056828022003174, 0.4179014563560486, 0.04192761331796646, 0.9459561705589294, 0.14547273516654968, 0.10752332955598831, 0.012649803422391415, 0.7273637056350708, 0.9953330159187317, 0.9632543325424194, 0.029367510229349136, 0.010340373031795025, 0.9714205861091614, 0.0022978605702519417, 0.0011489302851259708, 0.014361628331243992, 0.9978415966033936], \"Term\": [\"aa\", \"aaa\", \"adapter\", \"ads\", \"ads\", \"ads\", \"advertised\", \"advertised\", \"advertised\", \"advertising\", \"age\", \"age\", \"age\", \"ages\", \"alexa\", \"alexa\", \"alkaline\", \"amazon\", \"amazon\", \"amazon\", \"amazon\", \"amazon\", \"amazon\", \"amazonbasics\", \"android\", \"android\", \"android\", \"anybody\", \"app\", \"app\", \"app\", \"app\", \"appropriate\", \"apps\", \"apps\", \"apps\", \"apps\", \"apps\", \"areas\", \"associate\", \"awesome\", \"awesome\", \"awesome\", \"awesome\", \"awesome\", \"awesome\", \"backlight\", \"bag\", \"bag\", \"bag\", \"bang\", \"basics\", \"basics\", \"batch\", \"batteries\", \"batteries\", \"battery\", \"battery\", \"battery\", \"battery\", \"battery\", \"beach\", \"beat\", \"beat\", \"beat\", \"beat\", \"best\", \"best\", \"best\", \"best\", \"best\", \"best\", \"bestbuy\", \"bestbuy\", \"better\", \"better\", \"better\", \"better\", \"better\", \"better\", \"bezel\", \"birthday\", \"birthday\", \"book\", \"book\", \"books\", \"books\", \"books\", \"books\", \"books\", \"bored\", \"bought\", \"bought\", \"bought\", \"bought\", \"bought\", \"bought\", \"box\", \"box\", \"box\", \"box\", \"box\", \"brand\", \"brand\", \"brands\", \"broke\", \"broke\", \"broke\", \"browsing\", \"buck\", \"bulk\", \"bulk\", \"bumper\", \"bumper\", \"busy\", \"busy\", \"button\", \"button\", \"button\", \"buttons\", \"buttons\", \"buttons\", \"buy\", \"buy\", \"buy\", \"buy\", \"buy\", \"buy\", \"buying\", \"buying\", \"buying\", \"buying\", \"buying\", \"buying\", \"cable\", \"cable\", \"candles\", \"card\", \"card\", \"card\", \"card\", \"cardboard\", \"carry\", \"carry\", \"carry\", \"carry\", \"cartoons\", \"case\", \"case\", \"case\", \"case\", \"case\", \"case\", \"charge\", \"charge\", \"charge\", \"charge\", \"charge\", \"charger\", \"charger\", \"charger\", \"charger\", \"charging\", \"charging\", \"charging\", \"charging\", \"cheap\", \"cheap\", \"cheap\", \"cheap\", \"cheap\", \"cheaper\", \"cheaper\", \"cheaper\", \"cheaper\", \"cheaper\", \"child\", \"child\", \"child\", \"child\", \"child\", \"children\", \"children\", \"children\", \"children\", \"children\", \"children\", \"choices\", \"christmas\", \"christmas\", \"christmas\", \"christmas\", \"christmas\", \"christmas\", \"comfortable\", \"comfortable\", \"comfortable\", \"companion\", \"connection\", \"connection\", \"controller\", \"controllers\", \"controls\", \"controls\", \"controls\", \"cord\", \"costco\", \"costs\", \"costs\", \"costs\", \"cover\", \"cover\", \"cover\", \"cover\", \"cover\", \"dad\", \"dad\", \"daughter\", \"daughter\", \"daughter\", \"dead\", \"dead\", \"deal\", \"deal\", \"deal\", \"deal\", \"deal\", \"december\", \"decorations\", \"delivery\", \"delivery\", \"described\", \"device\", \"device\", \"device\", \"device\", \"device\", \"device\", \"die\", \"die\", \"directions\", \"disable\", \"dot\", \"downfall\", \"drains\", \"durability\", \"durability\", \"durability\", \"durability\", \"durable\", \"durable\", \"durable\", \"durable\", \"durable\", \"durable\", \"duracell\", \"duracells\", \"easier\", \"easier\", \"easier\", \"easier\", \"easier\", \"easy\", \"easy\", \"easy\", \"easy\", \"easy\", \"easy\", \"echo\", \"ecosystem\", \"educational\", \"encourage\", \"energizer\", \"enjoy\", \"enjoy\", \"enjoy\", \"enjoys\", \"enjoys\", \"entertained\", \"exactly\", \"exactly\", \"exactly\", \"exactly\", \"excellent\", \"excellent\", \"excellent\", \"excellent\", \"excellent\", \"expandable\", \"expected\", \"expected\", \"expected\", \"expected\", \"expected\", \"expensive\", \"expensive\", \"expensive\", \"expensive\", \"expensive\", \"expensive\", \"explained\", \"eyes\", \"eyes\", \"eyes\", \"family\", \"family\", \"family\", \"family\", \"far\", \"far\", \"far\", \"far\", \"far\", \"far\", \"fast\", \"fast\", \"fast\", \"fast\", \"fast\", \"fast\", \"fi\", \"field\", \"fingertips\", \"fits\", \"fits\", \"fits\", \"fits\", \"fix\", \"flashlights\", \"follow\", \"format\", \"friday\", \"friday\", \"friday\", \"friend\", \"friendly\", \"friendly\", \"friendly\", \"friendly\", \"friendly\", \"friends\", \"friends\", \"friends\", \"friends\", \"games\", \"games\", \"games\", \"games\", \"games\", \"gb\", \"gb\", \"gb\", \"geek\", \"gen\", \"generation\", \"generation\", \"gift\", \"gift\", \"gift\", \"gift\", \"glare\", \"glass\", \"godson\", \"gonna\", \"good\", \"good\", \"good\", \"good\", \"good\", \"good\", \"google\", \"google\", \"got\", \"got\", \"got\", \"got\", \"got\", \"got\", \"grand\", \"grandchild\", \"grandchild\", \"granddaughter\", \"granddaughter\", \"granddaughters\", \"grandkids\", \"grandkids\", \"grandson\", \"great\", \"great\", \"great\", \"great\", \"great\", \"great\", \"half\", \"half\", \"half\", \"handed\", \"happy\", \"happy\", \"happy\", \"happy\", \"happy\", \"happy\", \"hd\", \"hd\", \"hd\", \"hd\", \"heart\", \"highly\", \"highly\", \"highly\", \"highly\", \"highly\", \"highly\", \"home\", \"home\", \"home\", \"home\", \"home\", \"home\", \"hulu\", \"husbands\", \"install\", \"install\", \"install\", \"internet\", \"internet\", \"internet\", \"internet\", \"ipad\", \"ipad\", \"ipad\", \"ipad\", \"ipad\", \"item\", \"item\", \"item\", \"item\", \"item\", \"keyboard\", \"keyboard\", \"keyboard\", \"keyboard\", \"kid\", \"kid\", \"kid\", \"kid\", \"kid\", \"kid\", \"kids\", \"kids\", \"kids\", \"kids\", \"kids\", \"kids\", \"kindle\", \"kindle\", \"kindle\", \"kindle\", \"kindle\", \"knowledgeable\", \"knowledgeable\", \"lacks\", \"lag\", \"laptop\", \"laptop\", \"laptop\", \"lasted\", \"lasted\", \"lasted\", \"lasted\", \"lasted\", \"lasting\", \"leak\", \"leaked\", \"learning\", \"learning\", \"learning\", \"learning\", \"learns\", \"leather\", \"library\", \"library\", \"library\", \"life\", \"life\", \"life\", \"life\", \"life\", \"light\", \"light\", \"light\", \"light\", \"lighted\", \"lighter\", \"lighter\", \"lighting\", \"lighting\", \"lightning\", \"lightweight\", \"lightweight\", \"lightweight\", \"like\", \"like\", \"like\", \"like\", \"like\", \"like\", \"likes\", \"likes\", \"likes\", \"little\", \"little\", \"little\", \"little\", \"little\", \"little\", \"ll\", \"ll\", \"ll\", \"ll\", \"ll\", \"logic\", \"long\", \"long\", \"long\", \"long\", \"long\", \"long\", \"longer\", \"longer\", \"longer\", \"longer\", \"longer\", \"longer\", \"lot\", \"lot\", \"lot\", \"lot\", \"lot\", \"lot\", \"love\", \"love\", \"love\", \"love\", \"love\", \"love\", \"loves\", \"loves\", \"magazine\", \"magazine\", \"media\", \"media\", \"memory\", \"memory\", \"memory\", \"memory\", \"memory\", \"menu\", \"modern\", \"mom\", \"mom\", \"mom\", \"money\", \"money\", \"money\", \"money\", \"money\", \"money\", \"mother\", \"mother\", \"movies\", \"movies\", \"music\", \"music\", \"music\", \"need\", \"need\", \"need\", \"need\", \"need\", \"need\", \"nephew\", \"nephew\", \"netflix\", \"netflix\", \"new\", \"new\", \"new\", \"new\", \"new\", \"new\", \"nexus\", \"nice\", \"nice\", \"nice\", \"nice\", \"nice\", \"nice\", \"niece\", \"nook\", \"nook\", \"nook\", \"oasis\", \"occupied\", \"old\", \"old\", \"old\", \"old\", \"old\", \"original\", \"original\", \"pack\", \"pack\", \"package\", \"packaged\", \"packaging\", \"packs\", \"page\", \"page\", \"page\", \"paired\", \"paper\", \"paperwhite\", \"paperwhite\", \"parental\", \"parental\", \"penny\", \"penny\", \"perfect\", \"perfect\", \"perfect\", \"perfect\", \"perfect\", \"perfect\", \"play\", \"play\", \"play\", \"play\", \"play\", \"player\", \"plug\", \"plug\", \"port\", \"port\", \"power\", \"power\", \"power\", \"power\", \"power\", \"present\", \"present\", \"present\", \"present\", \"price\", \"price\", \"price\", \"price\", \"price\", \"price\", \"prime\", \"prime\", \"prime\", \"prime\", \"prime\", \"problem\", \"problem\", \"problem\", \"problem\", \"problem\", \"problem\", \"processing\", \"processor\", \"product\", \"product\", \"product\", \"product\", \"product\", \"product\", \"prompt\", \"protected\", \"protected\", \"protects\", \"purchase\", \"purchase\", \"purchase\", \"purchase\", \"purchase\", \"purchase\", \"purchased\", \"purchased\", \"purchased\", \"purchased\", \"purchased\", \"purchased\", \"purse\", \"quality\", \"quality\", \"quality\", \"quality\", \"quit\", \"quit\", \"ram\", \"read\", \"read\", \"read\", \"read\", \"read\", \"read\", \"reader\", \"reader\", \"reader\", \"reader\", \"readers\", \"reading\", \"reading\", \"reading\", \"reading\", \"reading\", \"reasonable\", \"reasonable\", \"reasonable\", \"rechargeable\", \"rechargeable\", \"recommend\", \"recommend\", \"recommend\", \"recommend\", \"recommend\", \"recommend\", \"recommended\", \"recommended\", \"recommended\", \"recommended\", \"recommended\", \"recommended\", \"recommending\", \"refused\", \"registered\", \"remote\", \"remotes\", \"replace\", \"replace\", \"replace\", \"replace\", \"replace\", \"replacement\", \"replacement\", \"replacement\", \"replacement\", \"replacement\", \"replacement\", \"resolution\", \"resolution\", \"restart\", \"router\", \"rubber\", \"rubber\", \"sale\", \"sale\", \"sale\", \"sale\", \"sale\", \"sales\", \"sales\", \"savvy\", \"screen\", \"screen\", \"screen\", \"screen\", \"sd\", \"searches\", \"seconds\", \"sensitive\", \"service\", \"service\", \"service\", \"service\", \"set\", \"set\", \"set\", \"set\", \"set\", \"shape\", \"shipping\", \"shipping\", \"sim\", \"size\", \"size\", \"size\", \"size\", \"size\", \"size\", \"sizes\", \"slower\", \"small\", \"small\", \"small\", \"small\", \"small\", \"small\", \"smartphone\", \"smartphone\", \"snap\", \"social\", \"solar\", \"son\", \"son\", \"son\", \"son\", \"son\", \"sound\", \"sound\", \"speaker\", \"speed\", \"speed\", \"speed\", \"speed\", \"speed\", \"squad\", \"square\", \"step\", \"step\", \"storage\", \"storage\", \"storage\", \"store\", \"store\", \"store\", \"store\", \"store\", \"store\", \"stream\", \"stream\", \"streaming\", \"string\", \"student\", \"sunlight\", \"supports\", \"surf\", \"surf\", \"surfing\", \"surfing\", \"tablet\", \"tablet\", \"tablet\", \"tablet\", \"tablet\", \"tablets\", \"tablets\", \"tablets\", \"tablets\", \"tablets\", \"tap\", \"text\", \"text\", \"text\", \"textbooks\", \"th\", \"th\", \"th\", \"th\", \"thanks\", \"thanks\", \"thanks\", \"thanks\", \"time\", \"time\", \"time\", \"time\", \"time\", \"time\", \"toys\", \"travelling\", \"travels\", \"turning\", \"turning\", \"underground\", \"upgraded\", \"upgraded\", \"upgraded\", \"usb\", \"usb\", \"use\", \"use\", \"use\", \"use\", \"use\", \"use\", \"vacation\", \"vacation\", \"value\", \"value\", \"value\", \"value\", \"value\", \"value\", \"ve\", \"ve\", \"ve\", \"ve\", \"ve\", \"ve\", \"video\", \"video\", \"video\", \"video\", \"video\", \"visuals\", \"voice\", \"voyage\", \"voyager\", \"wait\", \"wait\", \"wait\", \"wait\", \"wait\", \"wait\", \"want\", \"want\", \"want\", \"want\", \"want\", \"want\", \"washington\", \"watch\", \"watch\", \"watch\", \"way\", \"way\", \"way\", \"way\", \"way\", \"web\", \"web\", \"weight\", \"weight\", \"weight\", \"went\", \"went\", \"went\", \"went\", \"went\", \"went\", \"white\", \"wi\", \"wifi\", \"wifi\", \"wifi\", \"wifi\", \"wifi\", \"won\", \"won\", \"won\", \"won\", \"won\", \"won\", \"work\", \"work\", \"work\", \"work\", \"work\", \"work\", \"works\", \"works\", \"works\", \"works\", \"works\", \"works\", \"worn\", \"wouldn\", \"wouldn\", \"wouldn\", \"wouldn\", \"wrapped\", \"xbox\", \"xbox\", \"year\", \"year\", \"year\", \"year\", \"year\", \"yr\"]}, \"R\": 30, \"lambda.step\": 0.01, \"plot.opts\": {\"xlab\": \"PC1\", \"ylab\": \"PC2\"}, \"topic.order\": [3, 5, 6, 1, 4, 2]};\n",
       "\n",
       "function LDAvis_load_lib(url, callback){\n",
       "  var s = document.createElement('script');\n",
       "  s.src = url;\n",
       "  s.async = true;\n",
       "  s.onreadystatechange = s.onload = callback;\n",
       "  s.onerror = function(){console.warn(\"failed to load library \" + url);};\n",
       "  document.getElementsByTagName(\"head\")[0].appendChild(s);\n",
       "}\n",
       "\n",
       "if(typeof(LDAvis) !== \"undefined\"){\n",
       "   // already loaded: just create the visualization\n",
       "   !function(LDAvis){\n",
       "       new LDAvis(\"#\" + \"ldavis_el1898423641857777603485584357\", ldavis_el1898423641857777603485584357_data);\n",
       "   }(LDAvis);\n",
       "}else if(typeof define === \"function\" && define.amd){\n",
       "   // require.js is available: use it to load d3/LDAvis\n",
       "   require.config({paths: {d3: \"https://cdnjs.cloudflare.com/ajax/libs/d3/3.5.5/d3.min\"}});\n",
       "   require([\"d3\"], function(d3){\n",
       "      window.d3 = d3;\n",
       "      LDAvis_load_lib(\"https://cdn.rawgit.com/bmabey/pyLDAvis/files/ldavis.v1.0.0.js\", function(){\n",
       "        new LDAvis(\"#\" + \"ldavis_el1898423641857777603485584357\", ldavis_el1898423641857777603485584357_data);\n",
       "      });\n",
       "    });\n",
       "}else{\n",
       "    // require.js not available: dynamically load d3 & LDAvis\n",
       "    LDAvis_load_lib(\"https://cdnjs.cloudflare.com/ajax/libs/d3/3.5.5/d3.min.js\", function(){\n",
       "         LDAvis_load_lib(\"https://cdn.rawgit.com/bmabey/pyLDAvis/files/ldavis.v1.0.0.js\", function(){\n",
       "                 new LDAvis(\"#\" + \"ldavis_el1898423641857777603485584357\", ldavis_el1898423641857777603485584357_data);\n",
       "            })\n",
       "         });\n",
       "}\n",
       "</script>"
      ],
      "text/plain": [
       "PreparedData(topic_coordinates=              x         y  topics  cluster       Freq\n",
       "topic                                                \n",
       "2     -0.201622  0.104930       1        1  24.570812\n",
       "4      0.044778 -0.013413       2        1  19.567377\n",
       "5      0.190613 -0.157903       3        1  19.373442\n",
       "0      0.112047  0.078725       4        1  13.732844\n",
       "3     -0.205638 -0.164893       5        1  12.141881\n",
       "1      0.059823  0.152554       6        1  10.613634, topic_info=     Category         Freq        Term        Total  loglift  logprob\n",
       "18    Default  7646.000000   batteries  7646.000000  30.0000  30.0000\n",
       "21    Default  8988.000000       great  8988.000000  29.0000  29.0000\n",
       "34    Default  5595.000000        good  5595.000000  28.0000  28.0000\n",
       "17    Default  4942.000000       price  4942.000000  27.0000  27.0000\n",
       "2075  Default  3098.000000      kindle  3098.000000  26.0000  26.0000\n",
       "1856  Default  2164.000000       loves  2164.000000  25.0000  25.0000\n",
       "2432  Default  6926.000000      tablet  6926.000000  24.0000  24.0000\n",
       "164   Default  2050.000000     product  2050.000000  23.0000  23.0000\n",
       "105   Default  1740.000000        year  1740.000000  22.0000  22.0000\n",
       "520   Default  2114.000000         old  2114.000000  21.0000  21.0000\n",
       "754   Default  2944.000000        easy  2944.000000  20.0000  20.0000\n",
       "20    Default  1286.000000       brand  1286.000000  19.0000  19.0000\n",
       "191   Default  2469.000000        kids  2469.000000  18.0000  18.0000\n",
       "29    Default  2251.000000         buy  2251.000000  17.0000  17.0000\n",
       "23    Default  2451.000000        long  2451.000000  16.0000  16.0000\n",
       "651   Default  1713.000000       games  1713.000000  15.0000  15.0000\n",
       "785   Default  1211.000000        read  1211.000000  14.0000  14.0000\n",
       "945   Default  1210.000000     reading  1210.000000  13.0000  13.0000\n",
       "386   Default  1020.000000       value  1020.000000  12.0000  12.0000\n",
       "1267  Default   942.000000    daughter   942.000000  11.0000  11.0000\n",
       "1678  Default  1589.000000      screen  1589.000000  10.0000  10.0000\n",
       "9     Default  2265.000000        work  2265.000000   9.0000   9.0000\n",
       "28    Default  3182.000000      bought  3182.000000   8.0000   8.0000\n",
       "2086  Default  1519.000000       books  1519.000000   7.0000   7.0000\n",
       "7     Default  1308.000000     quality  1308.000000   6.0000   6.0000\n",
       "31    Default   854.000000   christmas   854.000000   5.0000   5.0000\n",
       "90    Default  3489.000000        love  3489.000000   4.0000   4.0000\n",
       "727   Default   959.000000         son   959.000000   3.0000   3.0000\n",
       "74    Default   869.000000      brands   869.000000   2.0000   2.0000\n",
       "431   Default   821.000000        deal   821.000000   1.0000   1.0000\n",
       "...       ...          ...         ...          ...      ...      ...\n",
       "2526   Topic6    75.619965  connection   101.647644   1.9472  -6.0669\n",
       "1019   Topic6   142.843597        went   236.085114   1.7406  -5.4309\n",
       "1209   Topic6    79.955040        wait   111.703178   1.9087  -6.0112\n",
       "316    Topic6   111.968307    keyboard   177.655426   1.7814  -5.6744\n",
       "765    Topic6    97.512558      button   149.703735   1.8144  -5.8126\n",
       "2075   Topic6   740.483826      kindle  3098.083740   0.8118  -3.7853\n",
       "510    Topic6   141.430374         won   276.360352   1.5731  -5.4408\n",
       "234    Topic6   312.302399      device  1035.709717   1.0442  -4.6487\n",
       "424    Topic6   147.023483        home   311.225830   1.4931  -5.4020\n",
       "237    Topic6   282.337189         new   989.040405   0.9894  -4.7495\n",
       "28     Topic6   524.748413      bought  3182.682617   0.4405  -4.1297\n",
       "221    Topic6   301.686951        best  1423.278809   0.6917  -4.6832\n",
       "2785   Topic6   206.581497          hd   714.607788   1.0020  -5.0619\n",
       "1675   Topic6   129.495255        wifi   284.485443   1.4560  -5.5290\n",
       "29     Topic6   354.927460         buy  2251.546387   0.3956  -4.5207\n",
       "252    Topic6   143.889267    expected   360.776794   1.3238  -5.4236\n",
       "24     Topic6   397.538330      amazon  3860.358398  -0.0302  -4.4073\n",
       "439    Topic6   139.824646     replace   359.173645   1.2996  -5.4522\n",
       "2432   Topic6   439.063385      tablet  6926.986816  -0.5155  -4.3080\n",
       "128    Topic6   230.532700   purchased  1362.261963   0.4665  -4.9522\n",
       "1671   Topic6   155.727539    internet   510.773041   1.0552  -5.3445\n",
       "167    Topic6   179.023849          ve   922.285156   0.6037  -5.2051\n",
       "94     Topic6   262.611694         use  4436.228516  -0.5839  -4.8220\n",
       "14     Topic6   157.978027         way   630.123169   0.8596  -5.3302\n",
       "9      Topic6   207.901062        work  2265.780762  -0.1456  -5.0556\n",
       "412    Topic6   166.063858       store  1020.579834   0.4273  -5.2803\n",
       "2768   Topic6   150.675735     tablets   757.148987   0.6286  -5.3775\n",
       "16     Topic6   149.298080       happy   831.335388   0.5259  -5.3867\n",
       "19     Topic6   147.749146      better  1438.942993  -0.0331  -5.3971\n",
       "280    Topic6   141.222244        case   822.070068   0.4815  -5.4423\n",
       "\n",
       "[446 rows x 6 columns], token_table=      Topic      Freq          Term\n",
       "term                               \n",
       "56        1  0.998440            aa\n",
       "57        1  0.998143           aaa\n",
       "2784      6  0.981657       adapter\n",
       "2139      2  0.885090           ads\n",
       "2139      4  0.037932           ads\n",
       "2139      6  0.075865           ads\n",
       "599       1  0.007611    advertised\n",
       "599       4  0.076114    advertised\n",
       "599       5  0.913364    advertised\n",
       "686       2  0.977330   advertising\n",
       "1777      1  0.004355           age\n",
       "1777      3  0.988506           age\n",
       "1777      4  0.004355           age\n",
       "2017      3  0.988351          ages\n",
       "927       2  0.906969         alexa\n",
       "927       6  0.088651         alexa\n",
       "268       1  0.996286      alkaline\n",
       "24        1  0.372245        amazon\n",
       "24        2  0.401517        amazon\n",
       "24        3  0.054917        amazon\n",
       "24        4  0.031344        amazon\n",
       "24        5  0.037043        amazon\n",
       "24        6  0.103099        amazon\n",
       "25        1  0.995888  amazonbasics\n",
       "2795      2  0.905225       android\n",
       "2795      4  0.003304       android\n",
       "2795      6  0.089201       android\n",
       "2687      5  0.914437       anybody\n",
       "2264      2  0.624300           app\n",
       "2264      3  0.102158           app\n",
       "...     ...       ...           ...\n",
       "510       3  0.083225           won\n",
       "510       4  0.010855           won\n",
       "510       5  0.043422           won\n",
       "510       6  0.510203           won\n",
       "9         1  0.691153          work\n",
       "9         2  0.049872          work\n",
       "9         3  0.001765          work\n",
       "9         4  0.001324          work\n",
       "9         5  0.164182          work\n",
       "9         6  0.091801          work\n",
       "96        1  0.009623         works\n",
       "96        2  0.223385         works\n",
       "96        3  0.067359         works\n",
       "96        4  0.240568         works\n",
       "96        5  0.417901         works\n",
       "96        6  0.041928         works\n",
       "1363      5  0.945956          worn\n",
       "801       1  0.145473        wouldn\n",
       "801       2  0.107523        wouldn\n",
       "801       3  0.012650        wouldn\n",
       "801       6  0.727364        wouldn\n",
       "570       1  0.995333       wrapped\n",
       "151       1  0.963254          xbox\n",
       "151       3  0.029368          xbox\n",
       "105       1  0.010340          year\n",
       "105       3  0.971421          year\n",
       "105       4  0.002298          year\n",
       "105       5  0.001149          year\n",
       "105       6  0.014362          year\n",
       "1803      3  0.997842            yr\n",
       "\n",
       "[983 rows x 3 columns], R=30, lambda_step=0.01, plot_opts={'xlab': 'PC1', 'ylab': 'PC2'}, topic_order=[3, 5, 6, 1, 4, 2])"
      ]
     },
     "execution_count": 74,
     "metadata": {},
     "output_type": "execute_result"
    }
   ],
   "source": [
    "pyLDAvis.gensim.prepare(lda, corpus, id2word)"
   ]
  },
  {
   "cell_type": "code",
   "execution_count": 75,
   "metadata": {},
   "outputs": [
    {
     "data": {
      "text/plain": [
       "[(0, 0.01524379),\n",
       " (1, 0.015174701),\n",
       " (2, 0.6496695),\n",
       " (3, 0.28946745),\n",
       " (4, 0.015277437),\n",
       " (5, 0.015167123)]"
      ]
     },
     "execution_count": 75,
     "metadata": {},
     "output_type": "execute_result"
    }
   ],
   "source": [
    "lda[corpus[0]]"
   ]
  },
  {
   "cell_type": "code",
   "execution_count": 76,
   "metadata": {},
   "outputs": [],
   "source": [
    "distro = [lda[d] for d in corpus]\n",
    "\n",
    "def update(doc):\n",
    "    d_dist = {k:0 for k in range(0,15)}\n",
    "    for t in doc:\n",
    "        d_dist[t[0]] = t[1]\n",
    "    return d_dist\n",
    "\n",
    "new_distro = [update(d) for d in distro]"
   ]
  },
  {
   "cell_type": "code",
   "execution_count": null,
   "metadata": {},
   "outputs": [],
   "source": [
    "new_distro"
   ]
  },
  {
   "cell_type": "code",
   "execution_count": 77,
   "metadata": {},
   "outputs": [
    {
     "data": {
      "text/html": [
       "<div>\n",
       "<style scoped>\n",
       "    .dataframe tbody tr th:only-of-type {\n",
       "        vertical-align: middle;\n",
       "    }\n",
       "\n",
       "    .dataframe tbody tr th {\n",
       "        vertical-align: top;\n",
       "    }\n",
       "\n",
       "    .dataframe thead th {\n",
       "        text-align: right;\n",
       "    }\n",
       "</style>\n",
       "<table border=\"1\" class=\"dataframe\">\n",
       "  <thead>\n",
       "    <tr style=\"text-align: right;\">\n",
       "      <th></th>\n",
       "      <th>id</th>\n",
       "      <th>dateAdded</th>\n",
       "      <th>dateUpdated</th>\n",
       "      <th>name</th>\n",
       "      <th>asins</th>\n",
       "      <th>brand</th>\n",
       "      <th>categories</th>\n",
       "      <th>primaryCategories</th>\n",
       "      <th>imageURLs</th>\n",
       "      <th>keys</th>\n",
       "      <th>...</th>\n",
       "      <th>reviews.doRecommend</th>\n",
       "      <th>reviews.id</th>\n",
       "      <th>reviews.numHelpful</th>\n",
       "      <th>reviews.rating</th>\n",
       "      <th>reviews.sourceURLs</th>\n",
       "      <th>reviews.text</th>\n",
       "      <th>reviews.title</th>\n",
       "      <th>reviews.username</th>\n",
       "      <th>sourceURLs</th>\n",
       "      <th>tokens</th>\n",
       "    </tr>\n",
       "  </thead>\n",
       "  <tbody>\n",
       "    <tr>\n",
       "      <th>0</th>\n",
       "      <td>AVpgNzjwLJeJML43Kpxn</td>\n",
       "      <td>2015-10-30T08:59:32Z</td>\n",
       "      <td>2019-04-25T09:08:16Z</td>\n",
       "      <td>AmazonBasics AAA Performance Alkaline Batterie...</td>\n",
       "      <td>B00QWO9P0O,B00LH3DMUO</td>\n",
       "      <td>amazonbasics</td>\n",
       "      <td>AA,AAA,Health,Electronics,Health &amp; Household,C...</td>\n",
       "      <td>Health &amp; Beauty</td>\n",
       "      <td>https://images-na.ssl-images-amazon.com/images...</td>\n",
       "      <td>amazonbasics/hl002619,amazonbasicsaaaperforman...</td>\n",
       "      <td>...</td>\n",
       "      <td>NaN</td>\n",
       "      <td>NaN</td>\n",
       "      <td>NaN</td>\n",
       "      <td>3</td>\n",
       "      <td>https://www.amazon.com/product-reviews/B00QWO9...</td>\n",
       "      <td>I order 3 of them and one of the item is bad q...</td>\n",
       "      <td>... 3 of them and one of the item is bad quali...</td>\n",
       "      <td>Byger yang</td>\n",
       "      <td>https://www.barcodable.com/upc/841710106442,ht...</td>\n",
       "      <td>[order, item, bad, quality, missing, backup, s...</td>\n",
       "    </tr>\n",
       "  </tbody>\n",
       "</table>\n",
       "<p>1 rows × 25 columns</p>\n",
       "</div>"
      ],
      "text/plain": [
       "                     id             dateAdded           dateUpdated  \\\n",
       "0  AVpgNzjwLJeJML43Kpxn  2015-10-30T08:59:32Z  2019-04-25T09:08:16Z   \n",
       "\n",
       "                                                name                  asins  \\\n",
       "0  AmazonBasics AAA Performance Alkaline Batterie...  B00QWO9P0O,B00LH3DMUO   \n",
       "\n",
       "          brand                                         categories  \\\n",
       "0  amazonbasics  AA,AAA,Health,Electronics,Health & Household,C...   \n",
       "\n",
       "  primaryCategories                                          imageURLs  \\\n",
       "0   Health & Beauty  https://images-na.ssl-images-amazon.com/images...   \n",
       "\n",
       "                                                keys  ... reviews.doRecommend  \\\n",
       "0  amazonbasics/hl002619,amazonbasicsaaaperforman...  ...                 NaN   \n",
       "\n",
       "  reviews.id reviews.numHelpful reviews.rating  \\\n",
       "0        NaN                NaN              3   \n",
       "\n",
       "                                  reviews.sourceURLs  \\\n",
       "0  https://www.amazon.com/product-reviews/B00QWO9...   \n",
       "\n",
       "                                        reviews.text  \\\n",
       "0  I order 3 of them and one of the item is bad q...   \n",
       "\n",
       "                                       reviews.title  reviews.username  \\\n",
       "0  ... 3 of them and one of the item is bad quali...        Byger yang   \n",
       "\n",
       "                                          sourceURLs  \\\n",
       "0  https://www.barcodable.com/upc/841710106442,ht...   \n",
       "\n",
       "                                              tokens  \n",
       "0  [order, item, bad, quality, missing, backup, s...  \n",
       "\n",
       "[1 rows x 25 columns]"
      ]
     },
     "execution_count": 77,
     "metadata": {},
     "output_type": "execute_result"
    }
   ],
   "source": [
    "df.head(1)"
   ]
  },
  {
   "cell_type": "code",
   "execution_count": 82,
   "metadata": {},
   "outputs": [
    {
     "data": {
      "text/plain": [
       "Int64Index([0, 1, 2, 3, 4, 5, 6, 7, 8, 9, 10, 11, 12, 13, 14], dtype='int64')"
      ]
     },
     "execution_count": 82,
     "metadata": {},
     "output_type": "execute_result"
    }
   ],
   "source": [
    "df.columns"
   ]
  },
  {
   "cell_type": "code",
   "execution_count": 83,
   "metadata": {},
   "outputs": [
    {
     "data": {
      "text/html": [
       "<div>\n",
       "<style scoped>\n",
       "    .dataframe tbody tr th:only-of-type {\n",
       "        vertical-align: middle;\n",
       "    }\n",
       "\n",
       "    .dataframe tbody tr th {\n",
       "        vertical-align: top;\n",
       "    }\n",
       "\n",
       "    .dataframe thead th {\n",
       "        text-align: right;\n",
       "    }\n",
       "</style>\n",
       "<table border=\"1\" class=\"dataframe\">\n",
       "  <thead>\n",
       "    <tr style=\"text-align: right;\">\n",
       "      <th></th>\n",
       "      <th>0</th>\n",
       "      <th>1</th>\n",
       "      <th>2</th>\n",
       "      <th>3</th>\n",
       "      <th>4</th>\n",
       "      <th>5</th>\n",
       "      <th>6</th>\n",
       "      <th>7</th>\n",
       "      <th>8</th>\n",
       "      <th>9</th>\n",
       "      <th>10</th>\n",
       "      <th>11</th>\n",
       "      <th>12</th>\n",
       "      <th>13</th>\n",
       "      <th>14</th>\n",
       "    </tr>\n",
       "  </thead>\n",
       "  <tbody>\n",
       "    <tr>\n",
       "      <th>0</th>\n",
       "      <td>0.015244</td>\n",
       "      <td>0.015175</td>\n",
       "      <td>0.649771</td>\n",
       "      <td>0.289366</td>\n",
       "      <td>0.015277</td>\n",
       "      <td>0.015167</td>\n",
       "      <td>0</td>\n",
       "      <td>0</td>\n",
       "      <td>0</td>\n",
       "      <td>0</td>\n",
       "      <td>0</td>\n",
       "      <td>0</td>\n",
       "      <td>0</td>\n",
       "      <td>0</td>\n",
       "      <td>0</td>\n",
       "    </tr>\n",
       "    <tr>\n",
       "      <th>1</th>\n",
       "      <td>0.027965</td>\n",
       "      <td>0.027917</td>\n",
       "      <td>0.860523</td>\n",
       "      <td>0.027834</td>\n",
       "      <td>0.027924</td>\n",
       "      <td>0.027837</td>\n",
       "      <td>0</td>\n",
       "      <td>0</td>\n",
       "      <td>0</td>\n",
       "      <td>0</td>\n",
       "      <td>0</td>\n",
       "      <td>0</td>\n",
       "      <td>0</td>\n",
       "      <td>0</td>\n",
       "      <td>0</td>\n",
       "    </tr>\n",
       "    <tr>\n",
       "      <th>2</th>\n",
       "      <td>0.041763</td>\n",
       "      <td>0.041887</td>\n",
       "      <td>0.353154</td>\n",
       "      <td>0.479617</td>\n",
       "      <td>0.041748</td>\n",
       "      <td>0.041831</td>\n",
       "      <td>0</td>\n",
       "      <td>0</td>\n",
       "      <td>0</td>\n",
       "      <td>0</td>\n",
       "      <td>0</td>\n",
       "      <td>0</td>\n",
       "      <td>0</td>\n",
       "      <td>0</td>\n",
       "      <td>0</td>\n",
       "    </tr>\n",
       "    <tr>\n",
       "      <th>3</th>\n",
       "      <td>0.027838</td>\n",
       "      <td>0.027839</td>\n",
       "      <td>0.860424</td>\n",
       "      <td>0.028237</td>\n",
       "      <td>0.027877</td>\n",
       "      <td>0.027785</td>\n",
       "      <td>0</td>\n",
       "      <td>0</td>\n",
       "      <td>0</td>\n",
       "      <td>0</td>\n",
       "      <td>0</td>\n",
       "      <td>0</td>\n",
       "      <td>0</td>\n",
       "      <td>0</td>\n",
       "      <td>0</td>\n",
       "    </tr>\n",
       "    <tr>\n",
       "      <th>4</th>\n",
       "      <td>0.027809</td>\n",
       "      <td>0.027783</td>\n",
       "      <td>0.615493</td>\n",
       "      <td>0.273267</td>\n",
       "      <td>0.027829</td>\n",
       "      <td>0.027820</td>\n",
       "      <td>0</td>\n",
       "      <td>0</td>\n",
       "      <td>0</td>\n",
       "      <td>0</td>\n",
       "      <td>0</td>\n",
       "      <td>0</td>\n",
       "      <td>0</td>\n",
       "      <td>0</td>\n",
       "      <td>0</td>\n",
       "    </tr>\n",
       "  </tbody>\n",
       "</table>\n",
       "</div>"
      ],
      "text/plain": [
       "         0         1         2         3         4         5   6   7   8   9   \\\n",
       "0  0.015244  0.015175  0.649771  0.289366  0.015277  0.015167   0   0   0   0   \n",
       "1  0.027965  0.027917  0.860523  0.027834  0.027924  0.027837   0   0   0   0   \n",
       "2  0.041763  0.041887  0.353154  0.479617  0.041748  0.041831   0   0   0   0   \n",
       "3  0.027838  0.027839  0.860424  0.028237  0.027877  0.027785   0   0   0   0   \n",
       "4  0.027809  0.027783  0.615493  0.273267  0.027829  0.027820   0   0   0   0   \n",
       "\n",
       "   10  11  12  13  14  \n",
       "0   0   0   0   0   0  \n",
       "1   0   0   0   0   0  \n",
       "2   0   0   0   0   0  \n",
       "3   0   0   0   0   0  \n",
       "4   0   0   0   0   0  "
      ]
     },
     "execution_count": 83,
     "metadata": {},
     "output_type": "execute_result"
    }
   ],
   "source": [
    "df.head()"
   ]
  },
  {
   "cell_type": "code",
   "execution_count": 79,
   "metadata": {},
   "outputs": [
    {
     "ename": "ValueError",
     "evalue": "Length mismatch: Expected axis has 15 elements, new values have 6 elements",
     "output_type": "error",
     "traceback": [
      "\u001b[1;31m---------------------------------------------------------------------------\u001b[0m",
      "\u001b[1;31mValueError\u001b[0m                                Traceback (most recent call last)",
      "\u001b[1;32m<ipython-input-79-568a3770d13c>\u001b[0m in \u001b[0;36m<module>\u001b[1;34m\u001b[0m\n\u001b[0;32m      1\u001b[0m \u001b[0mdf\u001b[0m \u001b[1;33m=\u001b[0m \u001b[0mpd\u001b[0m\u001b[1;33m.\u001b[0m\u001b[0mDataFrame\u001b[0m\u001b[1;33m.\u001b[0m\u001b[0mfrom_records\u001b[0m\u001b[1;33m(\u001b[0m\u001b[0mnew_distro\u001b[0m\u001b[1;33m)\u001b[0m\u001b[1;33m\u001b[0m\u001b[0m\n\u001b[1;32m----> 2\u001b[1;33m \u001b[0mdf\u001b[0m\u001b[1;33m.\u001b[0m\u001b[0mcolumns\u001b[0m\u001b[1;33m=\u001b[0m \u001b[0mtopics\u001b[0m\u001b[1;33m\u001b[0m\u001b[0m\n\u001b[0m",
      "\u001b[1;32m~\\.conda\\envs\\U4-S1-NLP\\lib\\site-packages\\pandas\\core\\generic.py\u001b[0m in \u001b[0;36m__setattr__\u001b[1;34m(self, name, value)\u001b[0m\n\u001b[0;32m   5078\u001b[0m         \u001b[1;32mtry\u001b[0m\u001b[1;33m:\u001b[0m\u001b[1;33m\u001b[0m\u001b[0m\n\u001b[0;32m   5079\u001b[0m             \u001b[0mobject\u001b[0m\u001b[1;33m.\u001b[0m\u001b[0m__getattribute__\u001b[0m\u001b[1;33m(\u001b[0m\u001b[0mself\u001b[0m\u001b[1;33m,\u001b[0m \u001b[0mname\u001b[0m\u001b[1;33m)\u001b[0m\u001b[1;33m\u001b[0m\u001b[0m\n\u001b[1;32m-> 5080\u001b[1;33m             \u001b[1;32mreturn\u001b[0m \u001b[0mobject\u001b[0m\u001b[1;33m.\u001b[0m\u001b[0m__setattr__\u001b[0m\u001b[1;33m(\u001b[0m\u001b[0mself\u001b[0m\u001b[1;33m,\u001b[0m \u001b[0mname\u001b[0m\u001b[1;33m,\u001b[0m \u001b[0mvalue\u001b[0m\u001b[1;33m)\u001b[0m\u001b[1;33m\u001b[0m\u001b[0m\n\u001b[0m\u001b[0;32m   5081\u001b[0m         \u001b[1;32mexcept\u001b[0m \u001b[0mAttributeError\u001b[0m\u001b[1;33m:\u001b[0m\u001b[1;33m\u001b[0m\u001b[0m\n\u001b[0;32m   5082\u001b[0m             \u001b[1;32mpass\u001b[0m\u001b[1;33m\u001b[0m\u001b[0m\n",
      "\u001b[1;32mpandas\\_libs\\properties.pyx\u001b[0m in \u001b[0;36mpandas._libs.properties.AxisProperty.__set__\u001b[1;34m()\u001b[0m\n",
      "\u001b[1;32m~\\.conda\\envs\\U4-S1-NLP\\lib\\site-packages\\pandas\\core\\generic.py\u001b[0m in \u001b[0;36m_set_axis\u001b[1;34m(self, axis, labels)\u001b[0m\n\u001b[0;32m    636\u001b[0m \u001b[1;33m\u001b[0m\u001b[0m\n\u001b[0;32m    637\u001b[0m     \u001b[1;32mdef\u001b[0m \u001b[0m_set_axis\u001b[0m\u001b[1;33m(\u001b[0m\u001b[0mself\u001b[0m\u001b[1;33m,\u001b[0m \u001b[0maxis\u001b[0m\u001b[1;33m,\u001b[0m \u001b[0mlabels\u001b[0m\u001b[1;33m)\u001b[0m\u001b[1;33m:\u001b[0m\u001b[1;33m\u001b[0m\u001b[0m\n\u001b[1;32m--> 638\u001b[1;33m         \u001b[0mself\u001b[0m\u001b[1;33m.\u001b[0m\u001b[0m_data\u001b[0m\u001b[1;33m.\u001b[0m\u001b[0mset_axis\u001b[0m\u001b[1;33m(\u001b[0m\u001b[0maxis\u001b[0m\u001b[1;33m,\u001b[0m \u001b[0mlabels\u001b[0m\u001b[1;33m)\u001b[0m\u001b[1;33m\u001b[0m\u001b[0m\n\u001b[0m\u001b[0;32m    639\u001b[0m         \u001b[0mself\u001b[0m\u001b[1;33m.\u001b[0m\u001b[0m_clear_item_cache\u001b[0m\u001b[1;33m(\u001b[0m\u001b[1;33m)\u001b[0m\u001b[1;33m\u001b[0m\u001b[0m\n\u001b[0;32m    640\u001b[0m \u001b[1;33m\u001b[0m\u001b[0m\n",
      "\u001b[1;32m~\\.conda\\envs\\U4-S1-NLP\\lib\\site-packages\\pandas\\core\\internals\\managers.py\u001b[0m in \u001b[0;36mset_axis\u001b[1;34m(self, axis, new_labels)\u001b[0m\n\u001b[0;32m    153\u001b[0m             raise ValueError(\n\u001b[0;32m    154\u001b[0m                 \u001b[1;34m'Length mismatch: Expected axis has {old} elements, new '\u001b[0m\u001b[1;33m\u001b[0m\u001b[0m\n\u001b[1;32m--> 155\u001b[1;33m                 'values have {new} elements'.format(old=old_len, new=new_len))\n\u001b[0m\u001b[0;32m    156\u001b[0m \u001b[1;33m\u001b[0m\u001b[0m\n\u001b[0;32m    157\u001b[0m         \u001b[0mself\u001b[0m\u001b[1;33m.\u001b[0m\u001b[0maxes\u001b[0m\u001b[1;33m[\u001b[0m\u001b[0maxis\u001b[0m\u001b[1;33m]\u001b[0m \u001b[1;33m=\u001b[0m \u001b[0mnew_labels\u001b[0m\u001b[1;33m\u001b[0m\u001b[0m\n",
      "\u001b[1;31mValueError\u001b[0m: Length mismatch: Expected axis has 15 elements, new values have 6 elements"
     ]
    }
   ],
   "source": [
    "df = pd.DataFrame.from_records(new_distro)\n",
    "df.columns= topics"
   ]
  },
  {
   "cell_type": "markdown",
   "metadata": {},
   "source": [
    "### What topics are people talking about in their amazon tech review?\n",
    "\n"
   ]
  },
  {
   "cell_type": "markdown",
   "metadata": {},
   "source": [
    "## Stretch Goals\n",
    "\n",
    "* Incorporate Named Entity Recognition in your analysis\n",
    "* Incorporate some custom pre-processing from our previous lessons (like spacy lemmatization)\n",
    "* Analyze a dataset of interest to you with topic modeling"
   ]
  }
 ],
 "metadata": {
  "kernelspec": {
   "display_name": "U4-S1-NLP (Python3)",
   "language": "python",
   "name": "u4-s1-nlp"
  },
  "language_info": {
   "codemirror_mode": {
    "name": "ipython",
    "version": 3
   },
   "file_extension": ".py",
   "mimetype": "text/x-python",
   "name": "python",
   "nbconvert_exporter": "python",
   "pygments_lexer": "ipython3",
   "version": "3.7.0"
  }
 },
 "nbformat": 4,
 "nbformat_minor": 4
}
